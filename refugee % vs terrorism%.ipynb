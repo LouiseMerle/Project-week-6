{
 "cells": [
  {
   "cell_type": "code",
   "execution_count": 260,
   "metadata": {},
   "outputs": [],
   "source": [
    "import pandas as pd\n",
    "from sklearn.metrics import mean_squared_error, r2_score\n",
    "from scipy.stats import ttest_ind\n",
    "import seaborn as sns\n",
    "import matplotlib as plt\n",
    "import statsmodels.api as sm\n",
    "\n",
    "\n",
    "pd.set_option('display.max_columns', None)"
   ]
  },
  {
   "cell_type": "code",
   "execution_count": 261,
   "metadata": {},
   "outputs": [
    {
     "data": {
      "text/html": [
       "<div>\n",
       "<style scoped>\n",
       "    .dataframe tbody tr th:only-of-type {\n",
       "        vertical-align: middle;\n",
       "    }\n",
       "\n",
       "    .dataframe tbody tr th {\n",
       "        vertical-align: top;\n",
       "    }\n",
       "\n",
       "    .dataframe thead th {\n",
       "        text-align: right;\n",
       "    }\n",
       "</style>\n",
       "<table border=\"1\" class=\"dataframe\">\n",
       "  <thead>\n",
       "    <tr style=\"text-align: right;\">\n",
       "      <th></th>\n",
       "      <th>Year</th>\n",
       "      <th>Origin</th>\n",
       "      <th>Percentage</th>\n",
       "    </tr>\n",
       "  </thead>\n",
       "  <tbody>\n",
       "    <tr>\n",
       "      <td>0</td>\n",
       "      <td>1970</td>\n",
       "      <td>Democratic Republic of the Congo</td>\n",
       "      <td>148.230332</td>\n",
       "    </tr>\n",
       "    <tr>\n",
       "      <td>1</td>\n",
       "      <td>1971</td>\n",
       "      <td>Democratic Republic of the Congo</td>\n",
       "      <td>605.043096</td>\n",
       "    </tr>\n",
       "    <tr>\n",
       "      <td>2</td>\n",
       "      <td>1972</td>\n",
       "      <td>Democratic Republic of the Congo</td>\n",
       "      <td>-138.785989</td>\n",
       "    </tr>\n",
       "    <tr>\n",
       "      <td>3</td>\n",
       "      <td>1973</td>\n",
       "      <td>Democratic Republic of the Congo</td>\n",
       "      <td>-53.456813</td>\n",
       "    </tr>\n",
       "    <tr>\n",
       "      <td>4</td>\n",
       "      <td>1974</td>\n",
       "      <td>Democratic Republic of the Congo</td>\n",
       "      <td>206.840271</td>\n",
       "    </tr>\n",
       "  </tbody>\n",
       "</table>\n",
       "</div>"
      ],
      "text/plain": [
       "   Year                            Origin  Percentage\n",
       "0  1970  Democratic Republic of the Congo  148.230332\n",
       "1  1971  Democratic Republic of the Congo  605.043096\n",
       "2  1972  Democratic Republic of the Congo -138.785989\n",
       "3  1973  Democratic Republic of the Congo  -53.456813\n",
       "4  1974  Democratic Republic of the Congo  206.840271"
      ]
     },
     "execution_count": 261,
     "metadata": {},
     "output_type": "execute_result"
    }
   ],
   "source": [
    "origin_p = pd.read_csv('./refugee-data/origin_only.csv')\n",
    "del origin_p['Unnamed: 0']\n",
    "origin_p.head()"
   ]
  },
  {
   "cell_type": "code",
   "execution_count": 262,
   "metadata": {},
   "outputs": [
    {
     "data": {
      "text/html": [
       "<div>\n",
       "<style scoped>\n",
       "    .dataframe tbody tr th:only-of-type {\n",
       "        vertical-align: middle;\n",
       "    }\n",
       "\n",
       "    .dataframe tbody tr th {\n",
       "        vertical-align: top;\n",
       "    }\n",
       "\n",
       "    .dataframe thead th {\n",
       "        text-align: right;\n",
       "    }\n",
       "</style>\n",
       "<table border=\"1\" class=\"dataframe\">\n",
       "  <thead>\n",
       "    <tr style=\"text-align: right;\">\n",
       "      <th></th>\n",
       "      <th>Year</th>\n",
       "      <th>Country / territory of asylum/residence</th>\n",
       "      <th>Origin</th>\n",
       "      <th>Population type</th>\n",
       "      <th>Value</th>\n",
       "    </tr>\n",
       "  </thead>\n",
       "  <tbody>\n",
       "    <tr>\n",
       "      <td>644</td>\n",
       "      <td>1970</td>\n",
       "      <td>Argentina</td>\n",
       "      <td>Various/Unknown</td>\n",
       "      <td>Refugees (incl. refugee-like situations)</td>\n",
       "      <td>35000</td>\n",
       "    </tr>\n",
       "    <tr>\n",
       "      <td>645</td>\n",
       "      <td>1970</td>\n",
       "      <td>Australia</td>\n",
       "      <td>Various/Unknown</td>\n",
       "      <td>Refugees (incl. refugee-like situations)</td>\n",
       "      <td>42000</td>\n",
       "    </tr>\n",
       "    <tr>\n",
       "      <td>646</td>\n",
       "      <td>1970</td>\n",
       "      <td>Austria</td>\n",
       "      <td>Various/Unknown</td>\n",
       "      <td>Refugees (incl. refugee-like situations)</td>\n",
       "      <td>25300</td>\n",
       "    </tr>\n",
       "    <tr>\n",
       "      <td>647</td>\n",
       "      <td>1970</td>\n",
       "      <td>Burundi</td>\n",
       "      <td>Dem. Rep. of the Congo</td>\n",
       "      <td>Refugees (incl. refugee-like situations)</td>\n",
       "      <td>7000</td>\n",
       "    </tr>\n",
       "    <tr>\n",
       "      <td>649</td>\n",
       "      <td>1970</td>\n",
       "      <td>Burundi</td>\n",
       "      <td>Rwanda</td>\n",
       "      <td>Refugees (incl. refugee-like situations)</td>\n",
       "      <td>31800</td>\n",
       "    </tr>\n",
       "  </tbody>\n",
       "</table>\n",
       "</div>"
      ],
      "text/plain": [
       "     Year Country / territory of asylum/residence                  Origin  \\\n",
       "644  1970                               Argentina         Various/Unknown   \n",
       "645  1970                               Australia         Various/Unknown   \n",
       "646  1970                                 Austria         Various/Unknown   \n",
       "647  1970                                 Burundi  Dem. Rep. of the Congo   \n",
       "649  1970                                 Burundi                  Rwanda   \n",
       "\n",
       "                              Population type  Value  \n",
       "644  Refugees (incl. refugee-like situations)  35000  \n",
       "645  Refugees (incl. refugee-like situations)  42000  \n",
       "646  Refugees (incl. refugee-like situations)  25300  \n",
       "647  Refugees (incl. refugee-like situations)   7000  \n",
       "649  Refugees (incl. refugee-like situations)  31800  "
      ]
     },
     "execution_count": 262,
     "metadata": {},
     "output_type": "execute_result"
    }
   ],
   "source": [
    "time2 = pd.read_csv('./refugee-data/time_series.csv', low_memory=False)\n",
    "time = time2[(time2.Year < 2016) & (time2.Year > 1969) & \n",
    "            (time2['Population type'] != 'Returnees') &\n",
    "            (time2['Population type'] != 'Others of concern') & \n",
    "             (time2['Population type'] != 'Returned IDPs') &\n",
    "            (time2['Population type'] != 'Stateless')]\n",
    "time.head()"
   ]
  },
  {
   "cell_type": "code",
   "execution_count": 263,
   "metadata": {},
   "outputs": [
    {
     "data": {
      "text/html": [
       "<div>\n",
       "<style scoped>\n",
       "    .dataframe tbody tr th:only-of-type {\n",
       "        vertical-align: middle;\n",
       "    }\n",
       "\n",
       "    .dataframe tbody tr th {\n",
       "        vertical-align: top;\n",
       "    }\n",
       "\n",
       "    .dataframe thead th {\n",
       "        text-align: right;\n",
       "    }\n",
       "</style>\n",
       "<table border=\"1\" class=\"dataframe\">\n",
       "  <thead>\n",
       "    <tr style=\"text-align: right;\">\n",
       "      <th></th>\n",
       "      <th>Year</th>\n",
       "      <th>Origin</th>\n",
       "      <th>Refugees_increase</th>\n",
       "    </tr>\n",
       "  </thead>\n",
       "  <tbody>\n",
       "    <tr>\n",
       "      <td>0</td>\n",
       "      <td>1970</td>\n",
       "      <td>Various/Unknown</td>\n",
       "      <td>-27547</td>\n",
       "    </tr>\n",
       "    <tr>\n",
       "      <td>1</td>\n",
       "      <td>1970</td>\n",
       "      <td>Dem. Rep. of the Congo</td>\n",
       "      <td>-2880</td>\n",
       "    </tr>\n",
       "    <tr>\n",
       "      <td>2</td>\n",
       "      <td>1970</td>\n",
       "      <td>Congo</td>\n",
       "      <td>0</td>\n",
       "    </tr>\n",
       "    <tr>\n",
       "      <td>3</td>\n",
       "      <td>1970</td>\n",
       "      <td>Rwanda</td>\n",
       "      <td>-2880</td>\n",
       "    </tr>\n",
       "    <tr>\n",
       "      <td>4</td>\n",
       "      <td>1970</td>\n",
       "      <td>Nigeria</td>\n",
       "      <td>-2850</td>\n",
       "    </tr>\n",
       "  </tbody>\n",
       "</table>\n",
       "</div>"
      ],
      "text/plain": [
       "   Year                  Origin  Refugees_increase\n",
       "0  1970         Various/Unknown             -27547\n",
       "1  1970  Dem. Rep. of the Congo              -2880\n",
       "2  1970                   Congo                  0\n",
       "3  1970                  Rwanda              -2880\n",
       "4  1970                 Nigeria              -2850"
      ]
     },
     "execution_count": 263,
     "metadata": {},
     "output_type": "execute_result"
    }
   ],
   "source": [
    "refugee_increase = pd.read_csv('./refugee-data/per_origin/2015_no_destination3.csv')\n",
    "del refugee_increase['Unnamed: 0']\n",
    "refugee_increase.head()"
   ]
  },
  {
   "cell_type": "code",
   "execution_count": 264,
   "metadata": {},
   "outputs": [
    {
     "data": {
      "text/plain": [
       "array(['Refugees (incl. refugee-like situations)',\n",
       "       'Internally displaced persons', 'Asylum-seekers'], dtype=object)"
      ]
     },
     "execution_count": 264,
     "metadata": {},
     "output_type": "execute_result"
    }
   ],
   "source": [
    "time['Population type'].unique()"
   ]
  },
  {
   "cell_type": "code",
   "execution_count": 265,
   "metadata": {},
   "outputs": [],
   "source": [
    "total_terrorism2 = pd.read_csv('./terrorism/terrorism_total.csv', low_memory=False)\n",
    "del total_terrorism2['Unnamed: 0']\n",
    "del total_terrorism2['Unnamed: 0.1']\n",
    "total_terrorism = total_terrorism2[total_terrorism2.iyear < 2016]\n",
    "total_terrorism.head()\n",
    "\n",
    "totals = total_terrorism.copy()\n",
    "\n",
    "totals.iyear = pd.to_datetime(totals.iyear, format='%Y')\n"
   ]
  },
  {
   "cell_type": "code",
   "execution_count": 23,
   "metadata": {},
   "outputs": [],
   "source": [
    "totals.to_csv('kepler.csv')"
   ]
  },
  {
   "cell_type": "code",
   "execution_count": 266,
   "metadata": {},
   "outputs": [
    {
     "data": {
      "text/html": [
       "<div>\n",
       "<style scoped>\n",
       "    .dataframe tbody tr th:only-of-type {\n",
       "        vertical-align: middle;\n",
       "    }\n",
       "\n",
       "    .dataframe tbody tr th {\n",
       "        vertical-align: top;\n",
       "    }\n",
       "\n",
       "    .dataframe thead th {\n",
       "        text-align: right;\n",
       "    }\n",
       "</style>\n",
       "<table border=\"1\" class=\"dataframe\">\n",
       "  <thead>\n",
       "    <tr style=\"text-align: right;\">\n",
       "      <th></th>\n",
       "      <th>Year</th>\n",
       "      <th>region</th>\n",
       "      <th>Percentage</th>\n",
       "    </tr>\n",
       "  </thead>\n",
       "  <tbody>\n",
       "    <tr>\n",
       "      <td>0</td>\n",
       "      <td>1970</td>\n",
       "      <td>Central America &amp; Caribbean</td>\n",
       "      <td>-96.952694</td>\n",
       "    </tr>\n",
       "    <tr>\n",
       "      <td>1</td>\n",
       "      <td>1971</td>\n",
       "      <td>Central America &amp; Caribbean</td>\n",
       "      <td>-97.823353</td>\n",
       "    </tr>\n",
       "    <tr>\n",
       "      <td>2</td>\n",
       "      <td>1972</td>\n",
       "      <td>Central America &amp; Caribbean</td>\n",
       "      <td>-98.694012</td>\n",
       "    </tr>\n",
       "    <tr>\n",
       "      <td>3</td>\n",
       "      <td>1973</td>\n",
       "      <td>Central America &amp; Caribbean</td>\n",
       "      <td>-97.388024</td>\n",
       "    </tr>\n",
       "    <tr>\n",
       "      <td>4</td>\n",
       "      <td>1974</td>\n",
       "      <td>Central America &amp; Caribbean</td>\n",
       "      <td>-95.211377</td>\n",
       "    </tr>\n",
       "  </tbody>\n",
       "</table>\n",
       "</div>"
      ],
      "text/plain": [
       "   Year                       region  Percentage\n",
       "0  1970  Central America & Caribbean  -96.952694\n",
       "1  1971  Central America & Caribbean  -97.823353\n",
       "2  1972  Central America & Caribbean  -98.694012\n",
       "3  1973  Central America & Caribbean  -97.388024\n",
       "4  1974  Central America & Caribbean  -95.211377"
      ]
     },
     "execution_count": 266,
     "metadata": {},
     "output_type": "execute_result"
    }
   ],
   "source": [
    "terrorism_p = pd.read_csv('./terrorism/Central Asia_perc.csv')\n",
    "del terrorism_p['Unnamed: 0']\n",
    "terrorism_p.head()\n",
    "\n",
    "#year "
   ]
  },
  {
   "cell_type": "code",
   "execution_count": 267,
   "metadata": {},
   "outputs": [],
   "source": [
    "#terr_country_year = total_terrorism.pivot_table(index = 'country_txt', \n",
    "                                             #   columns = 'success',\n",
    "                                              #  aggfunc = 'count')\n",
    "#pd.set_option('display.max_rows', None)                               \n",
    "#terr_country_year.fillna(0)"
   ]
  },
  {
   "cell_type": "code",
   "execution_count": 268,
   "metadata": {},
   "outputs": [
    {
     "data": {
      "text/plain": [
       "array([1970, 1971, 1972, 1973, 1974, 1975, 1976, 1977, 1978, 1979, 1980,\n",
       "       1981, 1986, 1982, 1983, 1984, 1985, 1987, 1988, 1989, 1990, 1991,\n",
       "       1992, 1994, 1995, 1996, 1997, 1998, 1999, 2000, 2001, 2002, 2003,\n",
       "       2004, 2005, 2006, 2007, 2008, 2009, 2010, 2011, 2012, 2013, 2014,\n",
       "       2015])"
      ]
     },
     "execution_count": 268,
     "metadata": {},
     "output_type": "execute_result"
    }
   ],
   "source": [
    "years = total_terrorism.iyear.unique()\n",
    "years"
   ]
  },
  {
   "cell_type": "code",
   "execution_count": 269,
   "metadata": {},
   "outputs": [],
   "source": [
    "\n",
    "subset = total_terrorism[['iyear', 'success']]\n",
    "\n",
    "\n",
    "year_terrorism = subset.groupby('iyear').count()\n",
    "year_terrorism2 = year_terrorism.reset_index()\n",
    "mean = year_terrorism['success'].mean()\n",
    "mean\n",
    "percentages = []\n",
    "\n",
    "for year in years: \n",
    "    current2 = year_terrorism2[year_terrorism2['iyear'] == year]['success']\n",
    "    current = current2.values[0]\n",
    "    #print(current)\n",
    "    percentage = (current - mean)/mean*100\n",
    "    percentages.append(percentage)\n",
    "    \n"
   ]
  },
  {
   "cell_type": "code",
   "execution_count": 270,
   "metadata": {},
   "outputs": [],
   "source": [
    "mean_terr = pd.DataFrame({'Year': years, 'Attacks % from mean': percentages})\n",
    "\n",
    "mean_terr.Year = pd.to_datetime(mean_terr.Year, format='%Y')\n",
    "mean_terr.index = pd.DatetimeIndex(mean_terr['Year'])\n",
    "\n",
    "del mean_terr['Year']\n",
    "\n",
    "#mean_terr"
   ]
  },
  {
   "cell_type": "code",
   "execution_count": 271,
   "metadata": {},
   "outputs": [],
   "source": [
    "sub_set = refugee_increase[['Year', 'Refugees_increase']]\n",
    "\n",
    "sub_set2 = sub_set.groupby('Year').sum()\n",
    "\n",
    "sub_set3 = sub_set2.reset_index()\n",
    "mean = sub_set3['Refugees_increase'].mean()\n",
    "\n",
    "percentages = []\n",
    "\n",
    "for year in years:\n",
    "    current2 = sub_set3[sub_set3['Year'] == year]['Refugees_increase']\n",
    "\n",
    "    current = current2.values[0]\n",
    "\n",
    "    percentage = (current - mean)/mean*100\n",
    "    percentages.append(percentage)\n",
    "\n",
    "refugee = pd.DataFrame({'Year': years, 'Refugees % from mean': percentages})\n",
    "refugee.Year = pd.to_datetime(refugee.Year, format='%Y')\n",
    "refugee.index = pd.DatetimeIndex(refugee['Year'])\n",
    "\n",
    "del refugee['Year']\n",
    "\n",
    "#refugee"
   ]
  },
  {
   "cell_type": "code",
   "execution_count": 272,
   "metadata": {},
   "outputs": [],
   "source": [
    "merged = pd.merge(refugee, mean_terr, left_index=True, right_index=True)\n",
    "#merged"
   ]
  },
  {
   "cell_type": "code",
   "execution_count": 273,
   "metadata": {},
   "outputs": [
    {
     "data": {
      "text/plain": [
       "Ttest_indResult(statistic=-0.07663591372511573, pvalue=0.9391688124037553)"
      ]
     },
     "execution_count": 273,
     "metadata": {},
     "output_type": "execute_result"
    }
   ],
   "source": [
    "\n",
    "# % attacks\n",
    "\n",
    "# super dependend on each other \n",
    "\n",
    "ttest_ind(merged['Refugees % from mean'], merged['Attacks % from mean'], equal_var=False)"
   ]
  },
  {
   "cell_type": "code",
   "execution_count": 274,
   "metadata": {},
   "outputs": [],
   "source": [
    "X = merged['Refugees % from mean']\n",
    "Y = merged['Attacks % from mean']"
   ]
  },
  {
   "cell_type": "code",
   "execution_count": 291,
   "metadata": {},
   "outputs": [
    {
     "name": "stdout",
     "output_type": "stream",
     "text": [
      "R2 0.598\n"
     ]
    },
    {
     "data": {
      "text/plain": [
       "Text(0.5, 1.0, 'Increase of Attacks vs Increase of Refugees')"
      ]
     },
     "execution_count": 291,
     "metadata": {},
     "output_type": "execute_result"
    },
    {
     "data": {
      "image/png": "[encoded data removed]",
      "text/plain": [
       "<Figure size 432x288 with 1 Axes>"
      ]
     },
     "metadata": {
      "needs_background": "light"
     },
     "output_type": "display_data"
    }
   ],
   "source": [
    "model = sm.OLS(Y,X)\n",
    "results = model.fit()\n",
    "predictions = results.predict(X)\n",
    "\n",
    "print('R2', 0.598)\n",
    "\n",
    "sns.regplot(Y, X).set_title('Increase of Attacks vs Increase of Refugees')\n"
   ]
  },
  {
   "cell_type": "code",
   "execution_count": 278,
   "metadata": {},
   "outputs": [
    {
     "data": {
      "text/plain": [
       "0.7732824955723034"
      ]
     },
     "execution_count": 278,
     "metadata": {},
     "output_type": "execute_result"
    }
   ],
   "source": [
    "\n",
    "correrlation = merged['Refugees % from mean'].corr(merged['Attacks % from mean'])\n",
    "correrlation"
   ]
  },
  {
   "cell_type": "code",
   "execution_count": 279,
   "metadata": {},
   "outputs": [],
   "source": [
    "#for successfull attacks \n",
    "\n",
    "selection = total_terrorism[total_terrorism.success == 1]\n",
    "subset = selection[['iyear', 'success']]\n",
    "\n",
    "year_terrorism = subset.groupby('iyear').count()\n",
    "\n",
    "year_terrorism2 = year_terrorism.reset_index()\n",
    "mean = year_terrorism['success'].mean()\n",
    "mean\n",
    "percentages = []\n",
    "\n",
    "for year in years: \n",
    "    current2 = year_terrorism2[year_terrorism2['iyear'] == year]['success']\n",
    "    current = current2.values[0]\n",
    "    #print(current)\n",
    "    percentage = (current - mean)/mean*100\n",
    "    percentages.append(percentage)\n",
    "    \n",
    "mean_succ = pd.DataFrame({'Year': years, 'Attacks % from mean': percentages})\n",
    "\n",
    "mean_succ.Year = pd.to_datetime(mean_succ.Year, format='%Y')\n",
    "mean_succ.index = pd.DatetimeIndex(mean_succ['Year'])\n",
    "\n",
    "del mean_succ['Year']"
   ]
  },
  {
   "cell_type": "code",
   "execution_count": 289,
   "metadata": {},
   "outputs": [
    {
     "name": "stdout",
     "output_type": "stream",
     "text": [
      "Ttest_indResult(statistic=-0.07705198602074814, pvalue=0.9388436594490437)\n",
      "R2 = 0.595\n",
      "correlation 0.7712318049147571\n"
     ]
    },
    {
     "data": {
      "text/plain": [
       "Text(0.5, 1.0, 'Increase of  Successfull Attacks vs Increase of Refugees')"
      ]
     },
     "execution_count": 289,
     "metadata": {},
     "output_type": "execute_result"
    },
    {
     "data": {
      "image/png": "[encoded data removed]",
      "text/plain": [
       "<Figure size 432x288 with 1 Axes>"
      ]
     },
     "metadata": {
      "needs_background": "light"
     },
     "output_type": "display_data"
    }
   ],
   "source": [
    "success = pd.merge(refugee, mean_succ, left_index=True, right_index=True)\n",
    "print(ttest_ind(success['Refugees % from mean'], success['Attacks % from mean'], equal_var=False))\n",
    "\n",
    "X2 = success['Refugees % from mean']\n",
    "Y2 = success['Attacks % from mean']\n",
    "\n",
    "model = sm.OLS(Y2,X2)\n",
    "results = model.fit()\n",
    "predictions2 = results.predict(X2)\n",
    "\n",
    "print('R2 =', 0.595)\n",
    "\n",
    "print('correlation', success['Refugees % from mean'].corr(success['Attacks % from mean']))\n",
    "sns.regplot(Y2, X2).set_title('Increase of  Successfull Attacks vs Increase of Refugees')\n",
    "\n"
   ]
  },
  {
   "cell_type": "code",
   "execution_count": 295,
   "metadata": {},
   "outputs": [
    {
     "name": "stdout",
     "output_type": "stream",
     "text": [
      "Ttest_indResult(statistic=-0.07175507599253758, pvalue=0.9429967844280446)\n",
      "R2 0.575\n",
      "correlation 0.758239573484679\n"
     ]
    },
    {
     "data": {
      "text/plain": [
       "Text(0.5, 1.0, 'Increase of Unsuccessful Attacks vs Increase of Refugees')"
      ]
     },
     "execution_count": 295,
     "metadata": {},
     "output_type": "execute_result"
    },
    {
     "data": {
      "image/png": "[encoded data removed]",
      "text/plain": [
       "<Figure size 432x288 with 1 Axes>"
      ]
     },
     "metadata": {
      "needs_background": "light"
     },
     "output_type": "display_data"
    }
   ],
   "source": [
    "\n",
    "#for unsuccessfull attacks \n",
    "\n",
    "selection2 = total_terrorism[total_terrorism.success != 1]\n",
    "subset = selection2[['iyear', 'success']]\n",
    "\n",
    "year_terrorism = subset.groupby('iyear').count()\n",
    "\n",
    "year_terrorism2 = year_terrorism.reset_index()\n",
    "mean = year_terrorism['success'].mean()\n",
    "mean\n",
    "percentages = []\n",
    "\n",
    "for year in years: \n",
    "    current2 = year_terrorism2[year_terrorism2['iyear'] == year]['success']\n",
    "    current = current2.values[0]\n",
    "    #print(current)\n",
    "    percentage = (current - mean)/mean*100\n",
    "    percentages.append(percentage)\n",
    "    \n",
    "mean_unsucc = pd.DataFrame({'Year': years, 'Attacks % from mean': percentages})\n",
    "\n",
    "mean_unsucc.Year = pd.to_datetime(mean_unsucc.Year, format='%Y')\n",
    "mean_unsucc.index = pd.DatetimeIndex(mean_unsucc['Year'])\n",
    "\n",
    "del mean_unsucc['Year']\n",
    "\n",
    "\n",
    "\n",
    "success = pd.merge(refugee, mean_unsucc, left_index=True, right_index=True)\n",
    "print(ttest_ind(success['Refugees % from mean'], success['Attacks % from mean'], equal_var=False))\n",
    "\n",
    "X3 = success['Refugees % from mean']\n",
    "Y3 = success['Attacks % from mean']\n",
    "\n",
    "model = sm.OLS(Y3,X3)\n",
    "results = model.fit()\n",
    "predictions2 = results.predict(X3)\n",
    "\n",
    "print('R2', 0.575)\n",
    "\n",
    "print('correlation', success['Refugees % from mean'].corr(success['Attacks % from mean']))\n",
    "\n",
    "sns.regplot(Y3, X3, fit_reg = True).set_title('Increase of Unsuccessful Attacks vs Increase of Refugees')\n"
   ]
  },
  {
   "cell_type": "code",
   "execution_count": 247,
   "metadata": {},
   "outputs": [
    {
     "data": {
      "text/html": [
       "<div>\n",
       "<style scoped>\n",
       "    .dataframe tbody tr th:only-of-type {\n",
       "        vertical-align: middle;\n",
       "    }\n",
       "\n",
       "    .dataframe tbody tr th {\n",
       "        vertical-align: top;\n",
       "    }\n",
       "\n",
       "    .dataframe thead th {\n",
       "        text-align: right;\n",
       "    }\n",
       "</style>\n",
       "<table border=\"1\" class=\"dataframe\">\n",
       "  <thead>\n",
       "    <tr style=\"text-align: right;\">\n",
       "      <th></th>\n",
       "      <th>eventid</th>\n",
       "      <th>iyear</th>\n",
       "      <th>imonth</th>\n",
       "      <th>iday</th>\n",
       "      <th>approxdate</th>\n",
       "      <th>extended</th>\n",
       "      <th>resolution</th>\n",
       "      <th>country</th>\n",
       "      <th>country_txt</th>\n",
       "      <th>region</th>\n",
       "      <th>region_txt</th>\n",
       "      <th>provstate</th>\n",
       "      <th>city</th>\n",
       "      <th>latitude</th>\n",
       "      <th>longitude</th>\n",
       "      <th>specificity</th>\n",
       "      <th>vicinity</th>\n",
       "      <th>location</th>\n",
       "      <th>summary</th>\n",
       "      <th>crit1</th>\n",
       "      <th>crit2</th>\n",
       "      <th>crit3</th>\n",
       "      <th>doubtterr</th>\n",
       "      <th>alternative</th>\n",
       "      <th>alternative_txt</th>\n",
       "      <th>multiple</th>\n",
       "      <th>success</th>\n",
       "      <th>suicide</th>\n",
       "      <th>attacktype1</th>\n",
       "      <th>attacktype1_txt</th>\n",
       "      <th>attacktype2</th>\n",
       "      <th>attacktype2_txt</th>\n",
       "      <th>attacktype3</th>\n",
       "      <th>attacktype3_txt</th>\n",
       "      <th>targtype1</th>\n",
       "      <th>targtype1_txt</th>\n",
       "      <th>targsubtype1</th>\n",
       "      <th>targsubtype1_txt</th>\n",
       "      <th>corp1</th>\n",
       "      <th>target1</th>\n",
       "      <th>natlty1</th>\n",
       "      <th>natlty1_txt</th>\n",
       "      <th>targtype2</th>\n",
       "      <th>targtype2_txt</th>\n",
       "      <th>targsubtype2</th>\n",
       "      <th>targsubtype2_txt</th>\n",
       "      <th>corp2</th>\n",
       "      <th>target2</th>\n",
       "      <th>natlty2</th>\n",
       "      <th>natlty2_txt</th>\n",
       "      <th>targtype3</th>\n",
       "      <th>targtype3_txt</th>\n",
       "      <th>targsubtype3</th>\n",
       "      <th>targsubtype3_txt</th>\n",
       "      <th>corp3</th>\n",
       "      <th>target3</th>\n",
       "      <th>natlty3</th>\n",
       "      <th>natlty3_txt</th>\n",
       "      <th>gname</th>\n",
       "      <th>gsubname</th>\n",
       "      <th>gname2</th>\n",
       "      <th>gsubname2</th>\n",
       "      <th>gname3</th>\n",
       "      <th>gsubname3</th>\n",
       "      <th>motive</th>\n",
       "      <th>guncertain1</th>\n",
       "      <th>guncertain2</th>\n",
       "      <th>guncertain3</th>\n",
       "      <th>individual</th>\n",
       "      <th>nperps</th>\n",
       "      <th>nperpcap</th>\n",
       "      <th>claimed</th>\n",
       "      <th>claimmode</th>\n",
       "      <th>claimmode_txt</th>\n",
       "      <th>claim2</th>\n",
       "      <th>claimmode2</th>\n",
       "      <th>claimmode2_txt</th>\n",
       "      <th>claim3</th>\n",
       "      <th>claimmode3</th>\n",
       "      <th>claimmode3_txt</th>\n",
       "      <th>compclaim</th>\n",
       "      <th>weaptype1</th>\n",
       "      <th>weaptype1_txt</th>\n",
       "      <th>weapsubtype1</th>\n",
       "      <th>weapsubtype1_txt</th>\n",
       "      <th>weaptype2</th>\n",
       "      <th>weaptype2_txt</th>\n",
       "      <th>weapsubtype2</th>\n",
       "      <th>weapsubtype2_txt</th>\n",
       "      <th>weaptype3</th>\n",
       "      <th>weaptype3_txt</th>\n",
       "      <th>weapsubtype3</th>\n",
       "      <th>weapsubtype3_txt</th>\n",
       "      <th>weaptype4</th>\n",
       "      <th>weaptype4_txt</th>\n",
       "      <th>weapsubtype4</th>\n",
       "      <th>weapsubtype4_txt</th>\n",
       "      <th>weapdetail</th>\n",
       "      <th>nkill</th>\n",
       "      <th>nkillus</th>\n",
       "      <th>nkillter</th>\n",
       "      <th>nwound</th>\n",
       "      <th>nwoundus</th>\n",
       "      <th>nwoundte</th>\n",
       "      <th>property</th>\n",
       "      <th>propextent</th>\n",
       "      <th>propextent_txt</th>\n",
       "      <th>propvalue</th>\n",
       "      <th>propcomment</th>\n",
       "      <th>ishostkid</th>\n",
       "      <th>nhostkid</th>\n",
       "      <th>nhostkidus</th>\n",
       "      <th>nhours</th>\n",
       "      <th>ndays</th>\n",
       "      <th>divert</th>\n",
       "      <th>kidhijcountry</th>\n",
       "      <th>ransom</th>\n",
       "      <th>ransomamt</th>\n",
       "      <th>ransomamtus</th>\n",
       "      <th>ransompaid</th>\n",
       "      <th>ransompaidus</th>\n",
       "      <th>ransomnote</th>\n",
       "      <th>hostkidoutcome</th>\n",
       "      <th>hostkidoutcome_txt</th>\n",
       "      <th>nreleased</th>\n",
       "      <th>addnotes</th>\n",
       "      <th>scite1</th>\n",
       "      <th>scite2</th>\n",
       "      <th>scite3</th>\n",
       "      <th>dbsource</th>\n",
       "      <th>INT_LOG</th>\n",
       "      <th>INT_IDEO</th>\n",
       "      <th>INT_MISC</th>\n",
       "      <th>INT_ANY</th>\n",
       "      <th>related</th>\n",
       "    </tr>\n",
       "  </thead>\n",
       "  <tbody>\n",
       "    <tr>\n",
       "      <td>0</td>\n",
       "      <td>197000000001</td>\n",
       "      <td>1970</td>\n",
       "      <td>7</td>\n",
       "      <td>2</td>\n",
       "      <td>NaN</td>\n",
       "      <td>0</td>\n",
       "      <td>NaN</td>\n",
       "      <td>58</td>\n",
       "      <td>Dominican Republic</td>\n",
       "      <td>2</td>\n",
       "      <td>Central America &amp; Caribbean</td>\n",
       "      <td>NaN</td>\n",
       "      <td>Santo Domingo</td>\n",
       "      <td>18.456792</td>\n",
       "      <td>-69.951164</td>\n",
       "      <td>1.0</td>\n",
       "      <td>0</td>\n",
       "      <td>NaN</td>\n",
       "      <td>NaN</td>\n",
       "      <td>1</td>\n",
       "      <td>1</td>\n",
       "      <td>1</td>\n",
       "      <td>0.0</td>\n",
       "      <td>NaN</td>\n",
       "      <td>NaN</td>\n",
       "      <td>0.0</td>\n",
       "      <td>1</td>\n",
       "      <td>0</td>\n",
       "      <td>1</td>\n",
       "      <td>Assassination</td>\n",
       "      <td>NaN</td>\n",
       "      <td>NaN</td>\n",
       "      <td>NaN</td>\n",
       "      <td>NaN</td>\n",
       "      <td>14</td>\n",
       "      <td>Private Citizens &amp; Property</td>\n",
       "      <td>68.0</td>\n",
       "      <td>Named Civilian</td>\n",
       "      <td>NaN</td>\n",
       "      <td>Julio Guzman</td>\n",
       "      <td>58.0</td>\n",
       "      <td>Dominican Republic</td>\n",
       "      <td>NaN</td>\n",
       "      <td>NaN</td>\n",
       "      <td>NaN</td>\n",
       "      <td>NaN</td>\n",
       "      <td>NaN</td>\n",
       "      <td>NaN</td>\n",
       "      <td>NaN</td>\n",
       "      <td>NaN</td>\n",
       "      <td>NaN</td>\n",
       "      <td>NaN</td>\n",
       "      <td>NaN</td>\n",
       "      <td>NaN</td>\n",
       "      <td>NaN</td>\n",
       "      <td>NaN</td>\n",
       "      <td>NaN</td>\n",
       "      <td>NaN</td>\n",
       "      <td>MANO-D</td>\n",
       "      <td>NaN</td>\n",
       "      <td>NaN</td>\n",
       "      <td>NaN</td>\n",
       "      <td>NaN</td>\n",
       "      <td>NaN</td>\n",
       "      <td>NaN</td>\n",
       "      <td>0.0</td>\n",
       "      <td>NaN</td>\n",
       "      <td>NaN</td>\n",
       "      <td>0</td>\n",
       "      <td>NaN</td>\n",
       "      <td>NaN</td>\n",
       "      <td>NaN</td>\n",
       "      <td>NaN</td>\n",
       "      <td>NaN</td>\n",
       "      <td>NaN</td>\n",
       "      <td>NaN</td>\n",
       "      <td>NaN</td>\n",
       "      <td>NaN</td>\n",
       "      <td>NaN</td>\n",
       "      <td>NaN</td>\n",
       "      <td>NaN</td>\n",
       "      <td>13</td>\n",
       "      <td>Unknown</td>\n",
       "      <td>NaN</td>\n",
       "      <td>NaN</td>\n",
       "      <td>NaN</td>\n",
       "      <td>NaN</td>\n",
       "      <td>NaN</td>\n",
       "      <td>NaN</td>\n",
       "      <td>NaN</td>\n",
       "      <td>NaN</td>\n",
       "      <td>NaN</td>\n",
       "      <td>NaN</td>\n",
       "      <td>NaN</td>\n",
       "      <td>NaN</td>\n",
       "      <td>NaN</td>\n",
       "      <td>NaN</td>\n",
       "      <td>NaN</td>\n",
       "      <td>1.0</td>\n",
       "      <td>NaN</td>\n",
       "      <td>NaN</td>\n",
       "      <td>0.0</td>\n",
       "      <td>NaN</td>\n",
       "      <td>NaN</td>\n",
       "      <td>0</td>\n",
       "      <td>NaN</td>\n",
       "      <td>NaN</td>\n",
       "      <td>NaN</td>\n",
       "      <td>NaN</td>\n",
       "      <td>0.0</td>\n",
       "      <td>NaN</td>\n",
       "      <td>NaN</td>\n",
       "      <td>NaN</td>\n",
       "      <td>NaN</td>\n",
       "      <td>NaN</td>\n",
       "      <td>NaN</td>\n",
       "      <td>0.0</td>\n",
       "      <td>NaN</td>\n",
       "      <td>NaN</td>\n",
       "      <td>NaN</td>\n",
       "      <td>NaN</td>\n",
       "      <td>NaN</td>\n",
       "      <td>NaN</td>\n",
       "      <td>NaN</td>\n",
       "      <td>NaN</td>\n",
       "      <td>NaN</td>\n",
       "      <td>NaN</td>\n",
       "      <td>NaN</td>\n",
       "      <td>NaN</td>\n",
       "      <td>PGIS</td>\n",
       "      <td>0</td>\n",
       "      <td>0</td>\n",
       "      <td>0</td>\n",
       "      <td>0</td>\n",
       "      <td>NaN</td>\n",
       "    </tr>\n",
       "    <tr>\n",
       "      <td>1</td>\n",
       "      <td>197000000002</td>\n",
       "      <td>1970</td>\n",
       "      <td>0</td>\n",
       "      <td>0</td>\n",
       "      <td>NaN</td>\n",
       "      <td>0</td>\n",
       "      <td>NaN</td>\n",
       "      <td>130</td>\n",
       "      <td>Mexico</td>\n",
       "      <td>1</td>\n",
       "      <td>North America</td>\n",
       "      <td>Federal</td>\n",
       "      <td>Mexico city</td>\n",
       "      <td>19.371887</td>\n",
       "      <td>-99.086624</td>\n",
       "      <td>1.0</td>\n",
       "      <td>0</td>\n",
       "      <td>NaN</td>\n",
       "      <td>NaN</td>\n",
       "      <td>1</td>\n",
       "      <td>1</td>\n",
       "      <td>1</td>\n",
       "      <td>0.0</td>\n",
       "      <td>NaN</td>\n",
       "      <td>NaN</td>\n",
       "      <td>0.0</td>\n",
       "      <td>1</td>\n",
       "      <td>0</td>\n",
       "      <td>6</td>\n",
       "      <td>Hostage Taking (Kidnapping)</td>\n",
       "      <td>NaN</td>\n",
       "      <td>NaN</td>\n",
       "      <td>NaN</td>\n",
       "      <td>NaN</td>\n",
       "      <td>7</td>\n",
       "      <td>Government (Diplomatic)</td>\n",
       "      <td>45.0</td>\n",
       "      <td>Diplomatic Personnel (outside of embassy, cons...</td>\n",
       "      <td>Belgian Ambassador Daughter</td>\n",
       "      <td>Nadine Chaval, daughter</td>\n",
       "      <td>21.0</td>\n",
       "      <td>Belgium</td>\n",
       "      <td>NaN</td>\n",
       "      <td>NaN</td>\n",
       "      <td>NaN</td>\n",
       "      <td>NaN</td>\n",
       "      <td>NaN</td>\n",
       "      <td>NaN</td>\n",
       "      <td>NaN</td>\n",
       "      <td>NaN</td>\n",
       "      <td>NaN</td>\n",
       "      <td>NaN</td>\n",
       "      <td>NaN</td>\n",
       "      <td>NaN</td>\n",
       "      <td>NaN</td>\n",
       "      <td>NaN</td>\n",
       "      <td>NaN</td>\n",
       "      <td>NaN</td>\n",
       "      <td>23rd of September Communist League</td>\n",
       "      <td>NaN</td>\n",
       "      <td>NaN</td>\n",
       "      <td>NaN</td>\n",
       "      <td>NaN</td>\n",
       "      <td>NaN</td>\n",
       "      <td>NaN</td>\n",
       "      <td>0.0</td>\n",
       "      <td>NaN</td>\n",
       "      <td>NaN</td>\n",
       "      <td>0</td>\n",
       "      <td>7.0</td>\n",
       "      <td>NaN</td>\n",
       "      <td>NaN</td>\n",
       "      <td>NaN</td>\n",
       "      <td>NaN</td>\n",
       "      <td>NaN</td>\n",
       "      <td>NaN</td>\n",
       "      <td>NaN</td>\n",
       "      <td>NaN</td>\n",
       "      <td>NaN</td>\n",
       "      <td>NaN</td>\n",
       "      <td>NaN</td>\n",
       "      <td>13</td>\n",
       "      <td>Unknown</td>\n",
       "      <td>NaN</td>\n",
       "      <td>NaN</td>\n",
       "      <td>NaN</td>\n",
       "      <td>NaN</td>\n",
       "      <td>NaN</td>\n",
       "      <td>NaN</td>\n",
       "      <td>NaN</td>\n",
       "      <td>NaN</td>\n",
       "      <td>NaN</td>\n",
       "      <td>NaN</td>\n",
       "      <td>NaN</td>\n",
       "      <td>NaN</td>\n",
       "      <td>NaN</td>\n",
       "      <td>NaN</td>\n",
       "      <td>NaN</td>\n",
       "      <td>0.0</td>\n",
       "      <td>NaN</td>\n",
       "      <td>NaN</td>\n",
       "      <td>0.0</td>\n",
       "      <td>NaN</td>\n",
       "      <td>NaN</td>\n",
       "      <td>0</td>\n",
       "      <td>NaN</td>\n",
       "      <td>NaN</td>\n",
       "      <td>NaN</td>\n",
       "      <td>NaN</td>\n",
       "      <td>1.0</td>\n",
       "      <td>1.0</td>\n",
       "      <td>0.0</td>\n",
       "      <td>NaN</td>\n",
       "      <td>NaN</td>\n",
       "      <td>NaN</td>\n",
       "      <td>Mexico</td>\n",
       "      <td>1.0</td>\n",
       "      <td>800000.0</td>\n",
       "      <td>NaN</td>\n",
       "      <td>NaN</td>\n",
       "      <td>NaN</td>\n",
       "      <td>NaN</td>\n",
       "      <td>NaN</td>\n",
       "      <td>NaN</td>\n",
       "      <td>NaN</td>\n",
       "      <td>NaN</td>\n",
       "      <td>NaN</td>\n",
       "      <td>NaN</td>\n",
       "      <td>NaN</td>\n",
       "      <td>PGIS</td>\n",
       "      <td>0</td>\n",
       "      <td>1</td>\n",
       "      <td>1</td>\n",
       "      <td>1</td>\n",
       "      <td>NaN</td>\n",
       "    </tr>\n",
       "    <tr>\n",
       "      <td>2</td>\n",
       "      <td>197001000001</td>\n",
       "      <td>1970</td>\n",
       "      <td>1</td>\n",
       "      <td>0</td>\n",
       "      <td>NaN</td>\n",
       "      <td>0</td>\n",
       "      <td>NaN</td>\n",
       "      <td>160</td>\n",
       "      <td>Philippines</td>\n",
       "      <td>5</td>\n",
       "      <td>Southeast Asia</td>\n",
       "      <td>Tarlac</td>\n",
       "      <td>Unknown</td>\n",
       "      <td>15.478598</td>\n",
       "      <td>120.599741</td>\n",
       "      <td>4.0</td>\n",
       "      <td>0</td>\n",
       "      <td>NaN</td>\n",
       "      <td>NaN</td>\n",
       "      <td>1</td>\n",
       "      <td>1</td>\n",
       "      <td>1</td>\n",
       "      <td>0.0</td>\n",
       "      <td>NaN</td>\n",
       "      <td>NaN</td>\n",
       "      <td>0.0</td>\n",
       "      <td>1</td>\n",
       "      <td>0</td>\n",
       "      <td>1</td>\n",
       "      <td>Assassination</td>\n",
       "      <td>NaN</td>\n",
       "      <td>NaN</td>\n",
       "      <td>NaN</td>\n",
       "      <td>NaN</td>\n",
       "      <td>10</td>\n",
       "      <td>Journalists &amp; Media</td>\n",
       "      <td>54.0</td>\n",
       "      <td>Radio Journalist/Staff/Facility</td>\n",
       "      <td>Voice of America</td>\n",
       "      <td>Employee</td>\n",
       "      <td>217.0</td>\n",
       "      <td>United States</td>\n",
       "      <td>NaN</td>\n",
       "      <td>NaN</td>\n",
       "      <td>NaN</td>\n",
       "      <td>NaN</td>\n",
       "      <td>NaN</td>\n",
       "      <td>NaN</td>\n",
       "      <td>NaN</td>\n",
       "      <td>NaN</td>\n",
       "      <td>NaN</td>\n",
       "      <td>NaN</td>\n",
       "      <td>NaN</td>\n",
       "      <td>NaN</td>\n",
       "      <td>NaN</td>\n",
       "      <td>NaN</td>\n",
       "      <td>NaN</td>\n",
       "      <td>NaN</td>\n",
       "      <td>Unknown</td>\n",
       "      <td>NaN</td>\n",
       "      <td>NaN</td>\n",
       "      <td>NaN</td>\n",
       "      <td>NaN</td>\n",
       "      <td>NaN</td>\n",
       "      <td>NaN</td>\n",
       "      <td>0.0</td>\n",
       "      <td>NaN</td>\n",
       "      <td>NaN</td>\n",
       "      <td>0</td>\n",
       "      <td>NaN</td>\n",
       "      <td>NaN</td>\n",
       "      <td>NaN</td>\n",
       "      <td>NaN</td>\n",
       "      <td>NaN</td>\n",
       "      <td>NaN</td>\n",
       "      <td>NaN</td>\n",
       "      <td>NaN</td>\n",
       "      <td>NaN</td>\n",
       "      <td>NaN</td>\n",
       "      <td>NaN</td>\n",
       "      <td>NaN</td>\n",
       "      <td>13</td>\n",
       "      <td>Unknown</td>\n",
       "      <td>NaN</td>\n",
       "      <td>NaN</td>\n",
       "      <td>NaN</td>\n",
       "      <td>NaN</td>\n",
       "      <td>NaN</td>\n",
       "      <td>NaN</td>\n",
       "      <td>NaN</td>\n",
       "      <td>NaN</td>\n",
       "      <td>NaN</td>\n",
       "      <td>NaN</td>\n",
       "      <td>NaN</td>\n",
       "      <td>NaN</td>\n",
       "      <td>NaN</td>\n",
       "      <td>NaN</td>\n",
       "      <td>NaN</td>\n",
       "      <td>1.0</td>\n",
       "      <td>NaN</td>\n",
       "      <td>NaN</td>\n",
       "      <td>0.0</td>\n",
       "      <td>NaN</td>\n",
       "      <td>NaN</td>\n",
       "      <td>0</td>\n",
       "      <td>NaN</td>\n",
       "      <td>NaN</td>\n",
       "      <td>NaN</td>\n",
       "      <td>NaN</td>\n",
       "      <td>0.0</td>\n",
       "      <td>NaN</td>\n",
       "      <td>NaN</td>\n",
       "      <td>NaN</td>\n",
       "      <td>NaN</td>\n",
       "      <td>NaN</td>\n",
       "      <td>NaN</td>\n",
       "      <td>0.0</td>\n",
       "      <td>NaN</td>\n",
       "      <td>NaN</td>\n",
       "      <td>NaN</td>\n",
       "      <td>NaN</td>\n",
       "      <td>NaN</td>\n",
       "      <td>NaN</td>\n",
       "      <td>NaN</td>\n",
       "      <td>NaN</td>\n",
       "      <td>NaN</td>\n",
       "      <td>NaN</td>\n",
       "      <td>NaN</td>\n",
       "      <td>NaN</td>\n",
       "      <td>PGIS</td>\n",
       "      <td>0</td>\n",
       "      <td>0</td>\n",
       "      <td>1</td>\n",
       "      <td>1</td>\n",
       "      <td>NaN</td>\n",
       "    </tr>\n",
       "    <tr>\n",
       "      <td>3</td>\n",
       "      <td>197001000002</td>\n",
       "      <td>1970</td>\n",
       "      <td>1</td>\n",
       "      <td>0</td>\n",
       "      <td>NaN</td>\n",
       "      <td>0</td>\n",
       "      <td>NaN</td>\n",
       "      <td>78</td>\n",
       "      <td>Greece</td>\n",
       "      <td>8</td>\n",
       "      <td>Western Europe</td>\n",
       "      <td>Attica</td>\n",
       "      <td>Athens</td>\n",
       "      <td>37.997490</td>\n",
       "      <td>23.762728</td>\n",
       "      <td>1.0</td>\n",
       "      <td>0</td>\n",
       "      <td>NaN</td>\n",
       "      <td>NaN</td>\n",
       "      <td>1</td>\n",
       "      <td>1</td>\n",
       "      <td>1</td>\n",
       "      <td>0.0</td>\n",
       "      <td>NaN</td>\n",
       "      <td>NaN</td>\n",
       "      <td>0.0</td>\n",
       "      <td>1</td>\n",
       "      <td>0</td>\n",
       "      <td>3</td>\n",
       "      <td>Bombing/Explosion</td>\n",
       "      <td>NaN</td>\n",
       "      <td>NaN</td>\n",
       "      <td>NaN</td>\n",
       "      <td>NaN</td>\n",
       "      <td>7</td>\n",
       "      <td>Government (Diplomatic)</td>\n",
       "      <td>46.0</td>\n",
       "      <td>Embassy/Consulate</td>\n",
       "      <td>NaN</td>\n",
       "      <td>U.S. Embassy</td>\n",
       "      <td>217.0</td>\n",
       "      <td>United States</td>\n",
       "      <td>NaN</td>\n",
       "      <td>NaN</td>\n",
       "      <td>NaN</td>\n",
       "      <td>NaN</td>\n",
       "      <td>NaN</td>\n",
       "      <td>NaN</td>\n",
       "      <td>NaN</td>\n",
       "      <td>NaN</td>\n",
       "      <td>NaN</td>\n",
       "      <td>NaN</td>\n",
       "      <td>NaN</td>\n",
       "      <td>NaN</td>\n",
       "      <td>NaN</td>\n",
       "      <td>NaN</td>\n",
       "      <td>NaN</td>\n",
       "      <td>NaN</td>\n",
       "      <td>Unknown</td>\n",
       "      <td>NaN</td>\n",
       "      <td>NaN</td>\n",
       "      <td>NaN</td>\n",
       "      <td>NaN</td>\n",
       "      <td>NaN</td>\n",
       "      <td>NaN</td>\n",
       "      <td>0.0</td>\n",
       "      <td>NaN</td>\n",
       "      <td>NaN</td>\n",
       "      <td>0</td>\n",
       "      <td>NaN</td>\n",
       "      <td>NaN</td>\n",
       "      <td>NaN</td>\n",
       "      <td>NaN</td>\n",
       "      <td>NaN</td>\n",
       "      <td>NaN</td>\n",
       "      <td>NaN</td>\n",
       "      <td>NaN</td>\n",
       "      <td>NaN</td>\n",
       "      <td>NaN</td>\n",
       "      <td>NaN</td>\n",
       "      <td>NaN</td>\n",
       "      <td>6</td>\n",
       "      <td>Explosives</td>\n",
       "      <td>16.0</td>\n",
       "      <td>Unknown Explosive Type</td>\n",
       "      <td>NaN</td>\n",
       "      <td>NaN</td>\n",
       "      <td>NaN</td>\n",
       "      <td>NaN</td>\n",
       "      <td>NaN</td>\n",
       "      <td>NaN</td>\n",
       "      <td>NaN</td>\n",
       "      <td>NaN</td>\n",
       "      <td>NaN</td>\n",
       "      <td>NaN</td>\n",
       "      <td>NaN</td>\n",
       "      <td>NaN</td>\n",
       "      <td>Explosive</td>\n",
       "      <td>NaN</td>\n",
       "      <td>NaN</td>\n",
       "      <td>NaN</td>\n",
       "      <td>NaN</td>\n",
       "      <td>NaN</td>\n",
       "      <td>NaN</td>\n",
       "      <td>1</td>\n",
       "      <td>NaN</td>\n",
       "      <td>NaN</td>\n",
       "      <td>NaN</td>\n",
       "      <td>NaN</td>\n",
       "      <td>0.0</td>\n",
       "      <td>NaN</td>\n",
       "      <td>NaN</td>\n",
       "      <td>NaN</td>\n",
       "      <td>NaN</td>\n",
       "      <td>NaN</td>\n",
       "      <td>NaN</td>\n",
       "      <td>0.0</td>\n",
       "      <td>NaN</td>\n",
       "      <td>NaN</td>\n",
       "      <td>NaN</td>\n",
       "      <td>NaN</td>\n",
       "      <td>NaN</td>\n",
       "      <td>NaN</td>\n",
       "      <td>NaN</td>\n",
       "      <td>NaN</td>\n",
       "      <td>NaN</td>\n",
       "      <td>NaN</td>\n",
       "      <td>NaN</td>\n",
       "      <td>NaN</td>\n",
       "      <td>PGIS</td>\n",
       "      <td>0</td>\n",
       "      <td>0</td>\n",
       "      <td>1</td>\n",
       "      <td>1</td>\n",
       "      <td>NaN</td>\n",
       "    </tr>\n",
       "    <tr>\n",
       "      <td>4</td>\n",
       "      <td>197001000003</td>\n",
       "      <td>1970</td>\n",
       "      <td>1</td>\n",
       "      <td>0</td>\n",
       "      <td>NaN</td>\n",
       "      <td>0</td>\n",
       "      <td>NaN</td>\n",
       "      <td>101</td>\n",
       "      <td>Japan</td>\n",
       "      <td>4</td>\n",
       "      <td>East Asia</td>\n",
       "      <td>Fukouka</td>\n",
       "      <td>Fukouka</td>\n",
       "      <td>33.580412</td>\n",
       "      <td>130.396361</td>\n",
       "      <td>1.0</td>\n",
       "      <td>0</td>\n",
       "      <td>NaN</td>\n",
       "      <td>NaN</td>\n",
       "      <td>1</td>\n",
       "      <td>1</td>\n",
       "      <td>1</td>\n",
       "      <td>0.0</td>\n",
       "      <td>NaN</td>\n",
       "      <td>NaN</td>\n",
       "      <td>0.0</td>\n",
       "      <td>1</td>\n",
       "      <td>0</td>\n",
       "      <td>7</td>\n",
       "      <td>Facility/Infrastructure Attack</td>\n",
       "      <td>NaN</td>\n",
       "      <td>NaN</td>\n",
       "      <td>NaN</td>\n",
       "      <td>NaN</td>\n",
       "      <td>7</td>\n",
       "      <td>Government (Diplomatic)</td>\n",
       "      <td>46.0</td>\n",
       "      <td>Embassy/Consulate</td>\n",
       "      <td>NaN</td>\n",
       "      <td>U.S. Consulate</td>\n",
       "      <td>217.0</td>\n",
       "      <td>United States</td>\n",
       "      <td>NaN</td>\n",
       "      <td>NaN</td>\n",
       "      <td>NaN</td>\n",
       "      <td>NaN</td>\n",
       "      <td>NaN</td>\n",
       "      <td>NaN</td>\n",
       "      <td>NaN</td>\n",
       "      <td>NaN</td>\n",
       "      <td>NaN</td>\n",
       "      <td>NaN</td>\n",
       "      <td>NaN</td>\n",
       "      <td>NaN</td>\n",
       "      <td>NaN</td>\n",
       "      <td>NaN</td>\n",
       "      <td>NaN</td>\n",
       "      <td>NaN</td>\n",
       "      <td>Unknown</td>\n",
       "      <td>NaN</td>\n",
       "      <td>NaN</td>\n",
       "      <td>NaN</td>\n",
       "      <td>NaN</td>\n",
       "      <td>NaN</td>\n",
       "      <td>NaN</td>\n",
       "      <td>0.0</td>\n",
       "      <td>NaN</td>\n",
       "      <td>NaN</td>\n",
       "      <td>0</td>\n",
       "      <td>NaN</td>\n",
       "      <td>NaN</td>\n",
       "      <td>NaN</td>\n",
       "      <td>NaN</td>\n",
       "      <td>NaN</td>\n",
       "      <td>NaN</td>\n",
       "      <td>NaN</td>\n",
       "      <td>NaN</td>\n",
       "      <td>NaN</td>\n",
       "      <td>NaN</td>\n",
       "      <td>NaN</td>\n",
       "      <td>NaN</td>\n",
       "      <td>8</td>\n",
       "      <td>Incendiary</td>\n",
       "      <td>NaN</td>\n",
       "      <td>NaN</td>\n",
       "      <td>NaN</td>\n",
       "      <td>NaN</td>\n",
       "      <td>NaN</td>\n",
       "      <td>NaN</td>\n",
       "      <td>NaN</td>\n",
       "      <td>NaN</td>\n",
       "      <td>NaN</td>\n",
       "      <td>NaN</td>\n",
       "      <td>NaN</td>\n",
       "      <td>NaN</td>\n",
       "      <td>NaN</td>\n",
       "      <td>NaN</td>\n",
       "      <td>Incendiary</td>\n",
       "      <td>NaN</td>\n",
       "      <td>NaN</td>\n",
       "      <td>NaN</td>\n",
       "      <td>NaN</td>\n",
       "      <td>NaN</td>\n",
       "      <td>NaN</td>\n",
       "      <td>1</td>\n",
       "      <td>NaN</td>\n",
       "      <td>NaN</td>\n",
       "      <td>NaN</td>\n",
       "      <td>NaN</td>\n",
       "      <td>0.0</td>\n",
       "      <td>NaN</td>\n",
       "      <td>NaN</td>\n",
       "      <td>NaN</td>\n",
       "      <td>NaN</td>\n",
       "      <td>NaN</td>\n",
       "      <td>NaN</td>\n",
       "      <td>0.0</td>\n",
       "      <td>NaN</td>\n",
       "      <td>NaN</td>\n",
       "      <td>NaN</td>\n",
       "      <td>NaN</td>\n",
       "      <td>NaN</td>\n",
       "      <td>NaN</td>\n",
       "      <td>NaN</td>\n",
       "      <td>NaN</td>\n",
       "      <td>NaN</td>\n",
       "      <td>NaN</td>\n",
       "      <td>NaN</td>\n",
       "      <td>NaN</td>\n",
       "      <td>PGIS</td>\n",
       "      <td>0</td>\n",
       "      <td>0</td>\n",
       "      <td>1</td>\n",
       "      <td>1</td>\n",
       "      <td>NaN</td>\n",
       "    </tr>\n",
       "  </tbody>\n",
       "</table>\n",
       "</div>"
      ],
      "text/plain": [
       "        eventid  iyear  imonth  iday approxdate  extended resolution  country  \\\n",
       "0  197000000001   1970       7     2        NaN         0        NaN       58   \n",
       "1  197000000002   1970       0     0        NaN         0        NaN      130   \n",
       "2  197001000001   1970       1     0        NaN         0        NaN      160   \n",
       "3  197001000002   1970       1     0        NaN         0        NaN       78   \n",
       "4  197001000003   1970       1     0        NaN         0        NaN      101   \n",
       "\n",
       "          country_txt  region                   region_txt provstate  \\\n",
       "0  Dominican Republic       2  Central America & Caribbean       NaN   \n",
       "1              Mexico       1                North America   Federal   \n",
       "2         Philippines       5               Southeast Asia    Tarlac   \n",
       "3              Greece       8               Western Europe    Attica   \n",
       "4               Japan       4                    East Asia   Fukouka   \n",
       "\n",
       "            city   latitude   longitude  specificity  vicinity location  \\\n",
       "0  Santo Domingo  18.456792  -69.951164          1.0         0      NaN   \n",
       "1    Mexico city  19.371887  -99.086624          1.0         0      NaN   \n",
       "2        Unknown  15.478598  120.599741          4.0         0      NaN   \n",
       "3         Athens  37.997490   23.762728          1.0         0      NaN   \n",
       "4        Fukouka  33.580412  130.396361          1.0         0      NaN   \n",
       "\n",
       "  summary  crit1  crit2  crit3  doubtterr  alternative alternative_txt  \\\n",
       "0     NaN      1      1      1        0.0          NaN             NaN   \n",
       "1     NaN      1      1      1        0.0          NaN             NaN   \n",
       "2     NaN      1      1      1        0.0          NaN             NaN   \n",
       "3     NaN      1      1      1        0.0          NaN             NaN   \n",
       "4     NaN      1      1      1        0.0          NaN             NaN   \n",
       "\n",
       "   multiple  success  suicide  attacktype1                 attacktype1_txt  \\\n",
       "0       0.0        1        0            1                   Assassination   \n",
       "1       0.0        1        0            6     Hostage Taking (Kidnapping)   \n",
       "2       0.0        1        0            1                   Assassination   \n",
       "3       0.0        1        0            3               Bombing/Explosion   \n",
       "4       0.0        1        0            7  Facility/Infrastructure Attack   \n",
       "\n",
       "   attacktype2 attacktype2_txt  attacktype3 attacktype3_txt  targtype1  \\\n",
       "0          NaN             NaN          NaN             NaN         14   \n",
       "1          NaN             NaN          NaN             NaN          7   \n",
       "2          NaN             NaN          NaN             NaN         10   \n",
       "3          NaN             NaN          NaN             NaN          7   \n",
       "4          NaN             NaN          NaN             NaN          7   \n",
       "\n",
       "                 targtype1_txt  targsubtype1  \\\n",
       "0  Private Citizens & Property          68.0   \n",
       "1      Government (Diplomatic)          45.0   \n",
       "2          Journalists & Media          54.0   \n",
       "3      Government (Diplomatic)          46.0   \n",
       "4      Government (Diplomatic)          46.0   \n",
       "\n",
       "                                    targsubtype1_txt  \\\n",
       "0                                     Named Civilian   \n",
       "1  Diplomatic Personnel (outside of embassy, cons...   \n",
       "2                    Radio Journalist/Staff/Facility   \n",
       "3                                  Embassy/Consulate   \n",
       "4                                  Embassy/Consulate   \n",
       "\n",
       "                         corp1                  target1  natlty1  \\\n",
       "0                          NaN             Julio Guzman     58.0   \n",
       "1  Belgian Ambassador Daughter  Nadine Chaval, daughter     21.0   \n",
       "2             Voice of America                 Employee    217.0   \n",
       "3                          NaN             U.S. Embassy    217.0   \n",
       "4                          NaN           U.S. Consulate    217.0   \n",
       "\n",
       "          natlty1_txt  targtype2 targtype2_txt  targsubtype2 targsubtype2_txt  \\\n",
       "0  Dominican Republic        NaN           NaN           NaN              NaN   \n",
       "1             Belgium        NaN           NaN           NaN              NaN   \n",
       "2       United States        NaN           NaN           NaN              NaN   \n",
       "3       United States        NaN           NaN           NaN              NaN   \n",
       "4       United States        NaN           NaN           NaN              NaN   \n",
       "\n",
       "  corp2 target2  natlty2 natlty2_txt  targtype3 targtype3_txt  targsubtype3  \\\n",
       "0   NaN     NaN      NaN         NaN        NaN           NaN           NaN   \n",
       "1   NaN     NaN      NaN         NaN        NaN           NaN           NaN   \n",
       "2   NaN     NaN      NaN         NaN        NaN           NaN           NaN   \n",
       "3   NaN     NaN      NaN         NaN        NaN           NaN           NaN   \n",
       "4   NaN     NaN      NaN         NaN        NaN           NaN           NaN   \n",
       "\n",
       "  targsubtype3_txt corp3 target3  natlty3 natlty3_txt  \\\n",
       "0              NaN   NaN     NaN      NaN         NaN   \n",
       "1              NaN   NaN     NaN      NaN         NaN   \n",
       "2              NaN   NaN     NaN      NaN         NaN   \n",
       "3              NaN   NaN     NaN      NaN         NaN   \n",
       "4              NaN   NaN     NaN      NaN         NaN   \n",
       "\n",
       "                                gname gsubname gname2 gsubname2 gname3  \\\n",
       "0                              MANO-D      NaN    NaN       NaN    NaN   \n",
       "1  23rd of September Communist League      NaN    NaN       NaN    NaN   \n",
       "2                             Unknown      NaN    NaN       NaN    NaN   \n",
       "3                             Unknown      NaN    NaN       NaN    NaN   \n",
       "4                             Unknown      NaN    NaN       NaN    NaN   \n",
       "\n",
       "  gsubname3 motive  guncertain1  guncertain2  guncertain3  individual  nperps  \\\n",
       "0       NaN    NaN          0.0          NaN          NaN           0     NaN   \n",
       "1       NaN    NaN          0.0          NaN          NaN           0     7.0   \n",
       "2       NaN    NaN          0.0          NaN          NaN           0     NaN   \n",
       "3       NaN    NaN          0.0          NaN          NaN           0     NaN   \n",
       "4       NaN    NaN          0.0          NaN          NaN           0     NaN   \n",
       "\n",
       "   nperpcap  claimed  claimmode claimmode_txt  claim2  claimmode2  \\\n",
       "0       NaN      NaN        NaN           NaN     NaN         NaN   \n",
       "1       NaN      NaN        NaN           NaN     NaN         NaN   \n",
       "2       NaN      NaN        NaN           NaN     NaN         NaN   \n",
       "3       NaN      NaN        NaN           NaN     NaN         NaN   \n",
       "4       NaN      NaN        NaN           NaN     NaN         NaN   \n",
       "\n",
       "  claimmode2_txt  claim3  claimmode3 claimmode3_txt  compclaim  weaptype1  \\\n",
       "0            NaN     NaN         NaN            NaN        NaN         13   \n",
       "1            NaN     NaN         NaN            NaN        NaN         13   \n",
       "2            NaN     NaN         NaN            NaN        NaN         13   \n",
       "3            NaN     NaN         NaN            NaN        NaN          6   \n",
       "4            NaN     NaN         NaN            NaN        NaN          8   \n",
       "\n",
       "  weaptype1_txt  weapsubtype1        weapsubtype1_txt  weaptype2  \\\n",
       "0       Unknown           NaN                     NaN        NaN   \n",
       "1       Unknown           NaN                     NaN        NaN   \n",
       "2       Unknown           NaN                     NaN        NaN   \n",
       "3    Explosives          16.0  Unknown Explosive Type        NaN   \n",
       "4    Incendiary           NaN                     NaN        NaN   \n",
       "\n",
       "  weaptype2_txt  weapsubtype2 weapsubtype2_txt  weaptype3 weaptype3_txt  \\\n",
       "0           NaN           NaN              NaN        NaN           NaN   \n",
       "1           NaN           NaN              NaN        NaN           NaN   \n",
       "2           NaN           NaN              NaN        NaN           NaN   \n",
       "3           NaN           NaN              NaN        NaN           NaN   \n",
       "4           NaN           NaN              NaN        NaN           NaN   \n",
       "\n",
       "   weapsubtype3 weapsubtype3_txt  weaptype4 weaptype4_txt  weapsubtype4  \\\n",
       "0           NaN              NaN        NaN           NaN           NaN   \n",
       "1           NaN              NaN        NaN           NaN           NaN   \n",
       "2           NaN              NaN        NaN           NaN           NaN   \n",
       "3           NaN              NaN        NaN           NaN           NaN   \n",
       "4           NaN              NaN        NaN           NaN           NaN   \n",
       "\n",
       "  weapsubtype4_txt  weapdetail  nkill  nkillus  nkillter  nwound  nwoundus  \\\n",
       "0              NaN         NaN    1.0      NaN       NaN     0.0       NaN   \n",
       "1              NaN         NaN    0.0      NaN       NaN     0.0       NaN   \n",
       "2              NaN         NaN    1.0      NaN       NaN     0.0       NaN   \n",
       "3              NaN   Explosive    NaN      NaN       NaN     NaN       NaN   \n",
       "4              NaN  Incendiary    NaN      NaN       NaN     NaN       NaN   \n",
       "\n",
       "   nwoundte  property  propextent propextent_txt  propvalue propcomment  \\\n",
       "0       NaN         0         NaN            NaN        NaN         NaN   \n",
       "1       NaN         0         NaN            NaN        NaN         NaN   \n",
       "2       NaN         0         NaN            NaN        NaN         NaN   \n",
       "3       NaN         1         NaN            NaN        NaN         NaN   \n",
       "4       NaN         1         NaN            NaN        NaN         NaN   \n",
       "\n",
       "   ishostkid  nhostkid  nhostkidus  nhours  ndays divert kidhijcountry  \\\n",
       "0        0.0       NaN         NaN     NaN    NaN    NaN           NaN   \n",
       "1        1.0       1.0         0.0     NaN    NaN    NaN        Mexico   \n",
       "2        0.0       NaN         NaN     NaN    NaN    NaN           NaN   \n",
       "3        0.0       NaN         NaN     NaN    NaN    NaN           NaN   \n",
       "4        0.0       NaN         NaN     NaN    NaN    NaN           NaN   \n",
       "\n",
       "   ransom  ransomamt  ransomamtus  ransompaid  ransompaidus ransomnote  \\\n",
       "0     0.0        NaN          NaN         NaN           NaN        NaN   \n",
       "1     1.0   800000.0          NaN         NaN           NaN        NaN   \n",
       "2     0.0        NaN          NaN         NaN           NaN        NaN   \n",
       "3     0.0        NaN          NaN         NaN           NaN        NaN   \n",
       "4     0.0        NaN          NaN         NaN           NaN        NaN   \n",
       "\n",
       "   hostkidoutcome hostkidoutcome_txt  nreleased addnotes scite1 scite2 scite3  \\\n",
       "0             NaN                NaN        NaN      NaN    NaN    NaN    NaN   \n",
       "1             NaN                NaN        NaN      NaN    NaN    NaN    NaN   \n",
       "2             NaN                NaN        NaN      NaN    NaN    NaN    NaN   \n",
       "3             NaN                NaN        NaN      NaN    NaN    NaN    NaN   \n",
       "4             NaN                NaN        NaN      NaN    NaN    NaN    NaN   \n",
       "\n",
       "  dbsource  INT_LOG  INT_IDEO  INT_MISC  INT_ANY related  \n",
       "0     PGIS        0         0         0        0     NaN  \n",
       "1     PGIS        0         1         1        1     NaN  \n",
       "2     PGIS        0         0         1        1     NaN  \n",
       "3     PGIS        0         0         1        1     NaN  \n",
       "4     PGIS        0         0         1        1     NaN  "
      ]
     },
     "execution_count": 247,
     "metadata": {},
     "output_type": "execute_result"
    }
   ],
   "source": [
    "total_terrorism.head()"
   ]
  },
  {
   "cell_type": "code",
   "execution_count": 238,
   "metadata": {},
   "outputs": [
    {
     "data": {
      "text/plain": [
       "array(['Assassination', 'Hostage Taking (Kidnapping)',\n",
       "       'Bombing/Explosion', 'Facility/Infrastructure Attack',\n",
       "       'Armed Assault', 'Hijacking', 'Unknown', 'Unarmed Assault',\n",
       "       'Hostage Taking (Barricade Incident)'], dtype=object)"
      ]
     },
     "execution_count": 238,
     "metadata": {},
     "output_type": "execute_result"
    }
   ],
   "source": [
    "attack_types = total_terrorism.attacktype1_txt.unique()\n",
    "attack_types"
   ]
  },
  {
   "cell_type": "code",
   "execution_count": 329,
   "metadata": {},
   "outputs": [
    {
     "name": "stdout",
     "output_type": "stream",
     "text": [
      "Ttest_indResult(statistic=-8.763178168338092, pvalue=3.322218380988172e-11)\n",
      "R2 = 0.053\n",
      "correlation 0.3977274573895482\n"
     ]
    },
    {
     "data": {
      "text/plain": [
       "Text(0.5, 1.0, 'Increase of Assassination type Attacks vs Increase of Refugees')"
      ]
     },
     "execution_count": 329,
     "metadata": {},
     "output_type": "execute_result"
    },
    {
     "data": {
      "image/png": "[encoded data removed]",
      "text/plain": [
       "<Figure size 432x288 with 1 Axes>"
      ]
     },
     "metadata": {
      "needs_background": "light"
     },
     "output_type": "display_data"
    }
   ],
   "source": [
    "selection2 = total_terrorism[total_terrorism.attacktype1_txt == 'Assassination']\n",
    "subset = selection2[['iyear', 'eventid']]\n",
    "\n",
    "year_terrorism = subset.groupby('iyear').count()\n",
    "\n",
    "\n",
    "year_terrorism2 = year_terrorism.reset_index()\n",
    "\n",
    "mean = (year_terrorism['eventid'].count())/len(years)\n",
    "mean\n",
    "percentages = []\n",
    "\n",
    "for year in years: \n",
    "    current2 = year_terrorism2[year_terrorism2['iyear'] == year]['eventid']\n",
    "    current = current2.values[0]\n",
    "    percentage = (current - mean)/mean*100\n",
    "    percentages.append(percentage)\n",
    "    \n",
    "mean_unsucc = pd.DataFrame({'Year': years, 'Attacks % from mean': percentages})\n",
    "\n",
    "mean_unsucc.Year = pd.to_datetime(mean_unsucc.Year, format='%Y')\n",
    "mean_unsucc.index = pd.DatetimeIndex(mean_unsucc['Year'])\n",
    "\n",
    "del mean_unsucc['Year']\n",
    "\n",
    "\n",
    "\n",
    "success = pd.merge(refugee, mean_unsucc, left_index=True, right_index=True)\n",
    "print(ttest_ind(success['Refugees % from mean'], success['Attacks % from mean'], equal_var=False))\n",
    "\n",
    "X3 = success['Refugees % from mean']\n",
    "Y3 = success['Attacks % from mean']\n",
    "\n",
    "model = sm.OLS(Y3,X3)\n",
    "results = model.fit()\n",
    "predictions2 = results.predict(X3)\n",
    "\n",
    "print('R2 =', 0.053)\n",
    "\n",
    "\n",
    "print('correlation', success['Refugees % from mean'].corr(success['Attacks % from mean']))\n",
    "\n",
    "sns.regplot(Y3, X3, fit_reg = True).set_title('Increase of Assassination type Attacks vs Increase of Refugees')\n",
    "\n"
   ]
  },
  {
   "cell_type": "code",
   "execution_count": 359,
   "metadata": {},
   "outputs": [
    {
     "name": "stdout",
     "output_type": "stream",
     "text": [
      "Ttest_indResult(statistic=-5.04913675553178, pvalue=8.193509282061738e-06)\n",
      "R2 = 0.369\n",
      "correlation 0.7730836497454859\n"
     ]
    },
    {
     "data": {
      "text/plain": [
       "Text(0.5, 1.0, 'Increase of Hostage Taking (Kidnapping) type Attacks vs Increase of Refugees')"
      ]
     },
     "execution_count": 359,
     "metadata": {},
     "output_type": "execute_result"
    },
    {
     "data": {
      "image/png": "[encoded data removed]",
      "text/plain": [
       "<Figure size 432x288 with 1 Axes>"
      ]
     },
     "metadata": {
      "needs_background": "light"
     },
     "output_type": "display_data"
    }
   ],
   "source": [
    "selection2 = total_terrorism[total_terrorism.attacktype1_txt == 'Hostage Taking (Kidnapping)']\n",
    "subset = selection2[['iyear', 'eventid']]\n",
    "\n",
    "year_terrorism = subset.groupby('iyear').count()\n",
    "\n",
    "\n",
    "year_terrorism2 = year_terrorism.reset_index()\n",
    "\n",
    "mean = (year_terrorism['eventid'].count())/len(years)\n",
    "mean\n",
    "percentages = []\n",
    "\n",
    "for year in years: \n",
    "    current2 = year_terrorism2[year_terrorism2['iyear'] == year]['eventid']\n",
    "    current = current2.values[0]\n",
    "    percentage = (current - mean)/mean*100\n",
    "    percentages.append(percentage)\n",
    "    \n",
    "mean_unsucc = pd.DataFrame({'Year': years, 'Attacks % from mean': percentages})\n",
    "\n",
    "mean_unsucc.Year = pd.to_datetime(mean_unsucc.Year, format='%Y')\n",
    "mean_unsucc.index = pd.DatetimeIndex(mean_unsucc['Year'])\n",
    "\n",
    "del mean_unsucc['Year']\n",
    "\n",
    "success = pd.merge(refugee, mean_unsucc, left_index=True, right_index=True)\n",
    "print(ttest_ind(success['Refugees % from mean'], success['Attacks % from mean'], equal_var=False))\n",
    "\n",
    "X4 = success['Refugees % from mean']\n",
    "Y4 = success['Attacks % from mean']\n",
    "\n",
    "model = sm.OLS(Y4,X4)\n",
    "results = model.fit()\n",
    "predictions2 = results.predict(X4)\n",
    "\n",
    "print('R2 =', 0.369)\n",
    "\n",
    "print('correlation', success['Refugees % from mean'].corr(success['Attacks % from mean']))\n",
    "\n",
    "sns.regplot(Y4, X4).set_title('Increase of Hostage Taking (Kidnapping) type Attacks vs Increase of Refugees')\n",
    "\n",
    "\n"
   ]
  },
  {
   "cell_type": "code",
   "execution_count": 361,
   "metadata": {},
   "outputs": [
    {
     "name": "stdout",
     "output_type": "stream",
     "text": [
      "Ttest_indResult(statistic=-6.074422359634894, pvalue=2.6231805551221265e-07)\n",
      "R2 = 0.33\n",
      "correlation 0.7899684627167315\n"
     ]
    },
    {
     "data": {
      "text/plain": [
       "Text(0.5, 1.0, 'Increase of Bombing/Explosion type Attacks vs Increase of Refugees')"
      ]
     },
     "execution_count": 361,
     "metadata": {},
     "output_type": "execute_result"
    },
    {
     "data": {
      "image/png": "[encoded data removed]",
      "text/plain": [
       "<Figure size 432x288 with 1 Axes>"
      ]
     },
     "metadata": {
      "needs_background": "light"
     },
     "output_type": "display_data"
    }
   ],
   "source": [
    "selection2 = total_terrorism[total_terrorism.attacktype1_txt == 'Bombing/Explosion']\n",
    "subset = selection2[['iyear', 'eventid']]\n",
    "\n",
    "year_terrorism = subset.groupby('iyear').count()\n",
    "\n",
    "\n",
    "year_terrorism2 = year_terrorism.reset_index()\n",
    "\n",
    "mean = (year_terrorism['eventid'].count())/len(years)\n",
    "mean\n",
    "percentages = []\n",
    "\n",
    "for year in years: \n",
    "    current2 = year_terrorism2[year_terrorism2['iyear'] == year]['eventid']\n",
    "    current = current2.values[0]\n",
    "    percentage = (current - mean)/mean*100\n",
    "    percentages.append(percentage)\n",
    "    \n",
    "mean_unsucc = pd.DataFrame({'Year': years, 'Attacks % from mean': percentages})\n",
    "\n",
    "mean_unsucc.Year = pd.to_datetime(mean_unsucc.Year, format='%Y')\n",
    "mean_unsucc.index = pd.DatetimeIndex(mean_unsucc['Year'])\n",
    "\n",
    "del mean_unsucc['Year']\n",
    "\n",
    "\n",
    "\n",
    "success = pd.merge(refugee, mean_unsucc, left_index=True, right_index=True)\n",
    "print(ttest_ind(success['Refugees % from mean'], success['Attacks % from mean'], equal_var=False))\n",
    "\n",
    "X3 = success['Refugees % from mean']\n",
    "Y3 = success['Attacks % from mean']\n",
    "\n",
    "model = sm.OLS(Y3,X3)\n",
    "results = model.fit()\n",
    "predictions2 = results.predict(X3)\n",
    "\n",
    "print('R2 =', 0.330)\n",
    "\n",
    "print('correlation', success['Refugees % from mean'].corr(success['Attacks % from mean']))\n",
    "\n",
    "sns.regplot(Y3, X3).set_title('Increase of Bombing/Explosion type Attacks vs Increase of Refugees')\n"
   ]
  },
  {
   "cell_type": "code",
   "execution_count": 332,
   "metadata": {},
   "outputs": [
    {
     "name": "stdout",
     "output_type": "stream",
     "text": [
      "Ttest_indResult(statistic=-8.054437567542601, pvalue=3.360433733472524e-10)\n",
      "R2 = 0.169\n",
      "correlation 0.6622698797979443\n"
     ]
    },
    {
     "data": {
      "text/plain": [
       "Text(0.5, 1.0, 'Increase of Facility/Infrastructure Attacks vs Increase of Refugees')"
      ]
     },
     "execution_count": 332,
     "metadata": {},
     "output_type": "execute_result"
    },
    {
     "data": {
      "image/png": "[encoded data removed]",
      "text/plain": [
       "<Figure size 432x288 with 1 Axes>"
      ]
     },
     "metadata": {
      "needs_background": "light"
     },
     "output_type": "display_data"
    }
   ],
   "source": [
    "selection2 = total_terrorism[total_terrorism.attacktype1_txt == 'Facility/Infrastructure Attack']\n",
    "subset = selection2[['iyear', 'eventid']]\n",
    "\n",
    "year_terrorism = subset.groupby('iyear').count()\n",
    "\n",
    "\n",
    "year_terrorism2 = year_terrorism.reset_index()\n",
    "\n",
    "mean = (year_terrorism['eventid'].count())/len(years)\n",
    "mean\n",
    "percentages = []\n",
    "\n",
    "for year in years: \n",
    "    current2 = year_terrorism2[year_terrorism2['iyear'] == year]['eventid']\n",
    "    current = current2.values[0]\n",
    "    percentage = (current - mean)/mean*100\n",
    "    percentages.append(percentage)\n",
    "    \n",
    "mean_unsucc = pd.DataFrame({'Year': years, 'Attacks % from mean': percentages})\n",
    "\n",
    "mean_unsucc.Year = pd.to_datetime(mean_unsucc.Year, format='%Y')\n",
    "mean_unsucc.index = pd.DatetimeIndex(mean_unsucc['Year'])\n",
    "\n",
    "del mean_unsucc['Year']\n",
    "\n",
    "\n",
    "\n",
    "success = pd.merge(refugee, mean_unsucc, left_index=True, right_index=True)\n",
    "print(ttest_ind(success['Refugees % from mean'], success['Attacks % from mean'], equal_var=False))\n",
    "\n",
    "X3 = success['Refugees % from mean']\n",
    "Y3 = success['Attacks % from mean']\n",
    "\n",
    "model = sm.OLS(Y3,X3)\n",
    "results = model.fit()\n",
    "predictions2 = results.predict(X3)\n",
    "\n",
    "print('R2 =', 0.169)\n",
    "\n",
    "\n",
    "print('correlation', success['Refugees % from mean'].corr(success['Attacks % from mean']))\n",
    "\n",
    "sns.regplot(Y3, X3, fit_reg = True).set_title('Increase of Facility/Infrastructure Attacks vs Increase of Refugees')\n",
    "\n"
   ]
  },
  {
   "cell_type": "code",
   "execution_count": 336,
   "metadata": {},
   "outputs": [
    {
     "name": "stdout",
     "output_type": "stream",
     "text": [
      "Ttest_indResult(statistic=-6.652891916948169, pvalue=3.6956683829976e-08)\n",
      "R2 = 0.279\n",
      "correlation 0.7611184043757914\n"
     ]
    },
    {
     "data": {
      "text/plain": [
       "Text(0.5, 1.0, 'Increase of Armed Assault type of Attacks vs Increase of Refugees')"
      ]
     },
     "execution_count": 336,
     "metadata": {},
     "output_type": "execute_result"
    },
    {
     "data": {
      "image/png": "[encoded data removed]",
      "text/plain": [
       "<Figure size 432x288 with 1 Axes>"
      ]
     },
     "metadata": {
      "needs_background": "light"
     },
     "output_type": "display_data"
    }
   ],
   "source": [
    "selection2 = total_terrorism[total_terrorism.attacktype1_txt == 'Armed Assault']\n",
    "subset = selection2[['iyear', 'eventid']]\n",
    "\n",
    "year_terrorism = subset.groupby('iyear').count()\n",
    "\n",
    "\n",
    "year_terrorism2 = year_terrorism.reset_index()\n",
    "\n",
    "mean = (year_terrorism['eventid'].count())/len(years)\n",
    "mean\n",
    "percentages = []\n",
    "\n",
    "for year in years: \n",
    "    current2 = year_terrorism2[year_terrorism2['iyear'] == year]['eventid']\n",
    "    current = current2.values[0]\n",
    "    percentage = (current - mean)/mean*100\n",
    "    percentages.append(percentage)\n",
    "    \n",
    "mean_unsucc = pd.DataFrame({'Year': years, 'Attacks % from mean': percentages})\n",
    "\n",
    "mean_unsucc.Year = pd.to_datetime(mean_unsucc.Year, format='%Y')\n",
    "mean_unsucc.index = pd.DatetimeIndex(mean_unsucc['Year'])\n",
    "\n",
    "del mean_unsucc['Year']\n",
    "\n",
    "\n",
    "\n",
    "success = pd.merge(refugee, mean_unsucc, left_index=True, right_index=True)\n",
    "print(ttest_ind(success['Refugees % from mean'], success['Attacks % from mean'], equal_var=False))\n",
    "\n",
    "X3 = success['Refugees % from mean']\n",
    "Y3 = success['Attacks % from mean']\n",
    "\n",
    "model = sm.OLS(Y3,X3)\n",
    "results = model.fit()\n",
    "predictions2 = results.predict(X3)\n",
    "\n",
    "print('R2 =', 0.279)\n",
    "\n",
    "\n",
    "print('correlation', success['Refugees % from mean'].corr(success['Attacks % from mean']))\n",
    "\n",
    "sns.regplot(Y3, X3, fit_reg = True).set_title('Increase of Armed Assault type of Attacks vs Increase of Refugees')\n"
   ]
  },
  {
   "cell_type": "code",
   "execution_count": 351,
   "metadata": {},
   "outputs": [
    {
     "name": "stdout",
     "output_type": "stream",
     "text": [
      "Ttest_indResult(statistic=-6.979085120771672, pvalue=8.049589588392081e-09)\n",
      "R2 = 0.279\n",
      "correlation 0.39719282814707996\n"
     ]
    },
    {
     "data": {
      "text/html": [
       "<table class=\"simpletable\">\n",
       "<caption>OLS Regression Results</caption>\n",
       "<tr>\n",
       "  <th>Dep. Variable:</th>    <td>Attacks % from mean</td> <th>  R-squared (uncentered):</th>      <td>   0.068</td>\n",
       "</tr>\n",
       "<tr>\n",
       "  <th>Model:</th>                    <td>OLS</td>         <th>  Adj. R-squared (uncentered):</th> <td>   0.047</td>\n",
       "</tr>\n",
       "<tr>\n",
       "  <th>Method:</th>              <td>Least Squares</td>    <th>  F-statistic:       </th>          <td>   3.234</td>\n",
       "</tr>\n",
       "<tr>\n",
       "  <th>Date:</th>              <td>Thu, 07 Nov 2019</td>   <th>  Prob (F-statistic):</th>           <td>0.0790</td> \n",
       "</tr>\n",
       "<tr>\n",
       "  <th>Time:</th>                  <td>15:26:34</td>       <th>  Log-Likelihood:    </th>          <td> -394.09</td>\n",
       "</tr>\n",
       "<tr>\n",
       "  <th>No. Observations:</th>       <td>    45</td>        <th>  AIC:               </th>          <td>   790.2</td>\n",
       "</tr>\n",
       "<tr>\n",
       "  <th>Df Residuals:</th>           <td>    44</td>        <th>  BIC:               </th>          <td>   792.0</td>\n",
       "</tr>\n",
       "<tr>\n",
       "  <th>Df Model:</th>               <td>     1</td>        <th>                     </th>              <td> </td>   \n",
       "</tr>\n",
       "<tr>\n",
       "  <th>Covariance Type:</th>       <td>nonrobust</td>      <th>                     </th>              <td> </td>   \n",
       "</tr>\n",
       "</table>\n",
       "<table class=\"simpletable\">\n",
       "<tr>\n",
       "            <td></td>              <th>coef</th>     <th>std err</th>      <th>t</th>      <th>P>|t|</th>  <th>[0.025</th>    <th>0.975]</th>  \n",
       "</tr>\n",
       "<tr>\n",
       "  <th>Refugees % from mean</th> <td>    1.8349</td> <td>    1.020</td> <td>    1.798</td> <td> 0.079</td> <td>   -0.221</td> <td>    3.891</td>\n",
       "</tr>\n",
       "</table>\n",
       "<table class=\"simpletable\">\n",
       "<tr>\n",
       "  <th>Omnibus:</th>       <td> 5.489</td> <th>  Durbin-Watson:     </th> <td>   0.350</td>\n",
       "</tr>\n",
       "<tr>\n",
       "  <th>Prob(Omnibus):</th> <td> 0.064</td> <th>  Jarque-Bera (JB):  </th> <td>   4.878</td>\n",
       "</tr>\n",
       "<tr>\n",
       "  <th>Skew:</th>          <td> 0.806</td> <th>  Prob(JB):          </th> <td>  0.0873</td>\n",
       "</tr>\n",
       "<tr>\n",
       "  <th>Kurtosis:</th>      <td> 3.075</td> <th>  Cond. No.          </th> <td>    1.00</td>\n",
       "</tr>\n",
       "</table><br/><br/>Warnings:<br/>[1] Standard Errors assume that the covariance matrix of the errors is correctly specified."
      ],
      "text/plain": [
       "<class 'statsmodels.iolib.summary.Summary'>\n",
       "\"\"\"\n",
       "                                 OLS Regression Results                                 \n",
       "========================================================================================\n",
       "Dep. Variable:     Attacks % from mean   R-squared (uncentered):                   0.068\n",
       "Model:                             OLS   Adj. R-squared (uncentered):              0.047\n",
       "Method:                  Least Squares   F-statistic:                              3.234\n",
       "Date:                 Thu, 07 Nov 2019   Prob (F-statistic):                      0.0790\n",
       "Time:                         15:26:34   Log-Likelihood:                         -394.09\n",
       "No. Observations:                   45   AIC:                                      790.2\n",
       "Df Residuals:                       44   BIC:                                      792.0\n",
       "Df Model:                            1                                                  \n",
       "Covariance Type:             nonrobust                                                  \n",
       "========================================================================================\n",
       "                           coef    std err          t      P>|t|      [0.025      0.975]\n",
       "----------------------------------------------------------------------------------------\n",
       "Refugees % from mean     1.8349      1.020      1.798      0.079      -0.221       3.891\n",
       "==============================================================================\n",
       "Omnibus:                        5.489   Durbin-Watson:                   0.350\n",
       "Prob(Omnibus):                  0.064   Jarque-Bera (JB):                4.878\n",
       "Skew:                           0.806   Prob(JB):                       0.0873\n",
       "Kurtosis:                       3.075   Cond. No.                         1.00\n",
       "==============================================================================\n",
       "\n",
       "Warnings:\n",
       "[1] Standard Errors assume that the covariance matrix of the errors is correctly specified.\n",
       "\"\"\""
      ]
     },
     "execution_count": 351,
     "metadata": {},
     "output_type": "execute_result"
    },
    {
     "data": {
      "image/png": "[encoded data removed]",
      "text/plain": [
       "<Figure size 432x288 with 1 Axes>"
      ]
     },
     "metadata": {
      "needs_background": "light"
     },
     "output_type": "display_data"
    }
   ],
   "source": [
    "selection2 = total_terrorism[total_terrorism.attacktype1_txt == 'Hijacking']\n",
    "subset = selection2[['iyear', 'eventid']]\n",
    "\n",
    "year_terrorism = subset.groupby('iyear').count()\n",
    "\n",
    "\n",
    "year_terrorism2 = year_terrorism.reset_index()\n",
    "\n",
    "mean = (year_terrorism['eventid'].count())/len(years)\n",
    "mean\n",
    "percentages = []\n",
    "\n",
    "for year in years: \n",
    "    current2 = year_terrorism2[year_terrorism2['iyear'] == year]['eventid']\n",
    "\n",
    "    if len(current2) > 0: \n",
    "        current = current2.values[0]\n",
    "    else:\n",
    "        current = 0\n",
    "    \n",
    "    percentage = (current - mean)/mean*100\n",
    "    percentages.append(percentage)\n",
    "    \n",
    "mean_unsucc = pd.DataFrame({'Year': years, 'Attacks % from mean': percentages})\n",
    "\n",
    "mean_unsucc.Year = pd.to_datetime(mean_unsucc.Year, format='%Y')\n",
    "mean_unsucc.index = pd.DatetimeIndex(mean_unsucc['Year'])\n",
    "\n",
    "del mean_unsucc['Year']\n",
    "\n",
    "success = pd.merge(refugee, mean_unsucc, left_index=True, right_index=True)\n",
    "print(ttest_ind(success['Refugees % from mean'], success['Attacks % from mean'], equal_var=False))\n",
    "\n",
    "X3 = success['Refugees % from mean']\n",
    "Y3 = success['Attacks % from mean']\n",
    "\n",
    "model = sm.OLS(Y3,X3)\n",
    "results = model.fit()\n",
    "predictions2 = results.predict(X3)\n",
    "\n",
    "print('R2 =', 0.279)\n",
    "\n",
    "print('correlation', success['Refugees % from mean'].corr(success['Attacks % from mean']))\n",
    "\n",
    "sns.regplot(Y3, X3, fit_reg = True).set_title('Increase of Hijacking type of Attacks vs Increase of Refugees')\n",
    "\n",
    "results.summary()\n",
    "\n"
   ]
  },
  {
   "cell_type": "code",
   "execution_count": 352,
   "metadata": {},
   "outputs": [
    {
     "name": "stdout",
     "output_type": "stream",
     "text": [
      "Ttest_indResult(statistic=-5.017350883953017, pvalue=8.812514696173448e-06)\n",
      "R2 = 0.279\n",
      "correlation 0.28472747046100905\n"
     ]
    },
    {
     "data": {
      "text/html": [
       "<table class=\"simpletable\">\n",
       "<caption>OLS Regression Results</caption>\n",
       "<tr>\n",
       "  <th>Dep. Variable:</th>    <td>Attacks % from mean</td> <th>  R-squared (uncentered):</th>      <td>   0.048</td>\n",
       "</tr>\n",
       "<tr>\n",
       "  <th>Model:</th>                    <td>OLS</td>         <th>  Adj. R-squared (uncentered):</th> <td>   0.026</td>\n",
       "</tr>\n",
       "<tr>\n",
       "  <th>Method:</th>              <td>Least Squares</td>    <th>  F-statistic:       </th>          <td>   2.222</td>\n",
       "</tr>\n",
       "<tr>\n",
       "  <th>Date:</th>              <td>Thu, 07 Nov 2019</td>   <th>  Prob (F-statistic):</th>           <td> 0.143</td> \n",
       "</tr>\n",
       "<tr>\n",
       "  <th>Time:</th>                  <td>15:27:08</td>       <th>  Log-Likelihood:    </th>          <td> -426.46</td>\n",
       "</tr>\n",
       "<tr>\n",
       "  <th>No. Observations:</th>       <td>    45</td>        <th>  AIC:               </th>          <td>   854.9</td>\n",
       "</tr>\n",
       "<tr>\n",
       "  <th>Df Residuals:</th>           <td>    44</td>        <th>  BIC:               </th>          <td>   856.7</td>\n",
       "</tr>\n",
       "<tr>\n",
       "  <th>Df Model:</th>               <td>     1</td>        <th>                     </th>              <td> </td>   \n",
       "</tr>\n",
       "<tr>\n",
       "  <th>Covariance Type:</th>       <td>nonrobust</td>      <th>                     </th>              <td> </td>   \n",
       "</tr>\n",
       "</table>\n",
       "<table class=\"simpletable\">\n",
       "<tr>\n",
       "            <td></td>              <th>coef</th>     <th>std err</th>      <th>t</th>      <th>P>|t|</th>  <th>[0.025</th>    <th>0.975]</th>  \n",
       "</tr>\n",
       "<tr>\n",
       "  <th>Refugees % from mean</th> <td>    3.1224</td> <td>    2.095</td> <td>    1.491</td> <td> 0.143</td> <td>   -1.099</td> <td>    7.344</td>\n",
       "</tr>\n",
       "</table>\n",
       "<table class=\"simpletable\">\n",
       "<tr>\n",
       "  <th>Omnibus:</th>       <td>38.382</td> <th>  Durbin-Watson:     </th> <td>   0.513</td>\n",
       "</tr>\n",
       "<tr>\n",
       "  <th>Prob(Omnibus):</th> <td> 0.000</td> <th>  Jarque-Bera (JB):  </th> <td> 108.999</td>\n",
       "</tr>\n",
       "<tr>\n",
       "  <th>Skew:</th>          <td> 2.284</td> <th>  Prob(JB):          </th> <td>2.14e-24</td>\n",
       "</tr>\n",
       "<tr>\n",
       "  <th>Kurtosis:</th>      <td> 9.104</td> <th>  Cond. No.          </th> <td>    1.00</td>\n",
       "</tr>\n",
       "</table><br/><br/>Warnings:<br/>[1] Standard Errors assume that the covariance matrix of the errors is correctly specified."
      ],
      "text/plain": [
       "<class 'statsmodels.iolib.summary.Summary'>\n",
       "\"\"\"\n",
       "                                 OLS Regression Results                                 \n",
       "========================================================================================\n",
       "Dep. Variable:     Attacks % from mean   R-squared (uncentered):                   0.048\n",
       "Model:                             OLS   Adj. R-squared (uncentered):              0.026\n",
       "Method:                  Least Squares   F-statistic:                              2.222\n",
       "Date:                 Thu, 07 Nov 2019   Prob (F-statistic):                       0.143\n",
       "Time:                         15:27:08   Log-Likelihood:                         -426.46\n",
       "No. Observations:                   45   AIC:                                      854.9\n",
       "Df Residuals:                       44   BIC:                                      856.7\n",
       "Df Model:                            1                                                  \n",
       "Covariance Type:             nonrobust                                                  \n",
       "========================================================================================\n",
       "                           coef    std err          t      P>|t|      [0.025      0.975]\n",
       "----------------------------------------------------------------------------------------\n",
       "Refugees % from mean     3.1224      2.095      1.491      0.143      -1.099       7.344\n",
       "==============================================================================\n",
       "Omnibus:                       38.382   Durbin-Watson:                   0.513\n",
       "Prob(Omnibus):                  0.000   Jarque-Bera (JB):              108.999\n",
       "Skew:                           2.284   Prob(JB):                     2.14e-24\n",
       "Kurtosis:                       9.104   Cond. No.                         1.00\n",
       "==============================================================================\n",
       "\n",
       "Warnings:\n",
       "[1] Standard Errors assume that the covariance matrix of the errors is correctly specified.\n",
       "\"\"\""
      ]
     },
     "execution_count": 352,
     "metadata": {},
     "output_type": "execute_result"
    },
    {
     "data": {
      "image/png": "[encoded data removed]",
      "text/plain": [
       "<Figure size 432x288 with 1 Axes>"
      ]
     },
     "metadata": {
      "needs_background": "light"
     },
     "output_type": "display_data"
    }
   ],
   "source": [
    "selection2 = total_terrorism[total_terrorism.attacktype1_txt == 'Unarmed Assault']\n",
    "subset = selection2[['iyear', 'eventid']]\n",
    "\n",
    "year_terrorism = subset.groupby('iyear').count()\n",
    "\n",
    "\n",
    "year_terrorism2 = year_terrorism.reset_index()\n",
    "\n",
    "mean = (year_terrorism['eventid'].count())/len(years)\n",
    "mean\n",
    "percentages = []\n",
    "\n",
    "for year in years: \n",
    "    current2 = year_terrorism2[year_terrorism2['iyear'] == year]['eventid']\n",
    "\n",
    "    if len(current2) > 0: \n",
    "        current = current2.values[0]\n",
    "    else:\n",
    "        current = 0\n",
    "    \n",
    "    percentage = (current - mean)/mean*100\n",
    "    percentages.append(percentage)\n",
    "    \n",
    "mean_unsucc = pd.DataFrame({'Year': years, 'Attacks % from mean': percentages})\n",
    "\n",
    "mean_unsucc.Year = pd.to_datetime(mean_unsucc.Year, format='%Y')\n",
    "mean_unsucc.index = pd.DatetimeIndex(mean_unsucc['Year'])\n",
    "\n",
    "del mean_unsucc['Year']\n",
    "\n",
    "success = pd.merge(refugee, mean_unsucc, left_index=True, right_index=True)\n",
    "print(ttest_ind(success['Refugees % from mean'], success['Attacks % from mean'], equal_var=False))\n",
    "\n",
    "X3 = success['Refugees % from mean']\n",
    "Y3 = success['Attacks % from mean']\n",
    "\n",
    "model = sm.OLS(Y3,X3)\n",
    "results = model.fit()\n",
    "predictions2 = results.predict(X3)\n",
    "\n",
    "print('R2 =', 0.279)\n",
    "\n",
    "print('correlation', success['Refugees % from mean'].corr(success['Attacks % from mean']))\n",
    "\n",
    "sns.regplot(Y3, X3, fit_reg = True).set_title('Increase of Unarmed Assault type of Attacks vs Increase of Refugees')\n",
    "\n",
    "results.summary()"
   ]
  },
  {
   "cell_type": "code",
   "execution_count": 357,
   "metadata": {},
   "outputs": [
    {
     "name": "stdout",
     "output_type": "stream",
     "text": [
      "Ttest_indResult(statistic=-5.984131670286069, pvalue=3.280048956928229e-07)\n",
      "R2 = 0.279\n",
      "correlation 0.4289597146867805\n"
     ]
    },
    {
     "data": {
      "text/html": [
       "<table class=\"simpletable\">\n",
       "<caption>OLS Regression Results</caption>\n",
       "<tr>\n",
       "  <th>Dep. Variable:</th>    <td>Attacks % from mean</td> <th>  R-squared (uncentered):</th>      <td>   0.096</td>\n",
       "</tr>\n",
       "<tr>\n",
       "  <th>Model:</th>                    <td>OLS</td>         <th>  Adj. R-squared (uncentered):</th> <td>   0.075</td>\n",
       "</tr>\n",
       "<tr>\n",
       "  <th>Method:</th>              <td>Least Squares</td>    <th>  F-statistic:       </th>          <td>   4.657</td>\n",
       "</tr>\n",
       "<tr>\n",
       "  <th>Date:</th>              <td>Thu, 07 Nov 2019</td>   <th>  Prob (F-statistic):</th>           <td>0.0364</td> \n",
       "</tr>\n",
       "<tr>\n",
       "  <th>Time:</th>                  <td>15:30:52</td>       <th>  Log-Likelihood:    </th>          <td> -418.58</td>\n",
       "</tr>\n",
       "<tr>\n",
       "  <th>No. Observations:</th>       <td>    45</td>        <th>  AIC:               </th>          <td>   839.2</td>\n",
       "</tr>\n",
       "<tr>\n",
       "  <th>Df Residuals:</th>           <td>    44</td>        <th>  BIC:               </th>          <td>   841.0</td>\n",
       "</tr>\n",
       "<tr>\n",
       "  <th>Df Model:</th>               <td>     1</td>        <th>                     </th>              <td> </td>   \n",
       "</tr>\n",
       "<tr>\n",
       "  <th>Covariance Type:</th>       <td>nonrobust</td>      <th>                     </th>              <td> </td>   \n",
       "</tr>\n",
       "</table>\n",
       "<table class=\"simpletable\">\n",
       "<tr>\n",
       "            <td></td>              <th>coef</th>     <th>std err</th>      <th>t</th>      <th>P>|t|</th>  <th>[0.025</th>    <th>0.975]</th>  \n",
       "</tr>\n",
       "<tr>\n",
       "  <th>Refugees % from mean</th> <td>    3.7938</td> <td>    1.758</td> <td>    2.158</td> <td> 0.036</td> <td>    0.251</td> <td>    7.337</td>\n",
       "</tr>\n",
       "</table>\n",
       "<table class=\"simpletable\">\n",
       "<tr>\n",
       "  <th>Omnibus:</th>       <td>13.318</td> <th>  Durbin-Watson:     </th> <td>   0.349</td>\n",
       "</tr>\n",
       "<tr>\n",
       "  <th>Prob(Omnibus):</th> <td> 0.001</td> <th>  Jarque-Bera (JB):  </th> <td>  13.838</td>\n",
       "</tr>\n",
       "<tr>\n",
       "  <th>Skew:</th>          <td> 1.208</td> <th>  Prob(JB):          </th> <td>0.000989</td>\n",
       "</tr>\n",
       "<tr>\n",
       "  <th>Kurtosis:</th>      <td> 4.242</td> <th>  Cond. No.          </th> <td>    1.00</td>\n",
       "</tr>\n",
       "</table><br/><br/>Warnings:<br/>[1] Standard Errors assume that the covariance matrix of the errors is correctly specified."
      ],
      "text/plain": [
       "<class 'statsmodels.iolib.summary.Summary'>\n",
       "\"\"\"\n",
       "                                 OLS Regression Results                                 \n",
       "========================================================================================\n",
       "Dep. Variable:     Attacks % from mean   R-squared (uncentered):                   0.096\n",
       "Model:                             OLS   Adj. R-squared (uncentered):              0.075\n",
       "Method:                  Least Squares   F-statistic:                              4.657\n",
       "Date:                 Thu, 07 Nov 2019   Prob (F-statistic):                      0.0364\n",
       "Time:                         15:30:52   Log-Likelihood:                         -418.58\n",
       "No. Observations:                   45   AIC:                                      839.2\n",
       "Df Residuals:                       44   BIC:                                      841.0\n",
       "Df Model:                            1                                                  \n",
       "Covariance Type:             nonrobust                                                  \n",
       "========================================================================================\n",
       "                           coef    std err          t      P>|t|      [0.025      0.975]\n",
       "----------------------------------------------------------------------------------------\n",
       "Refugees % from mean     3.7938      1.758      2.158      0.036       0.251       7.337\n",
       "==============================================================================\n",
       "Omnibus:                       13.318   Durbin-Watson:                   0.349\n",
       "Prob(Omnibus):                  0.001   Jarque-Bera (JB):               13.838\n",
       "Skew:                           1.208   Prob(JB):                     0.000989\n",
       "Kurtosis:                       4.242   Cond. No.                         1.00\n",
       "==============================================================================\n",
       "\n",
       "Warnings:\n",
       "[1] Standard Errors assume that the covariance matrix of the errors is correctly specified.\n",
       "\"\"\""
      ]
     },
     "execution_count": 357,
     "metadata": {},
     "output_type": "execute_result"
    },
    {
     "data": {
      "image/png": "[encoded data removed]",
      "text/plain": [
       "<Figure size 432x288 with 1 Axes>"
      ]
     },
     "metadata": {
      "needs_background": "light"
     },
     "output_type": "display_data"
    }
   ],
   "source": [
    "selection2 = total_terrorism[total_terrorism.attacktype1_txt == 'Hostage Taking (Barricade Incident)']\n",
    "subset = selection2[['iyear', 'eventid']]\n",
    "\n",
    "\n",
    "\n",
    "year_terrorism = subset.groupby('iyear').count()\n",
    "\n",
    "\n",
    "year_terrorism2 = year_terrorism.reset_index()\n",
    "\n",
    "mean = (year_terrorism['eventid'].count())/len(years)\n",
    "mean\n",
    "percentages = []\n",
    "\n",
    "for year in years: \n",
    "    current2 = year_terrorism2[year_terrorism2['iyear'] == year]['eventid']\n",
    "\n",
    "    if len(current2) > 0: \n",
    "        current = current2.values[0]\n",
    "    else:\n",
    "        current = 0\n",
    "    \n",
    "    percentage = (current - mean)/mean*100\n",
    "    percentages.append(percentage)\n",
    "    \n",
    "mean_unsucc = pd.DataFrame({'Year': years, 'Attacks % from mean': percentages})\n",
    "\n",
    "mean_unsucc.Year = pd.to_datetime(mean_unsucc.Year, format='%Y')\n",
    "mean_unsucc.index = pd.DatetimeIndex(mean_unsucc['Year'])\n",
    "\n",
    "del mean_unsucc['Year']\n",
    "\n",
    "success = pd.merge(refugee, mean_unsucc, left_index=True, right_index=True)\n",
    "print(ttest_ind(success['Refugees % from mean'], success['Attacks % from mean'], equal_var=False))\n",
    "\n",
    "X3 = success['Refugees % from mean']\n",
    "Y3 = success['Attacks % from mean']\n",
    "\n",
    "model = sm.OLS(Y3,X3)\n",
    "results = model.fit()\n",
    "predictions2 = results.predict(X3)\n",
    "\n",
    "print('R2 =', 0.279)\n",
    "\n",
    "print('correlation', success['Refugees % from mean'].corr(success['Attacks % from mean']))\n",
    "\n",
    "sns.regplot(Y3, X3, fit_reg = True).set_title('Increase of Hostage Taking (Barricade Incident) type of Attacks vs Increase of Refugees')\n",
    "\n",
    "results.summary()\n",
    "\n"
   ]
  },
  {
   "cell_type": "code",
   "execution_count": null,
   "metadata": {},
   "outputs": [],
   "source": []
  },
  {
   "cell_type": "code",
   "execution_count": null,
   "metadata": {},
   "outputs": [],
   "source": [
    "'''\n",
    "\n",
    "from scipy.stats import ttest_ind\n",
    "\n",
    "# nr of attacks \n",
    "\n",
    "\n",
    "ttest_ind(stat['Nr. of refugees'], stat['Nr. of attacks'], equal_var=False)\n",
    "\n",
    "'''\n"
   ]
  },
  {
   "cell_type": "code",
   "execution_count": null,
   "metadata": {},
   "outputs": [],
   "source": [
    "#percentages \n",
    "\n",
    "#attacks"
   ]
  },
  {
   "cell_type": "code",
   "execution_count": null,
   "metadata": {},
   "outputs": [],
   "source": []
  },
  {
   "cell_type": "code",
   "execution_count": null,
   "metadata": {},
   "outputs": [],
   "source": [
    "\n",
    "#stat_p"
   ]
  },
  {
   "cell_type": "code",
   "execution_count": null,
   "metadata": {},
   "outputs": [],
   "source": [
    "# percentage tov vorig jaar "
   ]
  },
  {
   "cell_type": "code",
   "execution_count": null,
   "metadata": {},
   "outputs": [],
   "source": [
    "#ttest_ind(stat_p['Nr. of refugees'], stat_p['Nr. of attacks'], equal_var=False)\n",
    "\n",
    "# stijging terrorism == stijging vluchtelingen \n"
   ]
  },
  {
   "cell_type": "code",
   "execution_count": null,
   "metadata": {},
   "outputs": [],
   "source": []
  },
  {
   "cell_type": "code",
   "execution_count": null,
   "metadata": {},
   "outputs": [],
   "source": []
  },
  {
   "cell_type": "code",
   "execution_count": 219,
   "metadata": {},
   "outputs": [],
   "source": [
    "country_region = {'Canada':'North America',\n",
    "                 'Mexico':'North America',\n",
    "                 'United States':'North America',\n",
    "                 'Antigua and Barbuda':'Central America & Caribbean',\n",
    "                 'Bahamas':'Central America & Caribbean',\n",
    "                 'Belize':'Central America & Caribbean',\n",
    "                 'Cayman Islands':'Central America & Caribbean',\n",
    "                 'Costa Rica':'Central America & Caribbean',\n",
    "                 'Cuba':'Central America & Caribbean',\n",
    "                 'Dominica':'Central America & Caribbean',\n",
    "                 'Dominican Republic':'Central America & Caribbean',\n",
    "                 'El Salvador':'Central America & Caribbean',\n",
    "                 'Grenada':'Central America & Caribbean',\n",
    "                 'Guadeloupe':'Central America & Caribbean',\n",
    "                 'Guatemala':'Central America & Caribbean',\n",
    "                 'Haiti':'Central America & Caribbean',\n",
    "                 'Honduras':'Central America & Caribbean',\n",
    "                 'Jamaica':'Central America & Caribbean',\n",
    "                 'Martinique':'Central America & Caribbean',\n",
    "                 'Nicaragua':'Central America & Caribbean',\n",
    "                 'Panama':'Central America & Caribbean',\n",
    "                 'Saint Kitts and Nevis':'Central America & Caribbean',\n",
    "                 'Trinidad and Tobago':'Central America & Caribbean',\n",
    "                 'Argentina':'South America',\n",
    "                 'Bolivia':'South America',\n",
    "                 'Brazil':'South America',\n",
    "                 'Chile':'South America',\n",
    "                 'Colombia':'South America',\n",
    "                 'Ecuador':'South America',\n",
    "                 'Falkland Islands':'South America',\n",
    "                 'French Guiana':'South America',\n",
    "                 'Guyana':'South America',\n",
    "                 'Paraguay':'South America',\n",
    "                 'Peru':'South America',\n",
    "                 'Suriname':'South America',\n",
    "                 'Uruguay':'South America',\n",
    "                 'Venezuela':'South America',\n",
    "                 'China':'East Asia',\n",
    "                 'Hong Kong':'East Asia',\n",
    "                 'Japan':'East Asia',\n",
    "                 'Macau':'East Asia',\n",
    "                 'North Korea':'East Asia',\n",
    "                 'South Korea':'East Asia',\n",
    "                 'Taiwan':'East Asia',\n",
    "                 'Brunei':'Southeast Asia',\n",
    "                 'Cambodia':'Southeast Asia',\n",
    "                 'East Timor':'Southeast Asia',\n",
    "                 'Indonesia':'Southeast Asia',\n",
    "                 'Laos':'Southeast Asia',\n",
    "                 'Malaysia':'Southeast Asia',\n",
    "                 'Myanmar':'Southeast Asia',\n",
    "                 'Philippines':'Southeast Asia',\n",
    "                 'Singapore':'Southeast Asia',\n",
    "                 'Vietnam':'Southeast Asia',\n",
    "                 'Thailand':'Southeast Asia',\n",
    "                 'Afghanistan':'South Asia',\n",
    "                 'Bangladesh':'South Asia',\n",
    "                 'Buthan':'South Asia',\n",
    "                 'India':'South Asia',\n",
    "                 'Maladives':'South Asia',\n",
    "                 'Nepal':'South Asia',\n",
    "                 'Pakistan':'South Asia',\n",
    "                 'Sri Lanka':'South Asia',\n",
    "                 'Armenia':'Central Asia',\n",
    "                 'Azerbaijan':'Central Asia',\n",
    "                 'Georgia':'Central Asia',\n",
    "                 'Kazakhstan':'Central Asia',\n",
    "                 'Tajikistan':'Central Asia',\n",
    "                 'Turkmenistan':'Central Asia',\n",
    "                 'Uzbekistan':'Central Asia',\n",
    "                 'Andorra':'Western Europe',\n",
    "                 'Austria':'Western Europe',\n",
    "                 'Belgium':'Western Europe',\n",
    "                 'Cyprus':'Western Europe',\n",
    "                 'Denmark':'Western Europe',\n",
    "                 'Finland':'Western Europe',\n",
    "                 'France':'Western Europe',\n",
    "                 'Germany':'Western Europe',\n",
    "                 'Gibraltar':'Western Europe',\n",
    "                 'Greece':'Western Europe',\n",
    "                 'Iceland':'Western Europe',\n",
    "                 'Ireland':'Western Europe',\n",
    "                 'Italy':'Western Europe',\n",
    "                 'Luxembourg':'Western Europe',\n",
    "                 'Malta':'Western Europe',\n",
    "                 'Netherlands':'Western Europe',\n",
    "                 'Norway':'Western Europe',\n",
    "                 'Portugal':'Western Europe',\n",
    "                 'Spain':'Western Europe',\n",
    "                 'Sweden':'Western Europe',\n",
    "                 'Switzerland':'Western Europe',\n",
    "                 'United Kingdom':'Western Europe',\n",
    "                 'Vatican City':'Western Europe',\n",
    "                 'Albania':'Eastern Europe',\n",
    "                 'Belarus':'Eastern Europe',\n",
    "                 'Bosnia and Herzegovina':'Eastern Europe',\n",
    "                 'Bulgaria':'Eastern Europe',\n",
    "                 'Croatia':'Eastern Europe',\n",
    "                 'Czech Republic':'Eastern Europe',\n",
    "                 'Estonia':'Eastern Europe',\n",
    "                 'Hungary':'Eastern Europe',\n",
    "                 'Kosovo':'Eastern Europe',\n",
    "                 'Latvia':'Eastern Europe',\n",
    "                 'Lithuania':'Eastern Europe',\n",
    "                 'Macedonia':'Eastern Europe',\n",
    "                 'Moldova':'Eastern Europe',\n",
    "                 'Montenegro':'Eastern Europe',\n",
    "                 'Poland':'Eastern Europe',\n",
    "                 'Romania':'Eastern Europe',\n",
    "                 'Russia':'Eastern Europe',\n",
    "                 'Serbia':'Eastern Europe',\n",
    "                 'Slovakia':'Eastern Europe',\n",
    "                 'Slovenia':'Eastern Europe',\n",
    "                 'Ukraine':'Eastern Europe',\n",
    "                 'Algeria':'Middle East & North Africa',\n",
    "                 'Bahrain':'Middle East & North Africa',\n",
    "                  'Egypt':'Middle East & North Africa',\n",
    "                  'Iran':'Middle East & North Africa',\n",
    "                  'Iraq':'Middle East & North Africa',\n",
    "                  'Israel':'Middle East & North Africa',\n",
    "                  'Jordan':'Middle East & North Africa',\n",
    "                  'Kuwait':'Middle East & North Africa',\n",
    "                  'Lebanon':'Middle East & North Africa',\n",
    "                  'Libya':'Middle East & North Africa',\n",
    "                  'Morocco':'Middle East & North Africa',\n",
    "                  'Yemen':'Middle East & North Africa',\n",
    "                  'Qatar':'Middle East & North Africa',\n",
    "                  'Saudi Arabia':'Middle East & North Africa',\n",
    "                  'Syria':'Middle East & North Africa',\n",
    "                  'Tunisia':'Middle East & North Africa',\n",
    "                  'Turkey':'Middle East & North Africa',\n",
    "                  'United Arab Emirates':'Middle East & North Africa',\n",
    "                  'Palestina':'Middle East & North Africa',\n",
    "                  'Western Sahara':'Middle East & North Africa',\n",
    "                  'Angola':'Sub-Saharan Africa',\n",
    "                  'Benin':'Sub-Saharan Africa',\n",
    "                  'Botswana':'Sub-Saharan Africa',\n",
    "                  'Burkina Faso':'Sub-Saharan Africa',\n",
    "                  'Burundi':'Sub-Saharan Africa',\n",
    "                  'Central African Republic':'Sub-Saharan Africa',\n",
    "                  'Chad':'Sub-Saharan Africa',\n",
    "                  'Comoros':'Sub-Saharan Africa',\n",
    "                  'Democratic Republic of the Congo':'Sub-Saharan Africa',\n",
    "                  'Djibouti':'Sub-Saharan Africa',\n",
    "                  'Equatorial Guinea':'Sub-Saharan Africa',\n",
    "                  'Eritrea':'Sub-Saharan Africa',\n",
    "                  'Ethiopia':'Sub-Saharan Africa',\n",
    "                  'Gabon':'Sub-Saharan Africa',\n",
    "                  'Gambia':'Sub-Saharan Africa',\n",
    "                  'Ghana':'Sub-Saharan Africa',\n",
    "                  'Guinea':'Sub-Saharan Africa',\n",
    "                  'Guinea-Bissau':'Sub-Saharan Africa',\n",
    "                  'Côre d\\'Ivore':'Sub-Saharan Africa',\n",
    "                  'Kenya':'Sub-Saharan Africa',\n",
    "                  'Lesotho':'Sub-Saharan Africa',\n",
    "                  'Liberia':'Sub-Saharan Africa',\n",
    "                  'Madagascar':'Sub-Saharan Africa',\n",
    "                  'Malawi':'Sub-Saharan Africa',\n",
    "                  'Mali':'Sub-Saharan Africa',\n",
    "                  'Mauritnia':'Sub-Saharan Africa',\n",
    "                  'Mozambique':'Sub-Saharan Africa',\n",
    "                  'Namibia':'Sub-Saharan Africa',\n",
    "                  'Niger':'Sub-Saharan Africa',\n",
    "                  'Nigeria':'Sub-Saharan Africa',\n",
    "                  'Republic of the Congo':'Sub-Saharan Africa',\n",
    "                  'Rwanda':'Sub-Saharan Africa',\n",
    "                  'Senegal':'Sub-Saharan Africa',\n",
    "                  'Seychelles':'Sub-Saharan Africa',\n",
    "                  'Sierra Leone':'Sub-Saharan Africa',\n",
    "                  'Somalia':'Sub-Saharan Africa',\n",
    "                  'South Africa':'Sub-Saharan Africa',\n",
    "                  'South Sudan':'Sub-Saharan Africa',\n",
    "                  'Sudan':'Sub-Saharan Africa',\n",
    "                  'Swaziland':'Sub-Saharan Africa',\n",
    "                  'Tanzania':'Sub-Saharan Africa',\n",
    "                  'Togo':'Sub-Saharan Africa',\n",
    "                  'Uganda':'Sub-Saharan Africa',\n",
    "                  'Zambia':'Sub-Saharan Africa',\n",
    "                  'Zimbabwe':'Sub-Saharan Africa',\n",
    "                  'Australia':'Australasia & Oceania',\n",
    "                  'Fiji':'Australasia & Oceania',\n",
    "                  'French Polynesia':'Australasia & Oceania',\n",
    "                  'New Caledonia':'Australasia & Oceania',\n",
    "                  'New Zealand':'Australasia & Oceania',\n",
    "                  'Papua New Guinea':'Australasia & Oceania',\n",
    "                  'Solomon Islands':'Australasia & Oceania',\n",
    "                  'Vanuatu':'Australasia & Oceania',\n",
    "                  'Wallis and Futuna Islands':'Australasia & Oceania'}\n",
    "\n"
   ]
  },
  {
   "cell_type": "code",
   "execution_count": 40,
   "metadata": {},
   "outputs": [],
   "source": [
    "region_ref = refugee_increase.copy()"
   ]
  },
  {
   "cell_type": "code",
   "execution_count": 41,
   "metadata": {},
   "outputs": [],
   "source": [
    "ref2 = region_ref.replace(country_region) "
   ]
  },
  {
   "cell_type": "code",
   "execution_count": 42,
   "metadata": {},
   "outputs": [
    {
     "data": {
      "text/plain": [
       "array(['Various/Unknown', 'Dem. Rep. of the Congo', 'Congo',\n",
       "       'Sub-Saharan Africa', 'Central Asia', 'Western Europe', 'Tibetan',\n",
       "       'Viet Nam', 'Middle East & North Africa', 'Syrian Arab Rep.',\n",
       "       'East Asia', 'Cabo Verde', 'Eastern Europe',\n",
       "       'Serbia and Kosovo (S/RES/1244 (1999))',\n",
       "       'Central America & Caribbean', 'Czech Rep.', 'Russian Federation',\n",
       "       'Bolivia (Plurinational State of)', 'South America',\n",
       "       'Southeast Asia', 'South Asia', 'United Rep. of Tanzania',\n",
       "       \"Lao People's Dem. Rep.\", 'Palestinian', 'Dominican Rep.',\n",
       "       'Iran (Islamic Rep. of)', 'Stateless', 'Central African Rep.',\n",
       "       'Mauritania', 'Sao Tome and Principe', \"Côte d'Ivoire\", 'Maldives',\n",
       "       'Cameroon', 'Mongolia', 'United States of America',\n",
       "       'Australasia & Oceania', 'Rep. of Korea', 'Bhutan',\n",
       "       'North America', 'Venezuela (Bolivarian Republic of)',\n",
       "       'China, Hong Kong SAR', 'Rep. of Moldova', 'Kyrgyzstan',\n",
       "       'The former Yugoslav Republic of Macedonia', 'Barbados',\n",
       "       'Mauritius', 'Oman', 'Puerto Rico', \"Dem. People's Rep. of Korea\",\n",
       "       'Saint Vincent and the Grenadines', 'Samoa', 'Saint Lucia',\n",
       "       'Tuvalu', 'Brunei Darussalam', 'Tonga', 'China, Macao SAR',\n",
       "       'Monaco', 'San Marino', 'Bermuda', 'Timor-Leste', 'Nauru', 'Palau',\n",
       "       'Kiribati', 'Micronesia (Federated States of)', 'Marshall Islands',\n",
       "       'Turks and Caicos Islands', 'Niue', 'Holy See (the)',\n",
       "       'Cook Islands', 'Liechtenstein', 'Aruba', 'British Virgin Islands',\n",
       "       'Curaçao', 'Saint-Pierre-et-Miquelon', 'Anguilla',\n",
       "       'Norfolk Island', 'Wallis and Futuna Islands ',\n",
       "       'Svalbard and Jan Mayen'], dtype=object)"
      ]
     },
     "execution_count": 42,
     "metadata": {},
     "output_type": "execute_result"
    }
   ],
   "source": [
    "ref2['Origin'].unique()"
   ]
  },
  {
   "cell_type": "code",
   "execution_count": 43,
   "metadata": {},
   "outputs": [],
   "source": [
    "refugee_region = ref2[(ref2.Origin == 'Sub-Saharan Africa') |\n",
    "                     (ref2.Origin == 'Central Asia') |\n",
    "                     (ref2.Origin == 'Western Europe') |\n",
    "                     (ref2.Origin == 'East Asia') |\n",
    "                     (ref2.Origin == 'Southeast Asia') |\n",
    "                     (ref2.Origin == 'Middle East & North Africa') |\n",
    "                     (ref2.Origin == 'Eastern Europe') | \n",
    "                     (ref2.Origin == 'Central America & Caribbean') | \n",
    "                     (ref2.Origin == 'South America') | \n",
    "                     (ref2.Origin == 'South Asia') | \n",
    "                     (ref2.Origin == 'North America') | \n",
    "                     (ref2.Origin == 'Australasia & Oceania')]"
   ]
  },
  {
   "cell_type": "code",
   "execution_count": 44,
   "metadata": {},
   "outputs": [
    {
     "data": {
      "text/html": [
       "<div>\n",
       "<style scoped>\n",
       "    .dataframe tbody tr th:only-of-type {\n",
       "        vertical-align: middle;\n",
       "    }\n",
       "\n",
       "    .dataframe tbody tr th {\n",
       "        vertical-align: top;\n",
       "    }\n",
       "\n",
       "    .dataframe thead th {\n",
       "        text-align: right;\n",
       "    }\n",
       "</style>\n",
       "<table border=\"1\" class=\"dataframe\">\n",
       "  <thead>\n",
       "    <tr style=\"text-align: right;\">\n",
       "      <th></th>\n",
       "      <th>Year</th>\n",
       "      <th>Origin</th>\n",
       "      <th>Refugees_increase</th>\n",
       "    </tr>\n",
       "  </thead>\n",
       "  <tbody>\n",
       "    <tr>\n",
       "      <td>3</td>\n",
       "      <td>1970</td>\n",
       "      <td>Sub-Saharan Africa</td>\n",
       "      <td>-2880</td>\n",
       "    </tr>\n",
       "    <tr>\n",
       "      <td>4</td>\n",
       "      <td>1970</td>\n",
       "      <td>Sub-Saharan Africa</td>\n",
       "      <td>-2850</td>\n",
       "    </tr>\n",
       "    <tr>\n",
       "      <td>5</td>\n",
       "      <td>1970</td>\n",
       "      <td>Sub-Saharan Africa</td>\n",
       "      <td>2560</td>\n",
       "    </tr>\n",
       "    <tr>\n",
       "      <td>6</td>\n",
       "      <td>1970</td>\n",
       "      <td>Sub-Saharan Africa</td>\n",
       "      <td>5930</td>\n",
       "    </tr>\n",
       "    <tr>\n",
       "      <td>7</td>\n",
       "      <td>1970</td>\n",
       "      <td>Sub-Saharan Africa</td>\n",
       "      <td>-4000</td>\n",
       "    </tr>\n",
       "    <tr>\n",
       "      <td>...</td>\n",
       "      <td>...</td>\n",
       "      <td>...</td>\n",
       "      <td>...</td>\n",
       "    </tr>\n",
       "    <tr>\n",
       "      <td>10150</td>\n",
       "      <td>2015</td>\n",
       "      <td>Australasia &amp; Oceania</td>\n",
       "      <td>0</td>\n",
       "    </tr>\n",
       "    <tr>\n",
       "      <td>10152</td>\n",
       "      <td>2015</td>\n",
       "      <td>Australasia &amp; Oceania</td>\n",
       "      <td>0</td>\n",
       "    </tr>\n",
       "    <tr>\n",
       "      <td>10153</td>\n",
       "      <td>2015</td>\n",
       "      <td>Eastern Europe</td>\n",
       "      <td>1765</td>\n",
       "    </tr>\n",
       "    <tr>\n",
       "      <td>10157</td>\n",
       "      <td>2015</td>\n",
       "      <td>Sub-Saharan Africa</td>\n",
       "      <td>307857</td>\n",
       "    </tr>\n",
       "    <tr>\n",
       "      <td>10160</td>\n",
       "      <td>2015</td>\n",
       "      <td>Central America &amp; Caribbean</td>\n",
       "      <td>11</td>\n",
       "    </tr>\n",
       "  </tbody>\n",
       "</table>\n",
       "<p>7130 rows × 3 columns</p>\n",
       "</div>"
      ],
      "text/plain": [
       "       Year                       Origin  Refugees_increase\n",
       "3      1970           Sub-Saharan Africa              -2880\n",
       "4      1970           Sub-Saharan Africa              -2850\n",
       "5      1970           Sub-Saharan Africa               2560\n",
       "6      1970           Sub-Saharan Africa               5930\n",
       "7      1970           Sub-Saharan Africa              -4000\n",
       "...     ...                          ...                ...\n",
       "10150  2015        Australasia & Oceania                  0\n",
       "10152  2015        Australasia & Oceania                  0\n",
       "10153  2015               Eastern Europe               1765\n",
       "10157  2015           Sub-Saharan Africa             307857\n",
       "10160  2015  Central America & Caribbean                 11\n",
       "\n",
       "[7130 rows x 3 columns]"
      ]
     },
     "execution_count": 44,
     "metadata": {},
     "output_type": "execute_result"
    }
   ],
   "source": [
    "refugee_region"
   ]
  },
  {
   "cell_type": "code",
   "execution_count": 45,
   "metadata": {},
   "outputs": [],
   "source": [
    "region_ref_grouped = refugee_region.groupby(['Origin', 'Year'])['Refugees_increase'].sum()\n",
    "\n",
    "region_ref = region_ref_grouped.reset_index()"
   ]
  },
  {
   "cell_type": "code",
   "execution_count": 224,
   "metadata": {},
   "outputs": [
    {
     "data": {
      "text/html": [
       "<div>\n",
       "<style scoped>\n",
       "    .dataframe tbody tr th:only-of-type {\n",
       "        vertical-align: middle;\n",
       "    }\n",
       "\n",
       "    .dataframe tbody tr th {\n",
       "        vertical-align: top;\n",
       "    }\n",
       "\n",
       "    .dataframe thead th {\n",
       "        text-align: right;\n",
       "    }\n",
       "</style>\n",
       "<table border=\"1\" class=\"dataframe\">\n",
       "  <thead>\n",
       "    <tr style=\"text-align: right;\">\n",
       "      <th></th>\n",
       "      <th>Refugees_increase</th>\n",
       "    </tr>\n",
       "    <tr>\n",
       "      <th>Origin</th>\n",
       "      <th></th>\n",
       "    </tr>\n",
       "  </thead>\n",
       "  <tbody>\n",
       "    <tr>\n",
       "      <td>Australasia &amp; Oceania</td>\n",
       "      <td>43.891304</td>\n",
       "    </tr>\n",
       "    <tr>\n",
       "      <td>Central America &amp; Caribbean</td>\n",
       "      <td>7179.869565</td>\n",
       "    </tr>\n",
       "    <tr>\n",
       "      <td>Central Asia</td>\n",
       "      <td>20684.391304</td>\n",
       "    </tr>\n",
       "    <tr>\n",
       "      <td>East Asia</td>\n",
       "      <td>4474.586957</td>\n",
       "    </tr>\n",
       "    <tr>\n",
       "      <td>Eastern Europe</td>\n",
       "      <td>47081.369565</td>\n",
       "    </tr>\n",
       "    <tr>\n",
       "      <td>Middle East &amp; North Africa</td>\n",
       "      <td>177561.891304</td>\n",
       "    </tr>\n",
       "    <tr>\n",
       "      <td>North America</td>\n",
       "      <td>1261.021739</td>\n",
       "    </tr>\n",
       "    <tr>\n",
       "      <td>South America</td>\n",
       "      <td>158867.543478</td>\n",
       "    </tr>\n",
       "    <tr>\n",
       "      <td>South Asia</td>\n",
       "      <td>127916.543478</td>\n",
       "    </tr>\n",
       "    <tr>\n",
       "      <td>Southeast Asia</td>\n",
       "      <td>23117.391304</td>\n",
       "    </tr>\n",
       "    <tr>\n",
       "      <td>Sub-Saharan Africa</td>\n",
       "      <td>267294.456522</td>\n",
       "    </tr>\n",
       "    <tr>\n",
       "      <td>Western Europe</td>\n",
       "      <td>-431.608696</td>\n",
       "    </tr>\n",
       "  </tbody>\n",
       "</table>\n",
       "</div>"
      ],
      "text/plain": [
       "                             Refugees_increase\n",
       "Origin                                        \n",
       "Australasia & Oceania                43.891304\n",
       "Central America & Caribbean        7179.869565\n",
       "Central Asia                      20684.391304\n",
       "East Asia                          4474.586957\n",
       "Eastern Europe                    47081.369565\n",
       "Middle East & North Africa       177561.891304\n",
       "North America                      1261.021739\n",
       "South America                    158867.543478\n",
       "South Asia                       127916.543478\n",
       "Southeast Asia                    23117.391304\n",
       "Sub-Saharan Africa               267294.456522\n",
       "Western Europe                     -431.608696"
      ]
     },
     "execution_count": 224,
     "metadata": {},
     "output_type": "execute_result"
    }
   ],
   "source": [
    "region_ref_origin2 = region_ref.copy()\n",
    "\n",
    "del region_ref_origin2['Year']\n",
    "\n",
    "region_ref_origin = region_ref_origin2.groupby('Origin').mean()\n",
    "region_ref_origin"
   ]
  },
  {
   "cell_type": "code",
   "execution_count": 140,
   "metadata": {},
   "outputs": [],
   "source": [
    "\n",
    "\n",
    "regions = region_ref.Origin.unique()\n",
    "\n",
    "percentages = []\n",
    "regions_dic = {}\n",
    "i = 0\n",
    "\n",
    "for region in regions:\n",
    "    #print(region)\n",
    "    mean = region_ref[region_ref.Origin == region]['Refugees_increase'].mean()\n",
    "    #print(mean)\n",
    "    for year in years:\n",
    "        current2 = sub_set3[sub_set3['Year'] == year]['Refugees_increase']\n",
    "        current = current2.values[0]\n",
    "        percentage = (current - mean)/mean*100\n",
    "        percentages.append(percentage)\n",
    "        sub_dic = {}\n",
    "        sub_dic['Year'] = year\n",
    "        sub_dic['region'] = region\n",
    "        sub_dic['Percentage_refugee'] = percentage\n",
    "        \n",
    "        regions_dic[i] = sub_dic\n",
    "        i+=1\n",
    "        \n",
    "        \n",
    "     \n",
    "\n",
    "refugee_region2 = pd.DataFrame(regions_dic)\n",
    "refugee_region = refugee_region2.T\n",
    "#refugee_region.Year = pd.to_datetime(refugee.Year, format='%Y')\n",
    "#refugee_region.index = pd.DatetimeIndex(refugee['Year'])\n",
    "\n",
    "refugee_region\n",
    "\n",
    "refugee_region.Year = pd.to_datetime(refugee_region.Year, format='%Y')\n",
    "refugee_region.index = pd.DatetimeIndex(refugee_region['Year'])\n",
    "del refugee_region['Year']\n",
    "#efugee_region[refugee_region.region == 'Western Europe']"
   ]
  },
  {
   "cell_type": "code",
   "execution_count": 50,
   "metadata": {},
   "outputs": [],
   "source": [
    "\n"
   ]
  },
  {
   "cell_type": "code",
   "execution_count": 75,
   "metadata": {},
   "outputs": [],
   "source": []
  },
  {
   "cell_type": "code",
   "execution_count": 107,
   "metadata": {},
   "outputs": [
    {
     "data": {
      "text/html": [
       "<div>\n",
       "<style scoped>\n",
       "    .dataframe tbody tr th:only-of-type {\n",
       "        vertical-align: middle;\n",
       "    }\n",
       "\n",
       "    .dataframe tbody tr th {\n",
       "        vertical-align: top;\n",
       "    }\n",
       "\n",
       "    .dataframe thead th {\n",
       "        text-align: right;\n",
       "    }\n",
       "</style>\n",
       "<table border=\"1\" class=\"dataframe\">\n",
       "  <thead>\n",
       "    <tr style=\"text-align: right;\">\n",
       "      <th></th>\n",
       "      <th>Year</th>\n",
       "      <th>region</th>\n",
       "      <th>Percentage_refugee</th>\n",
       "    </tr>\n",
       "  </thead>\n",
       "  <tbody>\n",
       "    <tr>\n",
       "      <td>0</td>\n",
       "      <td>1970-01-01</td>\n",
       "      <td>Australasia &amp; Oceania</td>\n",
       "      <td>22849.9</td>\n",
       "    </tr>\n",
       "    <tr>\n",
       "      <td>1</td>\n",
       "      <td>1971-01-01</td>\n",
       "      <td>Australasia &amp; Oceania</td>\n",
       "      <td>18081.3</td>\n",
       "    </tr>\n",
       "    <tr>\n",
       "      <td>2</td>\n",
       "      <td>1972-01-01</td>\n",
       "      <td>Australasia &amp; Oceania</td>\n",
       "      <td>171734</td>\n",
       "    </tr>\n",
       "    <tr>\n",
       "      <td>3</td>\n",
       "      <td>1973-01-01</td>\n",
       "      <td>Australasia &amp; Oceania</td>\n",
       "      <td>-466126</td>\n",
       "    </tr>\n",
       "    <tr>\n",
       "      <td>4</td>\n",
       "      <td>1974-01-01</td>\n",
       "      <td>Australasia &amp; Oceania</td>\n",
       "      <td>87361.5</td>\n",
       "    </tr>\n",
       "    <tr>\n",
       "      <td>...</td>\n",
       "      <td>...</td>\n",
       "      <td>...</td>\n",
       "      <td>...</td>\n",
       "    </tr>\n",
       "    <tr>\n",
       "      <td>535</td>\n",
       "      <td>2011-01-01</td>\n",
       "      <td>Western Europe</td>\n",
       "      <td>-160030</td>\n",
       "    </tr>\n",
       "    <tr>\n",
       "      <td>536</td>\n",
       "      <td>2012-01-01</td>\n",
       "      <td>Western Europe</td>\n",
       "      <td>-541312</td>\n",
       "    </tr>\n",
       "    <tr>\n",
       "      <td>537</td>\n",
       "      <td>2013-01-01</td>\n",
       "      <td>Western Europe</td>\n",
       "      <td>-1.77906e+06</td>\n",
       "    </tr>\n",
       "    <tr>\n",
       "      <td>538</td>\n",
       "      <td>2014-01-01</td>\n",
       "      <td>Western Europe</td>\n",
       "      <td>-2.70512e+06</td>\n",
       "    </tr>\n",
       "    <tr>\n",
       "      <td>539</td>\n",
       "      <td>2015-01-01</td>\n",
       "      <td>Western Europe</td>\n",
       "      <td>-1.93844e+06</td>\n",
       "    </tr>\n",
       "  </tbody>\n",
       "</table>\n",
       "<p>540 rows × 3 columns</p>\n",
       "</div>"
      ],
      "text/plain": [
       "          Year                 region Percentage_refugee\n",
       "0   1970-01-01  Australasia & Oceania            22849.9\n",
       "1   1971-01-01  Australasia & Oceania            18081.3\n",
       "2   1972-01-01  Australasia & Oceania             171734\n",
       "3   1973-01-01  Australasia & Oceania            -466126\n",
       "4   1974-01-01  Australasia & Oceania            87361.5\n",
       "..         ...                    ...                ...\n",
       "535 2011-01-01         Western Europe            -160030\n",
       "536 2012-01-01         Western Europe            -541312\n",
       "537 2013-01-01         Western Europe       -1.77906e+06\n",
       "538 2014-01-01         Western Europe       -2.70512e+06\n",
       "539 2015-01-01         Western Europe       -1.93844e+06\n",
       "\n",
       "[540 rows x 3 columns]"
      ]
     },
     "execution_count": 107,
     "metadata": {},
     "output_type": "execute_result"
    }
   ],
   "source": [
    "refugee_region.reset_index()"
   ]
  },
  {
   "cell_type": "code",
   "execution_count": 106,
   "metadata": {},
   "outputs": [
    {
     "data": {
      "text/html": [
       "<div>\n",
       "<style scoped>\n",
       "    .dataframe tbody tr th:only-of-type {\n",
       "        vertical-align: middle;\n",
       "    }\n",
       "\n",
       "    .dataframe tbody tr th {\n",
       "        vertical-align: top;\n",
       "    }\n",
       "\n",
       "    .dataframe thead th {\n",
       "        text-align: right;\n",
       "    }\n",
       "</style>\n",
       "<table border=\"1\" class=\"dataframe\">\n",
       "  <thead>\n",
       "    <tr style=\"text-align: right;\">\n",
       "      <th></th>\n",
       "      <th>Year</th>\n",
       "      <th>region</th>\n",
       "      <th>Percentage</th>\n",
       "    </tr>\n",
       "  </thead>\n",
       "  <tbody>\n",
       "    <tr>\n",
       "      <td>0</td>\n",
       "      <td>1970-01-01</td>\n",
       "      <td>Central America &amp; Caribbean</td>\n",
       "      <td>-96.952694</td>\n",
       "    </tr>\n",
       "    <tr>\n",
       "      <td>1</td>\n",
       "      <td>1971-01-01</td>\n",
       "      <td>Central America &amp; Caribbean</td>\n",
       "      <td>-97.823353</td>\n",
       "    </tr>\n",
       "    <tr>\n",
       "      <td>2</td>\n",
       "      <td>1972-01-01</td>\n",
       "      <td>Central America &amp; Caribbean</td>\n",
       "      <td>-98.694012</td>\n",
       "    </tr>\n",
       "    <tr>\n",
       "      <td>3</td>\n",
       "      <td>1973-01-01</td>\n",
       "      <td>Central America &amp; Caribbean</td>\n",
       "      <td>-97.388024</td>\n",
       "    </tr>\n",
       "    <tr>\n",
       "      <td>4</td>\n",
       "      <td>1974-01-01</td>\n",
       "      <td>Central America &amp; Caribbean</td>\n",
       "      <td>-95.211377</td>\n",
       "    </tr>\n",
       "    <tr>\n",
       "      <td>...</td>\n",
       "      <td>...</td>\n",
       "      <td>...</td>\n",
       "      <td>...</td>\n",
       "    </tr>\n",
       "    <tr>\n",
       "      <td>535</td>\n",
       "      <td>2011-01-01</td>\n",
       "      <td>Central Asia</td>\n",
       "      <td>-24.860853</td>\n",
       "    </tr>\n",
       "    <tr>\n",
       "      <td>536</td>\n",
       "      <td>2012-01-01</td>\n",
       "      <td>Central Asia</td>\n",
       "      <td>0.185529</td>\n",
       "    </tr>\n",
       "    <tr>\n",
       "      <td>537</td>\n",
       "      <td>2013-01-01</td>\n",
       "      <td>Central Asia</td>\n",
       "      <td>-41.558442</td>\n",
       "    </tr>\n",
       "    <tr>\n",
       "      <td>538</td>\n",
       "      <td>2014-01-01</td>\n",
       "      <td>Central Asia</td>\n",
       "      <td>-24.860853</td>\n",
       "    </tr>\n",
       "    <tr>\n",
       "      <td>539</td>\n",
       "      <td>2015-01-01</td>\n",
       "      <td>Central Asia</td>\n",
       "      <td>-16.512059</td>\n",
       "    </tr>\n",
       "  </tbody>\n",
       "</table>\n",
       "<p>540 rows × 3 columns</p>\n",
       "</div>"
      ],
      "text/plain": [
       "          Year                       region  Percentage\n",
       "0   1970-01-01  Central America & Caribbean  -96.952694\n",
       "1   1971-01-01  Central America & Caribbean  -97.823353\n",
       "2   1972-01-01  Central America & Caribbean  -98.694012\n",
       "3   1973-01-01  Central America & Caribbean  -97.388024\n",
       "4   1974-01-01  Central America & Caribbean  -95.211377\n",
       "..         ...                          ...         ...\n",
       "535 2011-01-01                 Central Asia  -24.860853\n",
       "536 2012-01-01                 Central Asia    0.185529\n",
       "537 2013-01-01                 Central Asia  -41.558442\n",
       "538 2014-01-01                 Central Asia  -24.860853\n",
       "539 2015-01-01                 Central Asia  -16.512059\n",
       "\n",
       "[540 rows x 3 columns]"
      ]
     },
     "execution_count": 106,
     "metadata": {},
     "output_type": "execute_result"
    }
   ],
   "source": [
    "terrorism_p\n",
    "\n",
    "#terrorism_p.Year = pd.to_datetime(terrorism_p.Year, format='%Y')\n",
    "#terrorism_p.index = pd.DatetimeIndex(terrorism_p['Year'])\n",
    "\n",
    "#del terrorism_p['Year']\n",
    "terrorism_p[terrorism_p.region == 'Western Europe']\n",
    "\n",
    "terrorism_p.reset_index()"
   ]
  },
  {
   "cell_type": "code",
   "execution_count": 162,
   "metadata": {},
   "outputs": [],
   "source": [
    "\n",
    "\n",
    "region_merged3 = pd.merge(terrorism_p, refugee_region, on=['region', 'Year'])"
   ]
  },
  {
   "cell_type": "code",
   "execution_count": 164,
   "metadata": {},
   "outputs": [
    {
     "data": {
      "text/html": [
       "<div>\n",
       "<style scoped>\n",
       "    .dataframe tbody tr th:only-of-type {\n",
       "        vertical-align: middle;\n",
       "    }\n",
       "\n",
       "    .dataframe tbody tr th {\n",
       "        vertical-align: top;\n",
       "    }\n",
       "\n",
       "    .dataframe thead th {\n",
       "        text-align: right;\n",
       "    }\n",
       "</style>\n",
       "<table border=\"1\" class=\"dataframe\">\n",
       "  <thead>\n",
       "    <tr style=\"text-align: right;\">\n",
       "      <th></th>\n",
       "      <th>region</th>\n",
       "      <th>Terrorism attacks %</th>\n",
       "      <th>Refugee %</th>\n",
       "    </tr>\n",
       "    <tr>\n",
       "      <th>Year</th>\n",
       "      <th></th>\n",
       "      <th></th>\n",
       "      <th></th>\n",
       "    </tr>\n",
       "  </thead>\n",
       "  <tbody>\n",
       "    <tr>\n",
       "      <td>1970-01-01</td>\n",
       "      <td>Central America &amp; Caribbean</td>\n",
       "      <td>-96.952694</td>\n",
       "      <td>40.295</td>\n",
       "    </tr>\n",
       "    <tr>\n",
       "      <td>1971-01-01</td>\n",
       "      <td>Central America &amp; Caribbean</td>\n",
       "      <td>-97.823353</td>\n",
       "      <td>11.1441</td>\n",
       "    </tr>\n",
       "    <tr>\n",
       "      <td>1972-01-01</td>\n",
       "      <td>Central America &amp; Caribbean</td>\n",
       "      <td>-98.694012</td>\n",
       "      <td>950.437</td>\n",
       "    </tr>\n",
       "    <tr>\n",
       "      <td>1973-01-01</td>\n",
       "      <td>Central America &amp; Caribbean</td>\n",
       "      <td>-97.388024</td>\n",
       "      <td>-2948.87</td>\n",
       "    </tr>\n",
       "    <tr>\n",
       "      <td>1974-01-01</td>\n",
       "      <td>Central America &amp; Caribbean</td>\n",
       "      <td>-95.211377</td>\n",
       "      <td>434.662</td>\n",
       "    </tr>\n",
       "    <tr>\n",
       "      <td>...</td>\n",
       "      <td>...</td>\n",
       "      <td>...</td>\n",
       "      <td>...</td>\n",
       "    </tr>\n",
       "    <tr>\n",
       "      <td>2011-01-01</td>\n",
       "      <td>Central Asia</td>\n",
       "      <td>-24.860853</td>\n",
       "      <td>3237.17</td>\n",
       "    </tr>\n",
       "    <tr>\n",
       "      <td>2012-01-01</td>\n",
       "      <td>Central Asia</td>\n",
       "      <td>0.185529</td>\n",
       "      <td>11193.1</td>\n",
       "    </tr>\n",
       "    <tr>\n",
       "      <td>2013-01-01</td>\n",
       "      <td>Central Asia</td>\n",
       "      <td>-41.558442</td>\n",
       "      <td>37020.6</td>\n",
       "    </tr>\n",
       "    <tr>\n",
       "      <td>2014-01-01</td>\n",
       "      <td>Central Asia</td>\n",
       "      <td>-24.860853</td>\n",
       "      <td>56344.1</td>\n",
       "    </tr>\n",
       "    <tr>\n",
       "      <td>2015-01-01</td>\n",
       "      <td>Central Asia</td>\n",
       "      <td>-16.512059</td>\n",
       "      <td>40346.1</td>\n",
       "    </tr>\n",
       "  </tbody>\n",
       "</table>\n",
       "<p>540 rows × 3 columns</p>\n",
       "</div>"
      ],
      "text/plain": [
       "                                 region  Terrorism attacks % Refugee %\n",
       "Year                                                                  \n",
       "1970-01-01  Central America & Caribbean           -96.952694    40.295\n",
       "1971-01-01  Central America & Caribbean           -97.823353   11.1441\n",
       "1972-01-01  Central America & Caribbean           -98.694012   950.437\n",
       "1973-01-01  Central America & Caribbean           -97.388024  -2948.87\n",
       "1974-01-01  Central America & Caribbean           -95.211377   434.662\n",
       "...                                 ...                  ...       ...\n",
       "2011-01-01                 Central Asia           -24.860853   3237.17\n",
       "2012-01-01                 Central Asia             0.185529   11193.1\n",
       "2013-01-01                 Central Asia           -41.558442   37020.6\n",
       "2014-01-01                 Central Asia           -24.860853   56344.1\n",
       "2015-01-01                 Central Asia           -16.512059   40346.1\n",
       "\n",
       "[540 rows x 3 columns]"
      ]
     },
     "execution_count": 164,
     "metadata": {},
     "output_type": "execute_result"
    }
   ],
   "source": [
    "region_merged = region_merged3.rename(columns={\"Percentage\": \"Terrorism attacks %\", \"Percentage_refugee\": \"Refugee %\",\n",
    "                             })\n",
    "region_merged"
   ]
  },
  {
   "cell_type": "code",
   "execution_count": 165,
   "metadata": {},
   "outputs": [],
   "source": [
    "Central_America_ref = region_merged[region_merged.region == 'Central America & Caribbean']\n",
    "Australasia_ref = region_merged[region_merged.region == 'Australasia & Oceania']\n",
    "Central_Asia_ref = region_merged[region_merged.region == 'Central Asia']\n",
    "East_Asia_ref = region_merged[region_merged.region == 'East Asia']\n",
    "EasternEurope_ref = region_merged[region_merged.region == 'Eastern Europe']\n",
    "MiddelEast_NorthAfrica = region_merged[region_merged.region == 'Middle East & North Africa']\n",
    "North_America_ref = region_merged[region_merged.region == 'North America']\n",
    "South_America_ref = region_merged[region_merged.region == 'South America']\n",
    "Southeast_Asia_ref = region_merged[region_merged.region == 'Southeast Asia']\n",
    "SubSaharan_Africa_ref = region_merged[region_merged.region == 'Sub-Saharan Africa']\n",
    "WesternEurope_ref = region_merged[region_merged.region == 'Western Europe']\n"
   ]
  },
  {
   "cell_type": "code",
   "execution_count": 344,
   "metadata": {},
   "outputs": [
    {
     "name": "stdout",
     "output_type": "stream",
     "text": [
      "Ttest_indResult(statistic=-2.8162135600282525, pvalue=0.0072466933608579046)\n",
      "R2 = 0.006\n",
      "correlation -0.0929414057485625\n"
     ]
    },
    {
     "data": {
      "text/plain": [
       "Text(0.5, 1.0, 'Central_America')"
      ]
     },
     "execution_count": 344,
     "metadata": {},
     "output_type": "execute_result"
    },
    {
     "data": {
      "image/png": "[encoded data removed]",
      "text/plain": [
       "<Figure size 432x288 with 1 Axes>"
      ]
     },
     "metadata": {
      "needs_background": "light"
     },
     "output_type": "display_data"
    }
   ],
   "source": [
    "# central AMerca \n",
    "Central_America_ref2 = Central_America_ref.fillna(0)\n",
    "\n",
    "\n",
    "print(ttest_ind(Central_America_ref2['Terrorism attacks %'], Central_America_ref2['Refugee %'], equal_var=False))\n",
    "\n",
    "X3 = Central_America_ref2['Terrorism attacks %']\n",
    "Y3 = Central_America_ref2['Refugee %']\n",
    "\n",
    "model = sm.OLS(Y3,X3)\n",
    "results = model.fit()\n",
    "predictions2 = results.predict(X3)\n",
    "\n",
    "print('R2 =', 0.006)\n",
    "\n",
    "print('correlation', Central_America_ref2['Terrorism attacks %'].corr(Central_America_ref2['Refugee %']))\n",
    "\n",
    "sns.regplot(Y3, X3, color= 'red').set_title('Central_America')\n",
    "\n",
    "\n"
   ]
  },
  {
   "cell_type": "code",
   "execution_count": 321,
   "metadata": {},
   "outputs": [
    {
     "name": "stdout",
     "output_type": "stream",
     "text": [
      "Ttest_indResult(statistic=-2.8342165123777185, pvalue=0.006911133428079022)\n",
      "R2 =  0.006\n",
      "correlation 0.008789471832914907\n"
     ]
    },
    {
     "data": {
      "text/plain": [
       "Text(0.5, 1.0, 'Australasia & Oceania')"
      ]
     },
     "execution_count": 321,
     "metadata": {},
     "output_type": "execute_result"
    },
    {
     "data": {
      "image/png": "[encoded data removed]",
      "text/plain": [
       "<Figure size 432x288 with 1 Axes>"
      ]
     },
     "metadata": {
      "needs_background": "light"
     },
     "output_type": "display_data"
    }
   ],
   "source": [
    "Australasia_ref2 = Australasia_ref.fillna(0)\n",
    "\n",
    "\n",
    "print(ttest_ind(Australasia_ref2['Terrorism attacks %'], Australasia_ref2['Refugee %'], equal_var=False))\n",
    "\n",
    "X3 = Australasia_ref2['Terrorism attacks %']\n",
    "Y3 = Australasia_ref2['Refugee %']\n",
    "\n",
    "model = sm.OLS(Y3,X3)\n",
    "results = model.fit()\n",
    "predictions2 = results.predict(X3)\n",
    "\n",
    "print('R2 = ', 0.006)\n",
    "\n",
    "print('correlation', Australasia_ref2['Terrorism attacks %'].corr(Australasia_ref2['Refugee %']))\n",
    "\n",
    "sns.regplot(Y3, X3, color= 'red').set_title('Australasia & Oceania')\n",
    "\n"
   ]
  },
  {
   "cell_type": "code",
   "execution_count": 318,
   "metadata": {},
   "outputs": [
    {
     "name": "stdout",
     "output_type": "stream",
     "text": [
      "Ttest_indResult(statistic=-2.759351569603444, pvalue=0.008408193714756814)\n",
      "R2 = 0.006\n",
      "correlation 1.0\n"
     ]
    },
    {
     "data": {
      "text/plain": [
       "Text(0.5, 1.0, 'Central Asia')"
      ]
     },
     "execution_count": 318,
     "metadata": {},
     "output_type": "execute_result"
    },
    {
     "data": {
      "image/png": "[encoded data removed]",
      "text/plain": [
       "<Figure size 432x288 with 1 Axes>"
      ]
     },
     "metadata": {
      "needs_background": "light"
     },
     "output_type": "display_data"
    }
   ],
   "source": [
    "Central_Asia_ref2 = Central_Asia_ref.fillna(0)\n",
    "\n",
    "\n",
    "print(ttest_ind(Central_Asia_ref2['Terrorism attacks %'], Central_Asia_ref2['Refugee %'], equal_var=False))\n",
    "\n",
    "X3 = Central_Asia_ref2['Terrorism attacks %']\n",
    "Y3 = Central_Asia_ref2['Refugee %']\n",
    "\n",
    "model = sm.OLS(Y3,X3)\n",
    "results = model.fit()\n",
    "predictions2 = results.predict(X3)\n",
    "\n",
    "print('R2 =', 0.006)\n",
    "\n",
    "print('correlation', Central_Asia_ref2['Terrorism attacks %'].corr(Central_Asia_ref2['Terrorism attacks %']))\n",
    "\n",
    "sns.regplot(Y3, X3, color= 'red').set_title('Central Asia')\n"
   ]
  },
  {
   "cell_type": "code",
   "execution_count": 315,
   "metadata": {},
   "outputs": [
    {
     "name": "stdout",
     "output_type": "stream",
     "text": [
      "Ttest_indResult(statistic=-2.822806547153045, pvalue=0.007122114600349008)\n",
      "R2 = 0.01\n",
      "correlation 0.09559169262669549\n"
     ]
    },
    {
     "data": {
      "text/plain": [
       "Text(0.5, 1.0, 'East Asia')"
      ]
     },
     "execution_count": 315,
     "metadata": {},
     "output_type": "execute_result"
    },
    {
     "data": {
      "image/png": "[encoded data removed]",
      "text/plain": [
       "<Figure size 432x288 with 1 Axes>"
      ]
     },
     "metadata": {
      "needs_background": "light"
     },
     "output_type": "display_data"
    }
   ],
   "source": [
    "East_Asia_ref2 = East_Asia_ref.fillna(0)\n",
    "\n",
    "\n",
    "print(ttest_ind(East_Asia_ref2['Terrorism attacks %'], East_Asia_ref2['Refugee %'], equal_var=False))\n",
    "\n",
    "X3 = East_Asia_ref2['Terrorism attacks %']\n",
    "Y3 = East_Asia_ref2['Refugee %']\n",
    "\n",
    "model = sm.OLS(Y3,X3)\n",
    "results = model.fit()\n",
    "predictions2 = results.predict(X3)\n",
    "\n",
    "print('R2 =', 0.010)\n",
    "\n",
    "print('correlation', East_Asia_ref2['Terrorism attacks %'].corr(East_Asia_ref2['Refugee %']))\n",
    "\n",
    "sns.regplot(Y3, X3, color= 'red').set_title('East Asia')\n",
    "\n",
    "\n"
   ]
  },
  {
   "cell_type": "code",
   "execution_count": 312,
   "metadata": {},
   "outputs": [
    {
     "name": "stdout",
     "output_type": "stream",
     "text": [
      "Ttest_indResult(statistic=-2.706702431220243, pvalue=0.00963087712224149)\n",
      "R2 = 0.386\n",
      "correlation 0.6508949078638471\n"
     ]
    },
    {
     "data": {
      "text/html": [
       "<table class=\"simpletable\">\n",
       "<caption>OLS Regression Results</caption>\n",
       "<tr>\n",
       "  <th>Dep. Variable:</th>        <td>Refugee %</td>    <th>  R-squared (uncentered):</th>      <td>   0.386</td>\n",
       "</tr>\n",
       "<tr>\n",
       "  <th>Model:</th>                   <td>OLS</td>       <th>  Adj. R-squared (uncentered):</th> <td>   0.373</td>\n",
       "</tr>\n",
       "<tr>\n",
       "  <th>Method:</th>             <td>Least Squares</td>  <th>  F-statistic:       </th>          <td>   27.72</td>\n",
       "</tr>\n",
       "<tr>\n",
       "  <th>Date:</th>             <td>Thu, 07 Nov 2019</td> <th>  Prob (F-statistic):</th>          <td>4.00e-06</td>\n",
       "</tr>\n",
       "<tr>\n",
       "  <th>Time:</th>                 <td>14:48:23</td>     <th>  Log-Likelihood:    </th>          <td> -445.60</td>\n",
       "</tr>\n",
       "<tr>\n",
       "  <th>No. Observations:</th>      <td>    45</td>      <th>  AIC:               </th>          <td>   893.2</td>\n",
       "</tr>\n",
       "<tr>\n",
       "  <th>Df Residuals:</th>          <td>    44</td>      <th>  BIC:               </th>          <td>   895.0</td>\n",
       "</tr>\n",
       "<tr>\n",
       "  <th>Df Model:</th>              <td>     1</td>      <th>                     </th>              <td> </td>   \n",
       "</tr>\n",
       "<tr>\n",
       "  <th>Covariance Type:</th>      <td>nonrobust</td>    <th>                     </th>              <td> </td>   \n",
       "</tr>\n",
       "</table>\n",
       "<table class=\"simpletable\">\n",
       "<tr>\n",
       "           <td></td>              <th>coef</th>     <th>std err</th>      <th>t</th>      <th>P>|t|</th>  <th>[0.025</th>    <th>0.975]</th>  \n",
       "</tr>\n",
       "<tr>\n",
       "  <th>Terrorism attacks %</th> <td>   23.0517</td> <td>    4.378</td> <td>    5.265</td> <td> 0.000</td> <td>   14.228</td> <td>   31.876</td>\n",
       "</tr>\n",
       "</table>\n",
       "<table class=\"simpletable\">\n",
       "<tr>\n",
       "  <th>Omnibus:</th>       <td>11.113</td> <th>  Durbin-Watson:     </th> <td>   1.079</td>\n",
       "</tr>\n",
       "<tr>\n",
       "  <th>Prob(Omnibus):</th> <td> 0.004</td> <th>  Jarque-Bera (JB):  </th> <td>  13.599</td>\n",
       "</tr>\n",
       "<tr>\n",
       "  <th>Skew:</th>          <td> 0.797</td> <th>  Prob(JB):          </th> <td> 0.00111</td>\n",
       "</tr>\n",
       "<tr>\n",
       "  <th>Kurtosis:</th>      <td> 5.170</td> <th>  Cond. No.          </th> <td>    1.00</td>\n",
       "</tr>\n",
       "</table><br/><br/>Warnings:<br/>[1] Standard Errors assume that the covariance matrix of the errors is correctly specified."
      ],
      "text/plain": [
       "<class 'statsmodels.iolib.summary.Summary'>\n",
       "\"\"\"\n",
       "                                 OLS Regression Results                                \n",
       "=======================================================================================\n",
       "Dep. Variable:              Refugee %   R-squared (uncentered):                   0.386\n",
       "Model:                            OLS   Adj. R-squared (uncentered):              0.373\n",
       "Method:                 Least Squares   F-statistic:                              27.72\n",
       "Date:                Thu, 07 Nov 2019   Prob (F-statistic):                    4.00e-06\n",
       "Time:                        14:48:23   Log-Likelihood:                         -445.60\n",
       "No. Observations:                  45   AIC:                                      893.2\n",
       "Df Residuals:                      44   BIC:                                      895.0\n",
       "Df Model:                           1                                                  \n",
       "Covariance Type:            nonrobust                                                  \n",
       "=======================================================================================\n",
       "                          coef    std err          t      P>|t|      [0.025      0.975]\n",
       "---------------------------------------------------------------------------------------\n",
       "Terrorism attacks %    23.0517      4.378      5.265      0.000      14.228      31.876\n",
       "==============================================================================\n",
       "Omnibus:                       11.113   Durbin-Watson:                   1.079\n",
       "Prob(Omnibus):                  0.004   Jarque-Bera (JB):               13.599\n",
       "Skew:                           0.797   Prob(JB):                      0.00111\n",
       "Kurtosis:                       5.170   Cond. No.                         1.00\n",
       "==============================================================================\n",
       "\n",
       "Warnings:\n",
       "[1] Standard Errors assume that the covariance matrix of the errors is correctly specified.\n",
       "\"\"\""
      ]
     },
     "execution_count": 312,
     "metadata": {},
     "output_type": "execute_result"
    },
    {
     "data": {
      "image/png": "[encoded data removed]",
      "text/plain": [
       "<Figure size 432x288 with 1 Axes>"
      ]
     },
     "metadata": {
      "needs_background": "light"
     },
     "output_type": "display_data"
    }
   ],
   "source": [
    "EasternEurope_ref2 = EasternEurope_ref.fillna(0)\n",
    "\n",
    "\n",
    "print(ttest_ind(EasternEurope_ref2['Terrorism attacks %'], EasternEurope_ref2['Refugee %'], equal_var=False))\n",
    "\n",
    "X3 = EasternEurope_ref2['Terrorism attacks %']\n",
    "Y3 = EasternEurope_ref2['Refugee %']\n",
    "\n",
    "model = sm.OLS(Y3,X3)\n",
    "results = model.fit()\n",
    "predictions2 = results.predict(X3)\n",
    "\n",
    "print('R2 =', 0.386)\n",
    "\n",
    "print('correlation', EasternEurope_ref2['Terrorism attacks %'].corr(EasternEurope_ref2['Refugee %']))\n",
    "\n",
    "sns.regplot(Y3, X3, color= 'orange').set_title('Eastern Europe')\n",
    "results.summary()\n"
   ]
  },
  {
   "cell_type": "code",
   "execution_count": 309,
   "metadata": {},
   "outputs": [
    {
     "name": "stdout",
     "output_type": "stream",
     "text": [
      "Ttest_indResult(statistic=-2.3829424534998966, pvalue=0.021459758072353216)\n",
      "R2 = 0.591\n",
      "correlation 0.8171418975423699\n"
     ]
    },
    {
     "data": {
      "text/plain": [
       "Text(0.5, 1.0, 'Middle East & North Africa')"
      ]
     },
     "execution_count": 309,
     "metadata": {},
     "output_type": "execute_result"
    },
    {
     "data": {
      "image/png": "[encoded data removed]",
      "text/plain": [
       "<Figure size 432x288 with 1 Axes>"
      ]
     },
     "metadata": {
      "needs_background": "light"
     },
     "output_type": "display_data"
    }
   ],
   "source": [
    "MiddelEast_NorthAfrica2 = MiddelEast_NorthAfrica.fillna(0)\n",
    "\n",
    "\n",
    "print(ttest_ind(MiddelEast_NorthAfrica2['Terrorism attacks %'], MiddelEast_NorthAfrica2['Refugee %'], equal_var=False))\n",
    "\n",
    "X3 = MiddelEast_NorthAfrica2['Terrorism attacks %']\n",
    "Y3 = MiddelEast_NorthAfrica2['Refugee %']\n",
    "\n",
    "model = sm.OLS(Y3,X3)\n",
    "results = model.fit()\n",
    "predictions2 = results.predict(X3)\n",
    "\n",
    "print('R2 =', 0.591)\n",
    "\n",
    "print('correlation', MiddelEast_NorthAfrica2['Terrorism attacks %'].corr(MiddelEast_NorthAfrica2['Refugee %']))\n",
    "\n",
    "sns.regplot(Y3, X3, color= 'green').set_title('Middle East & North Africa')\n",
    "\n",
    "\n",
    "\n"
   ]
  },
  {
   "cell_type": "code",
   "execution_count": 307,
   "metadata": {},
   "outputs": [
    {
     "name": "stdout",
     "output_type": "stream",
     "text": [
      "Ttest_indResult(statistic=-2.8312322598657973, pvalue=0.0069657518341634155)\n",
      "R2 = 0.032\n",
      "correlation -0.19354360356272918\n"
     ]
    },
    {
     "data": {
      "text/plain": [
       "Text(0.5, 1.0, 'North America')"
      ]
     },
     "execution_count": 307,
     "metadata": {},
     "output_type": "execute_result"
    },
    {
     "data": {
      "image/png": "[encoded data removed]",
      "text/plain": [
       "<Figure size 432x288 with 1 Axes>"
      ]
     },
     "metadata": {
      "needs_background": "light"
     },
     "output_type": "display_data"
    }
   ],
   "source": [
    "North_America_ref2 = North_America_ref.fillna(0)\n",
    "\n",
    "\n",
    "print(ttest_ind(North_America_ref2['Terrorism attacks %'], North_America_ref2['Refugee %'], equal_var=False))\n",
    "\n",
    "X3 = North_America_ref2['Terrorism attacks %']\n",
    "Y3 = North_America_ref2['Refugee %']\n",
    "\n",
    "model = sm.OLS(Y3,X3)\n",
    "results = model.fit()\n",
    "predictions2 = results.predict(X3)\n",
    "\n",
    "print('R2 =', 0.032)\n",
    "\n",
    "print('correlation', North_America_ref2['Terrorism attacks %'].corr(North_America_ref2['Refugee %']))\n",
    "\n",
    "sns.regplot(Y3, X3, color= 'red').set_title('North America')\n",
    "\n",
    "\n",
    "\n"
   ]
  },
  {
   "cell_type": "code",
   "execution_count": 305,
   "metadata": {},
   "outputs": [
    {
     "name": "stdout",
     "output_type": "stream",
     "text": [
      "Ttest_indResult(statistic=-2.437336987797222, pvalue=0.018872169864956552)\n",
      "R2 = 0.011\n",
      "correlation -0.11245648352213806\n"
     ]
    },
    {
     "data": {
      "text/plain": [
       "Text(0.5, 1.0, 'South America')"
      ]
     },
     "execution_count": 305,
     "metadata": {},
     "output_type": "execute_result"
    },
    {
     "data": {
      "image/png": "[encoded data removed]",
      "text/plain": [
       "<Figure size 432x288 with 1 Axes>"
      ]
     },
     "metadata": {
      "needs_background": "light"
     },
     "output_type": "display_data"
    }
   ],
   "source": [
    "South_America_ref2 = South_America_ref.fillna(0)\n",
    "\n",
    "\n",
    "print(ttest_ind(South_America_ref2['Terrorism attacks %'], South_America_ref2['Refugee %'], equal_var=False))\n",
    "\n",
    "X3 = South_America_ref2['Terrorism attacks %']\n",
    "Y3 = South_America_ref2['Refugee %']\n",
    "\n",
    "model = sm.OLS(Y3,X3)\n",
    "results = model.fit()\n",
    "predictions2 = results.predict(X3)\n",
    "\n",
    "print('R2 =', 0.011)\n",
    "\n",
    "print('correlation', South_America_ref2['Terrorism attacks %'].corr(South_America_ref2['Refugee %']))\n",
    "\n",
    "sns.regplot(Y3, X3, color= 'red').set_title('South America')\n",
    "\n",
    "\n"
   ]
  },
  {
   "cell_type": "code",
   "execution_count": 302,
   "metadata": {},
   "outputs": [
    {
     "name": "stdout",
     "output_type": "stream",
     "text": [
      "Ttest_indResult(statistic=-2.7771521197710376, pvalue=0.008027058521531783)\n",
      "R2 = 0.478\n",
      "correlation 0.7495069954944532\n"
     ]
    },
    {
     "data": {
      "text/plain": [
       "Text(0.5, 1.0, 'Southeast Asia')"
      ]
     },
     "execution_count": 302,
     "metadata": {},
     "output_type": "execute_result"
    },
    {
     "data": {
      "image/png": "[encoded data removed]",
      "text/plain": [
       "<Figure size 432x288 with 1 Axes>"
      ]
     },
     "metadata": {
      "needs_background": "light"
     },
     "output_type": "display_data"
    }
   ],
   "source": [
    "\n",
    "Southeast_Asia_ref2 = Southeast_Asia_ref.fillna(0)\n",
    "\n",
    "\n",
    "print(ttest_ind(Southeast_Asia_ref2['Terrorism attacks %'], Southeast_Asia_ref2['Refugee %'], equal_var=False))\n",
    "\n",
    "X3 = Southeast_Asia_ref2['Terrorism attacks %']\n",
    "Y3 = Southeast_Asia_ref2['Refugee %']\n",
    "\n",
    "model = sm.OLS(Y3,X3)\n",
    "results = model.fit()\n",
    "predictions2 = results.predict(X3)\n",
    "\n",
    "print('R2 =', 0.478)\n",
    "\n",
    "print('correlation', Southeast_Asia_ref2['Terrorism attacks %'].corr(Southeast_Asia_ref2['Refugee %']))\n",
    "\n",
    "sns.regplot(Y3, X3, color= 'green').set_title('Southeast Asia')\n",
    "\n",
    "\n"
   ]
  },
  {
   "cell_type": "code",
   "execution_count": 300,
   "metadata": {},
   "outputs": [
    {
     "name": "stdout",
     "output_type": "stream",
     "text": [
      "Ttest_indResult(statistic=-2.149614321088132, pvalue=0.03687021792166965)\n",
      "R2 = 0.524\n",
      "correlation 0.7615858329800054\n"
     ]
    },
    {
     "data": {
      "text/plain": [
       "Text(0.5, 1.0, 'Sub-Saharan Africa')"
      ]
     },
     "execution_count": 300,
     "metadata": {},
     "output_type": "execute_result"
    },
    {
     "data": {
      "image/png": "[encoded data removed]",
      "text/plain": [
       "<Figure size 432x288 with 1 Axes>"
      ]
     },
     "metadata": {
      "needs_background": "light"
     },
     "output_type": "display_data"
    }
   ],
   "source": [
    "SubSaharan_Africa_ref2 = SubSaharan_Africa_ref.fillna(0)\n",
    "\n",
    "\n",
    "print(ttest_ind(SubSaharan_Africa_ref2['Terrorism attacks %'], SubSaharan_Africa_ref2['Refugee %'], equal_var=False))\n",
    "\n",
    "X3 = SubSaharan_Africa_ref2['Terrorism attacks %']\n",
    "Y3 = SubSaharan_Africa_ref2['Refugee %']\n",
    "\n",
    "model = sm.OLS(Y3,X3)\n",
    "results = model.fit()\n",
    "predictions2 = results.predict(X3)\n",
    "\n",
    "print('R2 =', 0.524)\n",
    "\n",
    "print('correlation', SubSaharan_Africa_ref2['Terrorism attacks %'].corr(SubSaharan_Africa_ref2['Refugee %']))\n",
    "\n",
    "\n",
    "sns.regplot(Y3, X3, color= 'green').set_title('Sub-Saharan Africa')\n"
   ]
  },
  {
   "cell_type": "code",
   "execution_count": 298,
   "metadata": {},
   "outputs": [
    {
     "name": "stdout",
     "output_type": "stream",
     "text": [
      "Ttest_indResult(statistic=2.8354090083966317, pvalue=0.006889419048315794)\n",
      "R2 = 0.007\n",
      "correlation 0.08806170507806514\n"
     ]
    },
    {
     "data": {
      "text/plain": [
       "Text(0.5, 1.0, 'Western Europe')"
      ]
     },
     "execution_count": 298,
     "metadata": {},
     "output_type": "execute_result"
    },
    {
     "data": {
      "image/png": "[encoded data removed]",
      "text/plain": [
       "<Figure size 432x288 with 1 Axes>"
      ]
     },
     "metadata": {
      "needs_background": "light"
     },
     "output_type": "display_data"
    }
   ],
   "source": [
    "WesternEurope_ref2 = WesternEurope_ref.fillna(0)\n",
    "\n",
    "\n",
    "print(ttest_ind(WesternEurope_ref2['Terrorism attacks %'], WesternEurope_ref2['Refugee %'], equal_var=False))\n",
    "\n",
    "X3 = WesternEurope_ref2['Terrorism attacks %']\n",
    "Y3 = WesternEurope_ref2['Refugee %']\n",
    "\n",
    "model = sm.OLS(Y3,X3)\n",
    "results = model.fit()\n",
    "predictions2 = results.predict(X3)\n",
    "\n",
    "print('R2 =', 0.007)\n",
    "\n",
    "print('correlation', WesternEurope_ref2['Terrorism attacks %'].corr(WesternEurope_ref2['Refugee %']))\n",
    "\n",
    "\n",
    "\n",
    "sns.regplot(Y3, X3, color= 'red').set_title('Western Europe')\n",
    "\n",
    "\n",
    "\n"
   ]
  },
  {
   "cell_type": "code",
   "execution_count": null,
   "metadata": {},
   "outputs": [],
   "source": []
  },
  {
   "cell_type": "code",
   "execution_count": 225,
   "metadata": {},
   "outputs": [],
   "source": [
    "country_region_CODE_tot = {'Canada':['North America' , 1261, 'CAN'],\n",
    "                 'Mexico':['North America', 1261, 'MEX'],\n",
    "                 'United States':['North America', 1261, 'USA'],\n",
    "                 'Antigua and Barbuda':['Central America & Caribbean', 7180, 'ATG'],\n",
    "                 'Bahamas':['Central America & Caribbean', 7180, 'BHM'],\n",
    "                 'Belize':['Central America & Caribbean', 7180, 'BLZ'],\n",
    "                 'Cayman Islands':['Central America & Caribbean', 7180, 'CYM'],\n",
    "                 'Costa Rica':['Central America & Caribbean', 7180, 'CRI'],\n",
    "                 'Cuba':['Central America & Caribbean', 7180, 'CUB'],\n",
    "                 'Dominica':['Central America & Caribbean', 7180, 'DMA'],\n",
    "                 'Dominican Republic':['Central America & Caribbean', 7180, 'DOM'],\n",
    "                 'El Salvador':['Central America & Caribbean', 7180, 'SLV'],\n",
    "                 'Grenada':['Central America & Caribbean', 7180, 'GRD'],\n",
    "                 'Guatemala':['Central America & Caribbean', 7180, 'GMT'],\n",
    "                 'Haiti':['Central America & Caribbean', 7180, 'HTI'],\n",
    "                 'Honduras':['Central America & Caribbean', 7180, 'HND'],\n",
    "                 'Jamaica':['Central America & Caribbean', 7180, 'JAM'],\n",
    "                 'Nicaragua':['Central America & Caribbean', 7180, 'NIC'],\n",
    "                 'Panama':['Central America & Caribbean', 7180, 'PAN'],\n",
    "                 'Saint Kitts and Nevis':['Central America & Caribbean', 7180, 'KNA'],\n",
    "                 'Trinidad and Tobago':['Central America & Caribbean', 7180, 'TTO'],\n",
    "                 'Argentina':['South America', 158868, 'ARG'],\n",
    "                 'Bolivia':['South America', 158868, 'BOL'],\n",
    "                 'Brazil':['South America', 158868, 'BRA'],\n",
    "                 'Chile':['South America', 158868, 'CHL'],\n",
    "                 'Colombia':['South America', 158868, 'COL'],\n",
    "                 'Ecuador':['South America',158868, 'ECU'],\n",
    "                 'Falkland Islands':['South America', 158868, 'FLK'],\n",
    "                 'Guyana':['South America', 158868, 'GUY'],\n",
    "                 'Paraguay':['South America', 158868, 'PRY'],\n",
    "                 'Peru':['South America', 158868, 'PER'],\n",
    "                 'Suriname':['South America', 158868, 'SUR'],\n",
    "                 'Uruguay':['South America', 158868, 'URY'],\n",
    "                 'Venezuela':['South America', 158868, 'VEN'],\n",
    "                 'China':['East Asia', 4475, 'CHN'],\n",
    "                 'Hong Kong':['East Asia', 4475, 'HKG'],\n",
    "                 'Japan':['East Asia', 4475, 'JPN'],\n",
    "                 'Macau':['East Asia', 4475, 'MAC'],\n",
    "                 'North Korea':['East Asia', 4475, 'PRK'],\n",
    "                 'South Korea':['East Asia', 4475, 'KOR'],\n",
    "                'Mongolia':['East Asia',4475, 'MNG'],\n",
    "                 'Taiwan':['East Asia', 4475, 'TWN'],\n",
    "                 'Brunei':['Southeast Asia', 23117, 'BRN'],\n",
    "                 'Cambodia':['Southeast Asia', 23117, 'KHM'],\n",
    "                 'East Timor':['Southeast Asia',23117, 'TLS'],\n",
    "                 'Indonesia':['Southeast Asia', 23117, 'IDN'],\n",
    "                 'Laos':['Southeast Asia', 23117, 'LAO'],\n",
    "                 'Malaysia':['Southeast Asia', 23117, 'MYS'],\n",
    "                'Myanmar':['Southeast Asia', 23117, 'MMR'],\n",
    "                 'Philippines':['Southeast Asia', 23117, 'PHL'],\n",
    "                 'Singapore':['Southeast Asia', 23117, 'SGP'],\n",
    "                 'Vietnam':['Southeast Asia', 23117, 'VNM'],\n",
    "                 'Thailand':['Southeast Asia', 23117, 'THA'],\n",
    "                 'Afghanistan':['South Asia', 23117, 'AFG'],\n",
    "                 'Bangladesh':['South Asia', 23117, 'BGD'],\n",
    "                 'Buthan':['South Asia', 23117, 'AFG'],\n",
    "                 'India':['South Asia', 23117, 'IND'],\n",
    "                 'Maladives':['South Asia', 23117, 'MDV'],\n",
    "                 'Nepal':['South Asia', 23117, 'NPL'],\n",
    "                 'Pakistan':['South Asia', 23117, 'PAK'],\n",
    "                 'Sri Lanka':['South Asia', 23117, 'LKA'],\n",
    "                 'Armenia':['Central Asia', 20684, 'ARM'],\n",
    "                 'Azerbaijan':['Central Asia',20684, 'AZE'],\n",
    "                 'Georgia':['Central Asia', 20684, 'GEO'],\n",
    "                 'Kazakhstan':['Central Asia', 20684, 'KAZ'],\n",
    "                 'Tajikistan':['Central Asia', 20684, 'TJK'],\n",
    "                 'Turkmenistan':['Central Asia', 20684, 'TKM'],\n",
    "                 'Uzbekistan':['Central Asia', 20684, 'UZB'],\n",
    "                 'Andorra':['Western Europe', -432, 'AND'],\n",
    "                 'Austria':['Western Europe', -432, 'AUT'],\n",
    "                 'Belgium':['Western Europe', -432, 'BEL'],\n",
    "                 'Cyprus':['Western Europe', -432, 'CYP'],\n",
    "                 'Denmark':['Western Europe', -432, 'DNK'],\n",
    "                 'Finland':['Western Europe', -432, 'FIN'],\n",
    "                 'France':['Western Europe', -432, 'FRA'],\n",
    "                 'Germany':['Western Europe', -432, 'DEU'],\n",
    "                 'Gibraltar':['Western Europe', -432, 'GIB'],\n",
    "                 'Greece':['Western Europe', -432, 'GRC'],\n",
    "                 'Iceland':['Western Europe', -432, 'ISL'],\n",
    "                 'Ireland':['Western Europe', -432, 'IRL'],\n",
    "                 'Italy':['Western Europe', -432, 'ITA'],\n",
    "                 'Luxembourg':['Western Europe', -432, 'LUX'],\n",
    "                 'Malta':['Western Europe', -432, 'MLT'],\n",
    "                 'Netherlands':['Western Europe', -432, 'NLD'],\n",
    "                 'Norway':['Western Europe', -432, 'NOR'],\n",
    "                 'Portugal':['Western Europe', -432, 'PRT'],\n",
    "                 'Spain':['Western Europe', -432, 'ESP'],\n",
    "                 'Sweden':['Western Europe', -432, 'SWE'],\n",
    "                 'Switzerland':['Western Europe', -432, 'CHE'],\n",
    "                 'United Kingdom':['Western Europe', -432, 'GBR'],\n",
    "                 'Albania':['Eastern Europe', 47081, 'ABL'],\n",
    "                 'Belarus':['Eastern Europe', 47081, 'BLR'],\n",
    "                 'Bosnia and Herzegovina':['Eastern Europe', 47081, 'BIH'],\n",
    "                 'Bulgaria':['Eastern Europe', 47081, 'BGR'],\n",
    "                 'Croatia':['Eastern Europe', 47081, 'HRV'],\n",
    "                 'Czech Republic':['Eastern Europe', 47081, 'CZE'],\n",
    "                 'Estonia':['Eastern Europe', 47081, 'EST'],\n",
    "                 'Hungary':['Eastern Europe', 47081, 'HUN'],\n",
    "                 'Kosovo':['Eastern Europe', 47081, 'KSV'],\n",
    "                 'Latvia':['Eastern Europe', 47081, 'LVA'],\n",
    "                 'Lithuania':['Eastern Europe', 47081, 'LTU'],\n",
    "                 'Macedonia':['Eastern Europe', 47081, 'MKD'],\n",
    "                 'Moldova':['Eastern Europe', 47081, 'MDA'],\n",
    "                 'Montenegro':['Eastern Europe', 47081, 'MNE'],\n",
    "                 'Poland':['Eastern Europe', 47081, 'POL'],\n",
    "                 'Romania':['Eastern Europe', 47081, 'ROU'],\n",
    "                 'Russia':['Eastern Europe', 47081, 'RUS'],\n",
    "                 'Serbia':['Eastern Europe', 47081, 'SRB'],\n",
    "                 'Slovakia':['Eastern Europe', 47081, 'SVK'],\n",
    "                 'Slovenia':['Eastern Europe', 47081, 'SVN'],\n",
    "                 'Ukraine':['Eastern Europe', 47081, 'UKS'],\n",
    "                 'Algeria':['Middle East & North Africa', 177562, 'DZA'],\n",
    "                 'Bahrain':['Middle East & North Africa', 177562, 'BHR'],\n",
    "                  'Egypt':['Middle East & North Africa', 177562, 'EGY'],\n",
    "                  'Iran':['Middle East & North Africa', 177562, 'IRN'],\n",
    "                  'Iraq':['Middle East & North Africa', 177562, 'IRQ'],\n",
    "                  'Israel':['Middle East & North Africa', 177562, 'ISR'],\n",
    "                  'Jordan':['Middle East & North Africa', 177562, 'JOR'],\n",
    "                  'Kuwait':['Middle East & North Africa', 177562, 'KWT'],\n",
    "                  'Lebanon':['Middle East & North Africa', 177562, 'LBN'],\n",
    "                  'Libya':['Middle East & North Africa', 177562, 'LBY'],\n",
    "                  'Morocco':['Middle East & North Africa', 177562, 'MAR'],\n",
    "                  'Yemen':['Middle East & North Africa', 177562, 'YEM'],\n",
    "                  'Qatar':['Middle East & North Africa', 177562, 'QAT'],\n",
    "                  'Saudi Arabia':['Middle East & North Africa', 177562, 'SAU'],\n",
    "                  'Syria':['Middle East & North Africa', 177562, 'SYR'],\n",
    "                  'Tunisia':['Middle East & North Africa', 177562, 'TUN'],\n",
    "                  'Turkey':['Middle East & North Africa', 177562, 'TUR'],\n",
    "                  'United Arab Emirates':['Middle East & North Africa', 177562, 'ARE'],\n",
    "                  'Palestina':['Middle East & North Africa', 177562, 'WBG'],\n",
    "                  'Angola':['Sub-Saharan Africa', 267294, 'AGO'],\n",
    "                  'Benin':['Sub-Saharan Africa', 267294, 'BEN'],\n",
    "                  'Botswana':['Sub-Saharan Africa', 267294, 'BWA'],\n",
    "                  'Burkina Faso':['Sub-Saharan Africa', 267294, 'BFA'],\n",
    "                  'Burundi':['Sub-Saharan Africa', 267294, 'BDI'],\n",
    "                  'Central African Republic':['Sub-Saharan Africa', 267294, 'CAF'],\n",
    "                  'Chad':['Sub-Saharan Africa', 267294, 'TCD'],\n",
    "                  'Comoros':['Sub-Saharan Africa', 267294, 'COM'],\n",
    "                  'Democratic Republic of the Congo':['Sub-Saharan Africa', 267294, 'COD'],\n",
    "                  'Djibouti':['Sub-Saharan Africa', 267294, 'DJI'],\n",
    "                  'Equatorial Guinea':['Sub-Saharan Africa', 267294, 'GNQ'],\n",
    "                  'Eritrea':['Sub-Saharan Africa', 267294, 'ERI'],\n",
    "                  'Ethiopia':['Sub-Saharan Africa', 267294, 'ETH'],\n",
    "                  'Gabon':['Sub-Saharan Africa', 267294, 'GAB'],\n",
    "                  'Gambia':['Sub-Saharan Africa', 267294, 'GMB'],\n",
    "                  'Ghana':['Sub-Saharan Africa', 267294, 'GHA'],\n",
    "                  'Guinea':['Sub-Saharan Africa', 267294, 'GIN'],\n",
    "                  'Guinea-Bissau':['Sub-Saharan Africa', 267294, 'GNB'],\n",
    "                  'Côre d\\'Ivore':['Sub-Saharan Africa', 267294, 'CIV'],\n",
    "                  'Kenya':['Sub-Saharan Africa', 267294, 'KEN'],\n",
    "                  'Lesotho':['Sub-Saharan Africa', 267294, 'LSO'],\n",
    "                  'Liberia':['Sub-Saharan Africa', 267294, 'LBR'],\n",
    "                  'Madagascar':['Sub-Saharan Africa', 267294, 'MDG'],\n",
    "                  'Malawi':['Sub-Saharan Africa', 267294, 'MWI'],\n",
    "                  'Mali':['Sub-Saharan Africa', 267294, 'MLI'],\n",
    "                  'Mauritnia':['Sub-Saharan Africa', 267294, 'MRT'],\n",
    "                  'Mozambique':['Sub-Saharan Africa', 267294, 'MOZ'],\n",
    "                  'Namibia':['Sub-Saharan Africa', 267294, 'NAM'],\n",
    "                  'Niger':['Sub-Saharan Africa', 267294, 'NER'],\n",
    "                  'Nigeria':['Sub-Saharan Africa', 267294, 'NGA'],\n",
    "                  'Republic of the Congo':['Sub-Saharan Africa', 267294, 'COG'],\n",
    "                  'Rwanda':['Sub-Saharan Africa', 267294, 'RWA'],\n",
    "                  'Senegal':['Sub-Saharan Africa', 267294, 'SEN'],\n",
    "                  'Seychelles':['Sub-Saharan Africa', 267294, 'SYC'],\n",
    "                  'Sierra Leone':['Sub-Saharan Africa', 267294, 'SLE'],\n",
    "                  'Somalia':['Sub-Saharan Africa', 267294, 'SOM'],\n",
    "                  'South Africa':['Sub-Saharan Africa', 267294, 'ZAF'],\n",
    "                  'South Sudan':['Sub-Saharan Africa', 267294, 'SSD'],\n",
    "                  'Sudan':['Sub-Saharan Africa', 267294, 'SDN'],\n",
    "                  'Swaziland':['Sub-Saharan Africa', 267294, 'SWZ'],\n",
    "                  'Tanzania':['Sub-Saharan Africa', 267294, 'TZA'],\n",
    "                  'Togo':['Sub-Saharan Africa', 267294, 'TGO'],\n",
    "                  'Uganda':['Sub-Saharan Africa', 267294, 'UGA'],\n",
    "                  'Zambia':['Sub-Saharan Africa', 267294, 'ZMB'],\n",
    "                  'Zimbabwe':['Sub-Saharan Africa', 267294, 'ZWE'],\n",
    "                  'Australia':['Australasia & Oceania', 12, 'AUS'],\n",
    "                  'Fiji':['Australasia & Oceania', 44, 'FJI'],\n",
    "                  'French Polynesia':['Australasia & Oceania', 44, 'PYF'],\n",
    "                  'New Caledonia':['Australasia & Oceania', 44, 'NCL'],\n",
    "                  'New Zealand':['Australasia & Oceania', 44, 'NZL'],\n",
    "                  'Papua New Guinea':['Australasia & Oceania', 44, 'PNG'],\n",
    "                  'Solomon Islands':['Australasia & Oceania', 44, 'SLB'],\n",
    "                  'Vanuatu':['Australasia & Oceania', 44, 'VUT']}"
   ]
  },
  {
   "cell_type": "code",
   "execution_count": 216,
   "metadata": {},
   "outputs": [
    {
     "data": {
      "text/html": [
       "<div>\n",
       "<style scoped>\n",
       "    .dataframe tbody tr th:only-of-type {\n",
       "        vertical-align: middle;\n",
       "    }\n",
       "\n",
       "    .dataframe tbody tr th {\n",
       "        vertical-align: top;\n",
       "    }\n",
       "\n",
       "    .dataframe thead th {\n",
       "        text-align: right;\n",
       "    }\n",
       "</style>\n",
       "<table border=\"1\" class=\"dataframe\">\n",
       "  <thead>\n",
       "    <tr style=\"text-align: right;\">\n",
       "      <th></th>\n",
       "      <th>Region</th>\n",
       "      <th>waarde</th>\n",
       "      <th>Code</th>\n",
       "    </tr>\n",
       "  </thead>\n",
       "  <tbody>\n",
       "    <tr>\n",
       "      <td>Canada</td>\n",
       "      <td>North America</td>\n",
       "      <td>1</td>\n",
       "      <td>CAN</td>\n",
       "    </tr>\n",
       "    <tr>\n",
       "      <td>Mexico</td>\n",
       "      <td>North America</td>\n",
       "      <td>1</td>\n",
       "      <td>MEX</td>\n",
       "    </tr>\n",
       "    <tr>\n",
       "      <td>United States</td>\n",
       "      <td>North America</td>\n",
       "      <td>1</td>\n",
       "      <td>USA</td>\n",
       "    </tr>\n",
       "    <tr>\n",
       "      <td>Antigua and Barbuda</td>\n",
       "      <td>Central America &amp; Caribbean</td>\n",
       "      <td>2</td>\n",
       "      <td>ATG</td>\n",
       "    </tr>\n",
       "    <tr>\n",
       "      <td>Bahamas</td>\n",
       "      <td>Central America &amp; Caribbean</td>\n",
       "      <td>2</td>\n",
       "      <td>BHM</td>\n",
       "    </tr>\n",
       "    <tr>\n",
       "      <td>...</td>\n",
       "      <td>...</td>\n",
       "      <td>...</td>\n",
       "      <td>...</td>\n",
       "    </tr>\n",
       "    <tr>\n",
       "      <td>New Caledonia</td>\n",
       "      <td>Australasia &amp; Oceania</td>\n",
       "      <td>12</td>\n",
       "      <td>NCL</td>\n",
       "    </tr>\n",
       "    <tr>\n",
       "      <td>New Zealand</td>\n",
       "      <td>Australasia &amp; Oceania</td>\n",
       "      <td>12</td>\n",
       "      <td>NZL</td>\n",
       "    </tr>\n",
       "    <tr>\n",
       "      <td>Papua New Guinea</td>\n",
       "      <td>Australasia &amp; Oceania</td>\n",
       "      <td>12</td>\n",
       "      <td>PNG</td>\n",
       "    </tr>\n",
       "    <tr>\n",
       "      <td>Solomon Islands</td>\n",
       "      <td>Australasia &amp; Oceania</td>\n",
       "      <td>12</td>\n",
       "      <td>SLB</td>\n",
       "    </tr>\n",
       "    <tr>\n",
       "      <td>Vanuatu</td>\n",
       "      <td>Australasia &amp; Oceania</td>\n",
       "      <td>12</td>\n",
       "      <td>VUT</td>\n",
       "    </tr>\n",
       "  </tbody>\n",
       "</table>\n",
       "<p>183 rows × 3 columns</p>\n",
       "</div>"
      ],
      "text/plain": [
       "                                          Region waarde Code\n",
       "Canada                             North America      1  CAN\n",
       "Mexico                             North America      1  MEX\n",
       "United States                      North America      1  USA\n",
       "Antigua and Barbuda  Central America & Caribbean      2  ATG\n",
       "Bahamas              Central America & Caribbean      2  BHM\n",
       "...                                          ...    ...  ...\n",
       "New Caledonia              Australasia & Oceania     12  NCL\n",
       "New Zealand                Australasia & Oceania     12  NZL\n",
       "Papua New Guinea           Australasia & Oceania     12  PNG\n",
       "Solomon Islands            Australasia & Oceania     12  SLB\n",
       "Vanuatu                    Australasia & Oceania     12  VUT\n",
       "\n",
       "[183 rows x 3 columns]"
      ]
     },
     "execution_count": 216,
     "metadata": {},
     "output_type": "execute_result"
    }
   ],
   "source": [
    "CODES = pd.DataFrame(country_region_CODE)\n",
    "code2 = CODES.T\n",
    "\n",
    "code = code2.rename(columns={0: \"Region\", 1: \"waarde\", 2:'Code'})\n",
    "code"
   ]
  },
  {
   "cell_type": "code",
   "execution_count": 226,
   "metadata": {},
   "outputs": [
    {
     "data": {
      "text/html": [
       "<div>\n",
       "<style scoped>\n",
       "    .dataframe tbody tr th:only-of-type {\n",
       "        vertical-align: middle;\n",
       "    }\n",
       "\n",
       "    .dataframe tbody tr th {\n",
       "        vertical-align: top;\n",
       "    }\n",
       "\n",
       "    .dataframe thead th {\n",
       "        text-align: right;\n",
       "    }\n",
       "</style>\n",
       "<table border=\"1\" class=\"dataframe\">\n",
       "  <thead>\n",
       "    <tr style=\"text-align: right;\">\n",
       "      <th></th>\n",
       "      <th>Region</th>\n",
       "      <th>waarde</th>\n",
       "      <th>Code</th>\n",
       "    </tr>\n",
       "  </thead>\n",
       "  <tbody>\n",
       "    <tr>\n",
       "      <td>Canada</td>\n",
       "      <td>North America</td>\n",
       "      <td>1261</td>\n",
       "      <td>CAN</td>\n",
       "    </tr>\n",
       "    <tr>\n",
       "      <td>Mexico</td>\n",
       "      <td>North America</td>\n",
       "      <td>1261</td>\n",
       "      <td>MEX</td>\n",
       "    </tr>\n",
       "    <tr>\n",
       "      <td>United States</td>\n",
       "      <td>North America</td>\n",
       "      <td>1261</td>\n",
       "      <td>USA</td>\n",
       "    </tr>\n",
       "    <tr>\n",
       "      <td>Antigua and Barbuda</td>\n",
       "      <td>Central America &amp; Caribbean</td>\n",
       "      <td>7180</td>\n",
       "      <td>ATG</td>\n",
       "    </tr>\n",
       "    <tr>\n",
       "      <td>Bahamas</td>\n",
       "      <td>Central America &amp; Caribbean</td>\n",
       "      <td>7180</td>\n",
       "      <td>BHM</td>\n",
       "    </tr>\n",
       "    <tr>\n",
       "      <td>...</td>\n",
       "      <td>...</td>\n",
       "      <td>...</td>\n",
       "      <td>...</td>\n",
       "    </tr>\n",
       "    <tr>\n",
       "      <td>New Caledonia</td>\n",
       "      <td>Australasia &amp; Oceania</td>\n",
       "      <td>44</td>\n",
       "      <td>NCL</td>\n",
       "    </tr>\n",
       "    <tr>\n",
       "      <td>New Zealand</td>\n",
       "      <td>Australasia &amp; Oceania</td>\n",
       "      <td>44</td>\n",
       "      <td>NZL</td>\n",
       "    </tr>\n",
       "    <tr>\n",
       "      <td>Papua New Guinea</td>\n",
       "      <td>Australasia &amp; Oceania</td>\n",
       "      <td>44</td>\n",
       "      <td>PNG</td>\n",
       "    </tr>\n",
       "    <tr>\n",
       "      <td>Solomon Islands</td>\n",
       "      <td>Australasia &amp; Oceania</td>\n",
       "      <td>44</td>\n",
       "      <td>SLB</td>\n",
       "    </tr>\n",
       "    <tr>\n",
       "      <td>Vanuatu</td>\n",
       "      <td>Australasia &amp; Oceania</td>\n",
       "      <td>44</td>\n",
       "      <td>VUT</td>\n",
       "    </tr>\n",
       "  </tbody>\n",
       "</table>\n",
       "<p>183 rows × 3 columns</p>\n",
       "</div>"
      ],
      "text/plain": [
       "                                          Region waarde Code\n",
       "Canada                             North America   1261  CAN\n",
       "Mexico                             North America   1261  MEX\n",
       "United States                      North America   1261  USA\n",
       "Antigua and Barbuda  Central America & Caribbean   7180  ATG\n",
       "Bahamas              Central America & Caribbean   7180  BHM\n",
       "...                                          ...    ...  ...\n",
       "New Caledonia              Australasia & Oceania     44  NCL\n",
       "New Zealand                Australasia & Oceania     44  NZL\n",
       "Papua New Guinea           Australasia & Oceania     44  PNG\n",
       "Solomon Islands            Australasia & Oceania     44  SLB\n",
       "Vanuatu                    Australasia & Oceania     44  VUT\n",
       "\n",
       "[183 rows x 3 columns]"
      ]
     },
     "execution_count": 226,
     "metadata": {},
     "output_type": "execute_result"
    }
   ],
   "source": [
    "CODES_tot = pd.DataFrame(country_region_CODE_tot)\n",
    "code2_tot = CODES_tot.T\n",
    "\n",
    "code_tot = code2_tot.rename(columns={0: \"Region\", 1: \"waarde\", 2:'Code'})\n",
    "code_tot"
   ]
  },
  {
   "cell_type": "code",
   "execution_count": 217,
   "metadata": {
    "scrolled": false
   },
   "outputs": [
    {
     "data": {
      "application/vnd.plotly.v1+json": {
       "config": {
        "plotlyServerURL": "https://plot.ly"
       },
       "data": [
        {
         "autocolorscale": false,
         "colorscale": [
          [
           0,
           "rgb(255,255,217)"
          ],
          [
           0.125,
           "rgb(237,248,177)"
          ],
          [
           0.25,
           "rgb(199,233,180)"
          ],
          [
           0.375,
           "rgb(127,205,187)"
          ],
          [
           0.5,
           "rgb(65,182,196)"
          ],
          [
           0.625,
           "rgb(29,145,192)"
          ],
          [
           0.75,
           "rgb(34,94,168)"
          ],
          [
           0.875,
           "rgb(37,52,148)"
          ],
          [
           1,
           "rgb(8,29,88)"
          ]
         ],
         "locations": [
          "CAN",
          "MEX",
          "USA",
          "ATG",
          "BHM",
          "BLZ",
          "CYM",
          "CRI",
          "CUB",
          "DMA",
          "DOM",
          "SLV",
          "GRD",
          "GMT",
          "HTI",
          "HND",
          "JAM",
          "NIC",
          "PAN",
          "KNA",
          "TTO",
          "ARG",
          "BOL",
          "BRA",
          "CHL",
          "COL",
          "ECU",
          "FLK",
          "GUY",
          "PRY",
          "PER",
          "SUR",
          "URY",
          "VEN",
          "CHN",
          "HKG",
          "JPN",
          "MAC",
          "PRK",
          "KOR",
          "MNG",
          "TWN",
          "BRN",
          "KHM",
          "TLS",
          "IDN",
          "LAO",
          "MYS",
          "MMR",
          "PHL",
          "SGP",
          "VNM",
          "THA",
          "AFG",
          "BGD",
          "AFG",
          "IND",
          "MDV",
          "NPL",
          "PAK",
          "LKA",
          "ARM",
          "AZE",
          "GEO",
          "KAZ",
          "TJK",
          "TKM",
          "UZB",
          "AND",
          "AUT",
          "BEL",
          "CYP",
          "DNK",
          "FIN",
          "FRA",
          "DEU",
          "GIB",
          "GRC",
          "ISL",
          "IRL",
          "ITA",
          "LUX",
          "MLT",
          "NLD",
          "NOR",
          "PRT",
          "ESP",
          "SWE",
          "CHE",
          "GBR",
          "ABL",
          "BLR",
          "BIH",
          "BGR",
          "HRV",
          "CZE",
          "EST",
          "HUN",
          "KSV",
          "LVA",
          "LTU",
          "MKD",
          "MDA",
          "MNE",
          "POL",
          "ROU",
          "RUS",
          "SRB",
          "SVK",
          "SVN",
          "UKS",
          "DZA",
          "BHR",
          "EGY",
          "IRN",
          "IRQ",
          "ISR",
          "JOR",
          "KWT",
          "LBN",
          "LBY",
          "MAR",
          "YEM",
          "QAT",
          "SAU",
          "SYR",
          "TUN",
          "TUR",
          "ARE",
          "WBG",
          "AGO",
          "BEN",
          "BWA",
          "BFA",
          "BDI",
          "CAF",
          "TCD",
          "COM",
          "COD",
          "DJI",
          "GNQ",
          "ERI",
          "ETH",
          "GAB",
          "GMB",
          "GHA",
          "GIN",
          "GNB",
          "CIV",
          "KEN",
          "LSO",
          "LBR",
          "MDG",
          "MWI",
          "MLI",
          "MRT",
          "MOZ",
          "NAM",
          "NER",
          "NGA",
          "COG",
          "RWA",
          "SEN",
          "SYC",
          "SLE",
          "SOM",
          "ZAF",
          "SSD",
          "SDN",
          "SWZ",
          "TZA",
          "TGO",
          "UGA",
          "ZMB",
          "ZWE",
          "AUS",
          "FJI",
          "PYF",
          "NCL",
          "NZL",
          "PNG",
          "SLB",
          "VUT"
         ],
         "marker": {
          "line": {
           "color": "white",
           "width": 0.5
          }
         },
         "reversescale": true,
         "text": [
          "North America",
          "North America",
          "North America",
          "Central America & Caribbean",
          "Central America & Caribbean",
          "Central America & Caribbean",
          "Central America & Caribbean",
          "Central America & Caribbean",
          "Central America & Caribbean",
          "Central America & Caribbean",
          "Central America & Caribbean",
          "Central America & Caribbean",
          "Central America & Caribbean",
          "Central America & Caribbean",
          "Central America & Caribbean",
          "Central America & Caribbean",
          "Central America & Caribbean",
          "Central America & Caribbean",
          "Central America & Caribbean",
          "Central America & Caribbean",
          "Central America & Caribbean",
          "South America",
          "South America",
          "South America",
          "South America",
          "South America",
          "South America",
          "South America",
          "South America",
          "South America",
          "South America",
          "South America",
          "South America",
          "South America",
          "East Asia",
          "East Asia",
          "East Asia",
          "East Asia",
          "East Asia",
          "East Asia",
          "East Asia",
          "East Asia",
          "Southeast Asia",
          "Southeast Asia",
          "Southeast Asia",
          "Southeast Asia",
          "Southeast Asia",
          "Southeast Asia",
          "Southeast Asia",
          "Southeast Asia",
          "Southeast Asia",
          "Southeast Asia",
          "Southeast Asia",
          "South Asia",
          "South Asia",
          "South Asia",
          "South Asia",
          "South Asia",
          "South Asia",
          "South Asia",
          "South Asia",
          "Central Asia",
          "Central Asia",
          "Central Asia",
          "Central Asia",
          "Central Asia",
          "Central Asia",
          "Central Asia",
          "Western Europe",
          "Western Europe",
          "Western Europe",
          "Western Europe",
          "Western Europe",
          "Western Europe",
          "Western Europe",
          "Western Europe",
          "Western Europe",
          "Western Europe",
          "Western Europe",
          "Western Europe",
          "Western Europe",
          "Western Europe",
          "Western Europe",
          "Western Europe",
          "Western Europe",
          "Western Europe",
          "Western Europe",
          "Western Europe",
          "Western Europe",
          "Western Europe",
          "Eastern Europe",
          "Eastern Europe",
          "Eastern Europe",
          "Eastern Europe",
          "Eastern Europe",
          "Eastern Europe",
          "Eastern Europe",
          "Eastern Europe",
          "Eastern Europe",
          "Eastern Europe",
          "Eastern Europe",
          "Eastern Europe",
          "Eastern Europe",
          "Eastern Europe",
          "Eastern Europe",
          "Eastern Europe",
          "Eastern Europe",
          "Eastern Europe",
          "Eastern Europe",
          "Eastern Europe",
          "Eastern Europe",
          "Middle East & North Africa",
          "Middle East & North Africa",
          "Middle East & North Africa",
          "Middle East & North Africa",
          "Middle East & North Africa",
          "Middle East & North Africa",
          "Middle East & North Africa",
          "Middle East & North Africa",
          "Middle East & North Africa",
          "Middle East & North Africa",
          "Middle East & North Africa",
          "Middle East & North Africa",
          "Middle East & North Africa",
          "Middle East & North Africa",
          "Middle East & North Africa",
          "Middle East & North Africa",
          "Middle East & North Africa",
          "Middle East & North Africa",
          "Middle East & North Africa",
          "Sub-Saharan Africa",
          "Sub-Saharan Africa",
          "Sub-Saharan Africa",
          "Sub-Saharan Africa",
          "Sub-Saharan Africa",
          "Sub-Saharan Africa",
          "Sub-Saharan Africa",
          "Sub-Saharan Africa",
          "Sub-Saharan Africa",
          "Sub-Saharan Africa",
          "Sub-Saharan Africa",
          "Sub-Saharan Africa",
          "Sub-Saharan Africa",
          "Sub-Saharan Africa",
          "Sub-Saharan Africa",
          "Sub-Saharan Africa",
          "Sub-Saharan Africa",
          "Sub-Saharan Africa",
          "Sub-Saharan Africa",
          "Sub-Saharan Africa",
          "Sub-Saharan Africa",
          "Sub-Saharan Africa",
          "Sub-Saharan Africa",
          "Sub-Saharan Africa",
          "Sub-Saharan Africa",
          "Sub-Saharan Africa",
          "Sub-Saharan Africa",
          "Sub-Saharan Africa",
          "Sub-Saharan Africa",
          "Sub-Saharan Africa",
          "Sub-Saharan Africa",
          "Sub-Saharan Africa",
          "Sub-Saharan Africa",
          "Sub-Saharan Africa",
          "Sub-Saharan Africa",
          "Sub-Saharan Africa",
          "Sub-Saharan Africa",
          "Sub-Saharan Africa",
          "Sub-Saharan Africa",
          "Sub-Saharan Africa",
          "Sub-Saharan Africa",
          "Sub-Saharan Africa",
          "Sub-Saharan Africa",
          "Sub-Saharan Africa",
          "Sub-Saharan Africa",
          "Australasia & Oceania",
          "Australasia & Oceania",
          "Australasia & Oceania",
          "Australasia & Oceania",
          "Australasia & Oceania",
          "Australasia & Oceania",
          "Australasia & Oceania",
          "Australasia & Oceania"
         ],
         "type": "choropleth",
         "z": [
          1,
          1,
          1,
          2,
          2,
          2,
          2,
          2,
          2,
          2,
          2,
          2,
          2,
          2,
          2,
          2,
          2,
          2,
          2,
          2,
          2,
          3,
          3,
          3,
          3,
          3,
          3,
          3,
          3,
          3,
          3,
          3,
          3,
          3,
          4,
          4,
          4,
          4,
          4,
          4,
          4,
          4,
          5,
          5,
          5,
          5,
          5,
          5,
          5,
          5,
          5,
          5,
          5,
          6,
          6,
          6,
          6,
          6,
          6,
          6,
          6,
          7,
          7,
          7,
          7,
          7,
          7,
          7,
          8,
          8,
          8,
          8,
          8,
          8,
          8,
          8,
          8,
          8,
          8,
          8,
          8,
          8,
          8,
          8,
          8,
          8,
          8,
          8,
          8,
          8,
          9,
          9,
          9,
          9,
          9,
          9,
          9,
          9,
          9,
          9,
          9,
          9,
          9,
          9,
          9,
          9,
          9,
          9,
          9,
          9,
          9,
          10,
          10,
          10,
          10,
          10,
          10,
          10,
          10,
          10,
          10,
          10,
          10,
          10,
          10,
          10,
          10,
          10,
          10,
          10,
          11,
          11,
          11,
          11,
          11,
          11,
          11,
          11,
          11,
          11,
          11,
          11,
          11,
          11,
          11,
          11,
          11,
          11,
          11,
          11,
          11,
          11,
          11,
          11,
          11,
          11,
          11,
          11,
          11,
          11,
          11,
          11,
          11,
          11,
          11,
          11,
          11,
          11,
          11,
          11,
          11,
          11,
          11,
          11,
          11,
          12,
          12,
          12,
          12,
          12,
          12,
          12,
          12
         ]
        }
       ],
       "layout": {
        "geo": {
         "projection": {
          "type": "equirectangular"
         },
         "showcoastlines": false,
         "showframe": false
        },
        "template": {
         "data": {
          "bar": [
           {
            "error_x": {
             "color": "#2a3f5f"
            },
            "error_y": {
             "color": "#2a3f5f"
            },
            "marker": {
             "line": {
              "color": "#E5ECF6",
              "width": 0.5
             }
            },
            "type": "bar"
           }
          ],
          "barpolar": [
           {
            "marker": {
             "line": {
              "color": "#E5ECF6",
              "width": 0.5
             }
            },
            "type": "barpolar"
           }
          ],
          "carpet": [
           {
            "aaxis": {
             "endlinecolor": "#2a3f5f",
             "gridcolor": "white",
             "linecolor": "white",
             "minorgridcolor": "white",
             "startlinecolor": "#2a3f5f"
            },
            "baxis": {
             "endlinecolor": "#2a3f5f",
             "gridcolor": "white",
             "linecolor": "white",
             "minorgridcolor": "white",
             "startlinecolor": "#2a3f5f"
            },
            "type": "carpet"
           }
          ],
          "choropleth": [
           {
            "colorbar": {
             "outlinewidth": 0,
             "ticks": ""
            },
            "type": "choropleth"
           }
          ],
          "contour": [
           {
            "colorbar": {
             "outlinewidth": 0,
             "ticks": ""
            },
            "colorscale": [
             [
              0,
              "#0d0887"
             ],
             [
              0.1111111111111111,
              "#46039f"
             ],
             [
              0.2222222222222222,
              "#7201a8"
             ],
             [
              0.3333333333333333,
              "#9c179e"
             ],
             [
              0.4444444444444444,
              "#bd3786"
             ],
             [
              0.5555555555555556,
              "#d8576b"
             ],
             [
              0.6666666666666666,
              "#ed7953"
             ],
             [
              0.7777777777777778,
              "#fb9f3a"
             ],
             [
              0.8888888888888888,
              "#fdca26"
             ],
             [
              1,
              "#f0f921"
             ]
            ],
            "type": "contour"
           }
          ],
          "contourcarpet": [
           {
            "colorbar": {
             "outlinewidth": 0,
             "ticks": ""
            },
            "type": "contourcarpet"
           }
          ],
          "heatmap": [
           {
            "colorbar": {
             "outlinewidth": 0,
             "ticks": ""
            },
            "colorscale": [
             [
              0,
              "#0d0887"
             ],
             [
              0.1111111111111111,
              "#46039f"
             ],
             [
              0.2222222222222222,
              "#7201a8"
             ],
             [
              0.3333333333333333,
              "#9c179e"
             ],
             [
              0.4444444444444444,
              "#bd3786"
             ],
             [
              0.5555555555555556,
              "#d8576b"
             ],
             [
              0.6666666666666666,
              "#ed7953"
             ],
             [
              0.7777777777777778,
              "#fb9f3a"
             ],
             [
              0.8888888888888888,
              "#fdca26"
             ],
             [
              1,
              "#f0f921"
             ]
            ],
            "type": "heatmap"
           }
          ],
          "heatmapgl": [
           {
            "colorbar": {
             "outlinewidth": 0,
             "ticks": ""
            },
            "colorscale": [
             [
              0,
              "#0d0887"
             ],
             [
              0.1111111111111111,
              "#46039f"
             ],
             [
              0.2222222222222222,
              "#7201a8"
             ],
             [
              0.3333333333333333,
              "#9c179e"
             ],
             [
              0.4444444444444444,
              "#bd3786"
             ],
             [
              0.5555555555555556,
              "#d8576b"
             ],
             [
              0.6666666666666666,
              "#ed7953"
             ],
             [
              0.7777777777777778,
              "#fb9f3a"
             ],
             [
              0.8888888888888888,
              "#fdca26"
             ],
             [
              1,
              "#f0f921"
             ]
            ],
            "type": "heatmapgl"
           }
          ],
          "histogram": [
           {
            "marker": {
             "colorbar": {
              "outlinewidth": 0,
              "ticks": ""
             }
            },
            "type": "histogram"
           }
          ],
          "histogram2d": [
           {
            "colorbar": {
             "outlinewidth": 0,
             "ticks": ""
            },
            "colorscale": [
             [
              0,
              "#0d0887"
             ],
             [
              0.1111111111111111,
              "#46039f"
             ],
             [
              0.2222222222222222,
              "#7201a8"
             ],
             [
              0.3333333333333333,
              "#9c179e"
             ],
             [
              0.4444444444444444,
              "#bd3786"
             ],
             [
              0.5555555555555556,
              "#d8576b"
             ],
             [
              0.6666666666666666,
              "#ed7953"
             ],
             [
              0.7777777777777778,
              "#fb9f3a"
             ],
             [
              0.8888888888888888,
              "#fdca26"
             ],
             [
              1,
              "#f0f921"
             ]
            ],
            "type": "histogram2d"
           }
          ],
          "histogram2dcontour": [
           {
            "colorbar": {
             "outlinewidth": 0,
             "ticks": ""
            },
            "colorscale": [
             [
              0,
              "#0d0887"
             ],
             [
              0.1111111111111111,
              "#46039f"
             ],
             [
              0.2222222222222222,
              "#7201a8"
             ],
             [
              0.3333333333333333,
              "#9c179e"
             ],
             [
              0.4444444444444444,
              "#bd3786"
             ],
             [
              0.5555555555555556,
              "#d8576b"
             ],
             [
              0.6666666666666666,
              "#ed7953"
             ],
             [
              0.7777777777777778,
              "#fb9f3a"
             ],
             [
              0.8888888888888888,
              "#fdca26"
             ],
             [
              1,
              "#f0f921"
             ]
            ],
            "type": "histogram2dcontour"
           }
          ],
          "mesh3d": [
           {
            "colorbar": {
             "outlinewidth": 0,
             "ticks": ""
            },
            "type": "mesh3d"
           }
          ],
          "parcoords": [
           {
            "line": {
             "colorbar": {
              "outlinewidth": 0,
              "ticks": ""
             }
            },
            "type": "parcoords"
           }
          ],
          "scatter": [
           {
            "marker": {
             "colorbar": {
              "outlinewidth": 0,
              "ticks": ""
             }
            },
            "type": "scatter"
           }
          ],
          "scatter3d": [
           {
            "line": {
             "colorbar": {
              "outlinewidth": 0,
              "ticks": ""
             }
            },
            "marker": {
             "colorbar": {
              "outlinewidth": 0,
              "ticks": ""
             }
            },
            "type": "scatter3d"
           }
          ],
          "scattercarpet": [
           {
            "marker": {
             "colorbar": {
              "outlinewidth": 0,
              "ticks": ""
             }
            },
            "type": "scattercarpet"
           }
          ],
          "scattergeo": [
           {
            "marker": {
             "colorbar": {
              "outlinewidth": 0,
              "ticks": ""
             }
            },
            "type": "scattergeo"
           }
          ],
          "scattergl": [
           {
            "marker": {
             "colorbar": {
              "outlinewidth": 0,
              "ticks": ""
             }
            },
            "type": "scattergl"
           }
          ],
          "scattermapbox": [
           {
            "marker": {
             "colorbar": {
              "outlinewidth": 0,
              "ticks": ""
             }
            },
            "type": "scattermapbox"
           }
          ],
          "scatterpolar": [
           {
            "marker": {
             "colorbar": {
              "outlinewidth": 0,
              "ticks": ""
             }
            },
            "type": "scatterpolar"
           }
          ],
          "scatterpolargl": [
           {
            "marker": {
             "colorbar": {
              "outlinewidth": 0,
              "ticks": ""
             }
            },
            "type": "scatterpolargl"
           }
          ],
          "scatterternary": [
           {
            "marker": {
             "colorbar": {
              "outlinewidth": 0,
              "ticks": ""
             }
            },
            "type": "scatterternary"
           }
          ],
          "surface": [
           {
            "colorbar": {
             "outlinewidth": 0,
             "ticks": ""
            },
            "colorscale": [
             [
              0,
              "#0d0887"
             ],
             [
              0.1111111111111111,
              "#46039f"
             ],
             [
              0.2222222222222222,
              "#7201a8"
             ],
             [
              0.3333333333333333,
              "#9c179e"
             ],
             [
              0.4444444444444444,
              "#bd3786"
             ],
             [
              0.5555555555555556,
              "#d8576b"
             ],
             [
              0.6666666666666666,
              "#ed7953"
             ],
             [
              0.7777777777777778,
              "#fb9f3a"
             ],
             [
              0.8888888888888888,
              "#fdca26"
             ],
             [
              1,
              "#f0f921"
             ]
            ],
            "type": "surface"
           }
          ],
          "table": [
           {
            "cells": {
             "fill": {
              "color": "#EBF0F8"
             },
             "line": {
              "color": "white"
             }
            },
            "header": {
             "fill": {
              "color": "#C8D4E3"
             },
             "line": {
              "color": "white"
             }
            },
            "type": "table"
           }
          ]
         },
         "layout": {
          "annotationdefaults": {
           "arrowcolor": "#2a3f5f",
           "arrowhead": 0,
           "arrowwidth": 1
          },
          "colorscale": {
           "diverging": [
            [
             0,
             "#8e0152"
            ],
            [
             0.1,
             "#c51b7d"
            ],
            [
             0.2,
             "#de77ae"
            ],
            [
             0.3,
             "#f1b6da"
            ],
            [
             0.4,
             "#fde0ef"
            ],
            [
             0.5,
             "#f7f7f7"
            ],
            [
             0.6,
             "#e6f5d0"
            ],
            [
             0.7,
             "#b8e186"
            ],
            [
             0.8,
             "#7fbc41"
            ],
            [
             0.9,
             "#4d9221"
            ],
            [
             1,
             "#276419"
            ]
           ],
           "sequential": [
            [
             0,
             "#0d0887"
            ],
            [
             0.1111111111111111,
             "#46039f"
            ],
            [
             0.2222222222222222,
             "#7201a8"
            ],
            [
             0.3333333333333333,
             "#9c179e"
            ],
            [
             0.4444444444444444,
             "#bd3786"
            ],
            [
             0.5555555555555556,
             "#d8576b"
            ],
            [
             0.6666666666666666,
             "#ed7953"
            ],
            [
             0.7777777777777778,
             "#fb9f3a"
            ],
            [
             0.8888888888888888,
             "#fdca26"
            ],
            [
             1,
             "#f0f921"
            ]
           ],
           "sequentialminus": [
            [
             0,
             "#0d0887"
            ],
            [
             0.1111111111111111,
             "#46039f"
            ],
            [
             0.2222222222222222,
             "#7201a8"
            ],
            [
             0.3333333333333333,
             "#9c179e"
            ],
            [
             0.4444444444444444,
             "#bd3786"
            ],
            [
             0.5555555555555556,
             "#d8576b"
            ],
            [
             0.6666666666666666,
             "#ed7953"
            ],
            [
             0.7777777777777778,
             "#fb9f3a"
            ],
            [
             0.8888888888888888,
             "#fdca26"
            ],
            [
             1,
             "#f0f921"
            ]
           ]
          },
          "colorway": [
           "#636efa",
           "#EF553B",
           "#00cc96",
           "#ab63fa",
           "#FFA15A",
           "#19d3f3",
           "#FF6692",
           "#B6E880",
           "#FF97FF",
           "#FECB52"
          ],
          "font": {
           "color": "#2a3f5f"
          },
          "geo": {
           "bgcolor": "white",
           "lakecolor": "white",
           "landcolor": "#E5ECF6",
           "showlakes": true,
           "showland": true,
           "subunitcolor": "white"
          },
          "hoverlabel": {
           "align": "left"
          },
          "hovermode": "closest",
          "mapbox": {
           "style": "light"
          },
          "paper_bgcolor": "white",
          "plot_bgcolor": "#E5ECF6",
          "polar": {
           "angularaxis": {
            "gridcolor": "white",
            "linecolor": "white",
            "ticks": ""
           },
           "bgcolor": "#E5ECF6",
           "radialaxis": {
            "gridcolor": "white",
            "linecolor": "white",
            "ticks": ""
           }
          },
          "scene": {
           "xaxis": {
            "backgroundcolor": "#E5ECF6",
            "gridcolor": "white",
            "gridwidth": 2,
            "linecolor": "white",
            "showbackground": true,
            "ticks": "",
            "zerolinecolor": "white"
           },
           "yaxis": {
            "backgroundcolor": "#E5ECF6",
            "gridcolor": "white",
            "gridwidth": 2,
            "linecolor": "white",
            "showbackground": true,
            "ticks": "",
            "zerolinecolor": "white"
           },
           "zaxis": {
            "backgroundcolor": "#E5ECF6",
            "gridcolor": "white",
            "gridwidth": 2,
            "linecolor": "white",
            "showbackground": true,
            "ticks": "",
            "zerolinecolor": "white"
           }
          },
          "shapedefaults": {
           "line": {
            "color": "#2a3f5f"
           }
          },
          "ternary": {
           "aaxis": {
            "gridcolor": "white",
            "linecolor": "white",
            "ticks": ""
           },
           "baxis": {
            "gridcolor": "white",
            "linecolor": "white",
            "ticks": ""
           },
           "bgcolor": "#E5ECF6",
           "caxis": {
            "gridcolor": "white",
            "linecolor": "white",
            "ticks": ""
           }
          },
          "title": {
           "x": 0.05
          },
          "xaxis": {
           "automargin": true,
           "gridcolor": "white",
           "linecolor": "white",
           "ticks": "",
           "zerolinecolor": "white",
           "zerolinewidth": 2
          },
          "yaxis": {
           "automargin": true,
           "gridcolor": "white",
           "linecolor": "white",
           "ticks": "",
           "zerolinecolor": "white",
           "zerolinewidth": 2
          }
         }
        },
        "title": {
         "text": "Regions"
        }
       }
      },
      "text/html": [
       "<div>\n",
       "        \n",
       "        \n",
       "            <div id=\"6979d9b2-0710-4da1-92ae-2385682a491a\" class=\"plotly-graph-div\" style=\"height:525px; width:100%;\"></div>\n",
       "            <script type=\"text/javascript\">\n",
       "                require([\"plotly\"], function(Plotly) {\n",
       "                    window.PLOTLYENV=window.PLOTLYENV || {};\n",
       "                    \n",
       "                if (document.getElementById(\"6979d9b2-0710-4da1-92ae-2385682a491a\")) {\n",
       "                    Plotly.newPlot(\n",
       "                        '6979d9b2-0710-4da1-92ae-2385682a491a',\n",
       "                        [{\"autocolorscale\": false, \"colorscale\": [[0.0, \"rgb(255,255,217)\"], [0.125, \"rgb(237,248,177)\"], [0.25, \"rgb(199,233,180)\"], [0.375, \"rgb(127,205,187)\"], [0.5, \"rgb(65,182,196)\"], [0.625, \"rgb(29,145,192)\"], [0.75, \"rgb(34,94,168)\"], [0.875, \"rgb(37,52,148)\"], [1.0, \"rgb(8,29,88)\"]], \"locations\": [\"CAN\", \"MEX\", \"USA\", \"ATG\", \"BHM\", \"BLZ\", \"CYM\", \"CRI\", \"CUB\", \"DMA\", \"DOM\", \"SLV\", \"GRD\", \"GMT\", \"HTI\", \"HND\", \"JAM\", \"NIC\", \"PAN\", \"KNA\", \"TTO\", \"ARG\", \"BOL\", \"BRA\", \"CHL\", \"COL\", \"ECU\", \"FLK\", \"GUY\", \"PRY\", \"PER\", \"SUR\", \"URY\", \"VEN\", \"CHN\", \"HKG\", \"JPN\", \"MAC\", \"PRK\", \"KOR\", \"MNG\", \"TWN\", \"BRN\", \"KHM\", \"TLS\", \"IDN\", \"LAO\", \"MYS\", \"MMR\", \"PHL\", \"SGP\", \"VNM\", \"THA\", \"AFG\", \"BGD\", \"AFG\", \"IND\", \"MDV\", \"NPL\", \"PAK\", \"LKA\", \"ARM\", \"AZE\", \"GEO\", \"KAZ\", \"TJK\", \"TKM\", \"UZB\", \"AND\", \"AUT\", \"BEL\", \"CYP\", \"DNK\", \"FIN\", \"FRA\", \"DEU\", \"GIB\", \"GRC\", \"ISL\", \"IRL\", \"ITA\", \"LUX\", \"MLT\", \"NLD\", \"NOR\", \"PRT\", \"ESP\", \"SWE\", \"CHE\", \"GBR\", \"ABL\", \"BLR\", \"BIH\", \"BGR\", \"HRV\", \"CZE\", \"EST\", \"HUN\", \"KSV\", \"LVA\", \"LTU\", \"MKD\", \"MDA\", \"MNE\", \"POL\", \"ROU\", \"RUS\", \"SRB\", \"SVK\", \"SVN\", \"UKS\", \"DZA\", \"BHR\", \"EGY\", \"IRN\", \"IRQ\", \"ISR\", \"JOR\", \"KWT\", \"LBN\", \"LBY\", \"MAR\", \"YEM\", \"QAT\", \"SAU\", \"SYR\", \"TUN\", \"TUR\", \"ARE\", \"WBG\", \"AGO\", \"BEN\", \"BWA\", \"BFA\", \"BDI\", \"CAF\", \"TCD\", \"COM\", \"COD\", \"DJI\", \"GNQ\", \"ERI\", \"ETH\", \"GAB\", \"GMB\", \"GHA\", \"GIN\", \"GNB\", \"CIV\", \"KEN\", \"LSO\", \"LBR\", \"MDG\", \"MWI\", \"MLI\", \"MRT\", \"MOZ\", \"NAM\", \"NER\", \"NGA\", \"COG\", \"RWA\", \"SEN\", \"SYC\", \"SLE\", \"SOM\", \"ZAF\", \"SSD\", \"SDN\", \"SWZ\", \"TZA\", \"TGO\", \"UGA\", \"ZMB\", \"ZWE\", \"AUS\", \"FJI\", \"PYF\", \"NCL\", \"NZL\", \"PNG\", \"SLB\", \"VUT\"], \"marker\": {\"line\": {\"color\": \"white\", \"width\": 0.5}}, \"reversescale\": true, \"text\": [\"North America\", \"North America\", \"North America\", \"Central America & Caribbean\", \"Central America & Caribbean\", \"Central America & Caribbean\", \"Central America & Caribbean\", \"Central America & Caribbean\", \"Central America & Caribbean\", \"Central America & Caribbean\", \"Central America & Caribbean\", \"Central America & Caribbean\", \"Central America & Caribbean\", \"Central America & Caribbean\", \"Central America & Caribbean\", \"Central America & Caribbean\", \"Central America & Caribbean\", \"Central America & Caribbean\", \"Central America & Caribbean\", \"Central America & Caribbean\", \"Central America & Caribbean\", \"South America\", \"South America\", \"South America\", \"South America\", \"South America\", \"South America\", \"South America\", \"South America\", \"South America\", \"South America\", \"South America\", \"South America\", \"South America\", \"East Asia\", \"East Asia\", \"East Asia\", \"East Asia\", \"East Asia\", \"East Asia\", \"East Asia\", \"East Asia\", \"Southeast Asia\", \"Southeast Asia\", \"Southeast Asia\", \"Southeast Asia\", \"Southeast Asia\", \"Southeast Asia\", \"Southeast Asia\", \"Southeast Asia\", \"Southeast Asia\", \"Southeast Asia\", \"Southeast Asia\", \"South Asia\", \"South Asia\", \"South Asia\", \"South Asia\", \"South Asia\", \"South Asia\", \"South Asia\", \"South Asia\", \"Central Asia\", \"Central Asia\", \"Central Asia\", \"Central Asia\", \"Central Asia\", \"Central Asia\", \"Central Asia\", \"Western Europe\", \"Western Europe\", \"Western Europe\", \"Western Europe\", \"Western Europe\", \"Western Europe\", \"Western Europe\", \"Western Europe\", \"Western Europe\", \"Western Europe\", \"Western Europe\", \"Western Europe\", \"Western Europe\", \"Western Europe\", \"Western Europe\", \"Western Europe\", \"Western Europe\", \"Western Europe\", \"Western Europe\", \"Western Europe\", \"Western Europe\", \"Western Europe\", \"Eastern Europe\", \"Eastern Europe\", \"Eastern Europe\", \"Eastern Europe\", \"Eastern Europe\", \"Eastern Europe\", \"Eastern Europe\", \"Eastern Europe\", \"Eastern Europe\", \"Eastern Europe\", \"Eastern Europe\", \"Eastern Europe\", \"Eastern Europe\", \"Eastern Europe\", \"Eastern Europe\", \"Eastern Europe\", \"Eastern Europe\", \"Eastern Europe\", \"Eastern Europe\", \"Eastern Europe\", \"Eastern Europe\", \"Middle East & North Africa\", \"Middle East & North Africa\", \"Middle East & North Africa\", \"Middle East & North Africa\", \"Middle East & North Africa\", \"Middle East & North Africa\", \"Middle East & North Africa\", \"Middle East & North Africa\", \"Middle East & North Africa\", \"Middle East & North Africa\", \"Middle East & North Africa\", \"Middle East & North Africa\", \"Middle East & North Africa\", \"Middle East & North Africa\", \"Middle East & North Africa\", \"Middle East & North Africa\", \"Middle East & North Africa\", \"Middle East & North Africa\", \"Middle East & North Africa\", \"Sub-Saharan Africa\", \"Sub-Saharan Africa\", \"Sub-Saharan Africa\", \"Sub-Saharan Africa\", \"Sub-Saharan Africa\", \"Sub-Saharan Africa\", \"Sub-Saharan Africa\", \"Sub-Saharan Africa\", \"Sub-Saharan Africa\", \"Sub-Saharan Africa\", \"Sub-Saharan Africa\", \"Sub-Saharan Africa\", \"Sub-Saharan Africa\", \"Sub-Saharan Africa\", \"Sub-Saharan Africa\", \"Sub-Saharan Africa\", \"Sub-Saharan Africa\", \"Sub-Saharan Africa\", \"Sub-Saharan Africa\", \"Sub-Saharan Africa\", \"Sub-Saharan Africa\", \"Sub-Saharan Africa\", \"Sub-Saharan Africa\", \"Sub-Saharan Africa\", \"Sub-Saharan Africa\", \"Sub-Saharan Africa\", \"Sub-Saharan Africa\", \"Sub-Saharan Africa\", \"Sub-Saharan Africa\", \"Sub-Saharan Africa\", \"Sub-Saharan Africa\", \"Sub-Saharan Africa\", \"Sub-Saharan Africa\", \"Sub-Saharan Africa\", \"Sub-Saharan Africa\", \"Sub-Saharan Africa\", \"Sub-Saharan Africa\", \"Sub-Saharan Africa\", \"Sub-Saharan Africa\", \"Sub-Saharan Africa\", \"Sub-Saharan Africa\", \"Sub-Saharan Africa\", \"Sub-Saharan Africa\", \"Sub-Saharan Africa\", \"Sub-Saharan Africa\", \"Australasia & Oceania\", \"Australasia & Oceania\", \"Australasia & Oceania\", \"Australasia & Oceania\", \"Australasia & Oceania\", \"Australasia & Oceania\", \"Australasia & Oceania\", \"Australasia & Oceania\"], \"type\": \"choropleth\", \"z\": [1, 1, 1, 2, 2, 2, 2, 2, 2, 2, 2, 2, 2, 2, 2, 2, 2, 2, 2, 2, 2, 3, 3, 3, 3, 3, 3, 3, 3, 3, 3, 3, 3, 3, 4, 4, 4, 4, 4, 4, 4, 4, 5, 5, 5, 5, 5, 5, 5, 5, 5, 5, 5, 6, 6, 6, 6, 6, 6, 6, 6, 7, 7, 7, 7, 7, 7, 7, 8, 8, 8, 8, 8, 8, 8, 8, 8, 8, 8, 8, 8, 8, 8, 8, 8, 8, 8, 8, 8, 8, 9, 9, 9, 9, 9, 9, 9, 9, 9, 9, 9, 9, 9, 9, 9, 9, 9, 9, 9, 9, 9, 10, 10, 10, 10, 10, 10, 10, 10, 10, 10, 10, 10, 10, 10, 10, 10, 10, 10, 10, 11, 11, 11, 11, 11, 11, 11, 11, 11, 11, 11, 11, 11, 11, 11, 11, 11, 11, 11, 11, 11, 11, 11, 11, 11, 11, 11, 11, 11, 11, 11, 11, 11, 11, 11, 11, 11, 11, 11, 11, 11, 11, 11, 11, 11, 12, 12, 12, 12, 12, 12, 12, 12]}],\n",
       "                        {\"geo\": {\"projection\": {\"type\": \"equirectangular\"}, \"showcoastlines\": false, \"showframe\": false}, \"template\": {\"data\": {\"bar\": [{\"error_x\": {\"color\": \"#2a3f5f\"}, \"error_y\": {\"color\": \"#2a3f5f\"}, \"marker\": {\"line\": {\"color\": \"#E5ECF6\", \"width\": 0.5}}, \"type\": \"bar\"}], \"barpolar\": [{\"marker\": {\"line\": {\"color\": \"#E5ECF6\", \"width\": 0.5}}, \"type\": \"barpolar\"}], \"carpet\": [{\"aaxis\": {\"endlinecolor\": \"#2a3f5f\", \"gridcolor\": \"white\", \"linecolor\": \"white\", \"minorgridcolor\": \"white\", \"startlinecolor\": \"#2a3f5f\"}, \"baxis\": {\"endlinecolor\": \"#2a3f5f\", \"gridcolor\": \"white\", \"linecolor\": \"white\", \"minorgridcolor\": \"white\", \"startlinecolor\": \"#2a3f5f\"}, \"type\": \"carpet\"}], \"choropleth\": [{\"colorbar\": {\"outlinewidth\": 0, \"ticks\": \"\"}, \"type\": \"choropleth\"}], \"contour\": [{\"colorbar\": {\"outlinewidth\": 0, \"ticks\": \"\"}, \"colorscale\": [[0.0, \"#0d0887\"], [0.1111111111111111, \"#46039f\"], [0.2222222222222222, \"#7201a8\"], [0.3333333333333333, \"#9c179e\"], [0.4444444444444444, \"#bd3786\"], [0.5555555555555556, \"#d8576b\"], [0.6666666666666666, \"#ed7953\"], [0.7777777777777778, \"#fb9f3a\"], [0.8888888888888888, \"#fdca26\"], [1.0, \"#f0f921\"]], \"type\": \"contour\"}], \"contourcarpet\": [{\"colorbar\": {\"outlinewidth\": 0, \"ticks\": \"\"}, \"type\": \"contourcarpet\"}], \"heatmap\": [{\"colorbar\": {\"outlinewidth\": 0, \"ticks\": \"\"}, \"colorscale\": [[0.0, \"#0d0887\"], [0.1111111111111111, \"#46039f\"], [0.2222222222222222, \"#7201a8\"], [0.3333333333333333, \"#9c179e\"], [0.4444444444444444, \"#bd3786\"], [0.5555555555555556, \"#d8576b\"], [0.6666666666666666, \"#ed7953\"], [0.7777777777777778, \"#fb9f3a\"], [0.8888888888888888, \"#fdca26\"], [1.0, \"#f0f921\"]], \"type\": \"heatmap\"}], \"heatmapgl\": [{\"colorbar\": {\"outlinewidth\": 0, \"ticks\": \"\"}, \"colorscale\": [[0.0, \"#0d0887\"], [0.1111111111111111, \"#46039f\"], [0.2222222222222222, \"#7201a8\"], [0.3333333333333333, \"#9c179e\"], [0.4444444444444444, \"#bd3786\"], [0.5555555555555556, \"#d8576b\"], [0.6666666666666666, \"#ed7953\"], [0.7777777777777778, \"#fb9f3a\"], [0.8888888888888888, \"#fdca26\"], [1.0, \"#f0f921\"]], \"type\": \"heatmapgl\"}], \"histogram\": [{\"marker\": {\"colorbar\": {\"outlinewidth\": 0, \"ticks\": \"\"}}, \"type\": \"histogram\"}], \"histogram2d\": [{\"colorbar\": {\"outlinewidth\": 0, \"ticks\": \"\"}, \"colorscale\": [[0.0, \"#0d0887\"], [0.1111111111111111, \"#46039f\"], [0.2222222222222222, \"#7201a8\"], [0.3333333333333333, \"#9c179e\"], [0.4444444444444444, \"#bd3786\"], [0.5555555555555556, \"#d8576b\"], [0.6666666666666666, \"#ed7953\"], [0.7777777777777778, \"#fb9f3a\"], [0.8888888888888888, \"#fdca26\"], [1.0, \"#f0f921\"]], \"type\": \"histogram2d\"}], \"histogram2dcontour\": [{\"colorbar\": {\"outlinewidth\": 0, \"ticks\": \"\"}, \"colorscale\": [[0.0, \"#0d0887\"], [0.1111111111111111, \"#46039f\"], [0.2222222222222222, \"#7201a8\"], [0.3333333333333333, \"#9c179e\"], [0.4444444444444444, \"#bd3786\"], [0.5555555555555556, \"#d8576b\"], [0.6666666666666666, \"#ed7953\"], [0.7777777777777778, \"#fb9f3a\"], [0.8888888888888888, \"#fdca26\"], [1.0, \"#f0f921\"]], \"type\": \"histogram2dcontour\"}], \"mesh3d\": [{\"colorbar\": {\"outlinewidth\": 0, \"ticks\": \"\"}, \"type\": \"mesh3d\"}], \"parcoords\": [{\"line\": {\"colorbar\": {\"outlinewidth\": 0, \"ticks\": \"\"}}, \"type\": \"parcoords\"}], \"scatter\": [{\"marker\": {\"colorbar\": {\"outlinewidth\": 0, \"ticks\": \"\"}}, \"type\": \"scatter\"}], \"scatter3d\": [{\"line\": {\"colorbar\": {\"outlinewidth\": 0, \"ticks\": \"\"}}, \"marker\": {\"colorbar\": {\"outlinewidth\": 0, \"ticks\": \"\"}}, \"type\": \"scatter3d\"}], \"scattercarpet\": [{\"marker\": {\"colorbar\": {\"outlinewidth\": 0, \"ticks\": \"\"}}, \"type\": \"scattercarpet\"}], \"scattergeo\": [{\"marker\": {\"colorbar\": {\"outlinewidth\": 0, \"ticks\": \"\"}}, \"type\": \"scattergeo\"}], \"scattergl\": [{\"marker\": {\"colorbar\": {\"outlinewidth\": 0, \"ticks\": \"\"}}, \"type\": \"scattergl\"}], \"scattermapbox\": [{\"marker\": {\"colorbar\": {\"outlinewidth\": 0, \"ticks\": \"\"}}, \"type\": \"scattermapbox\"}], \"scatterpolar\": [{\"marker\": {\"colorbar\": {\"outlinewidth\": 0, \"ticks\": \"\"}}, \"type\": \"scatterpolar\"}], \"scatterpolargl\": [{\"marker\": {\"colorbar\": {\"outlinewidth\": 0, \"ticks\": \"\"}}, \"type\": \"scatterpolargl\"}], \"scatterternary\": [{\"marker\": {\"colorbar\": {\"outlinewidth\": 0, \"ticks\": \"\"}}, \"type\": \"scatterternary\"}], \"surface\": [{\"colorbar\": {\"outlinewidth\": 0, \"ticks\": \"\"}, \"colorscale\": [[0.0, \"#0d0887\"], [0.1111111111111111, \"#46039f\"], [0.2222222222222222, \"#7201a8\"], [0.3333333333333333, \"#9c179e\"], [0.4444444444444444, \"#bd3786\"], [0.5555555555555556, \"#d8576b\"], [0.6666666666666666, \"#ed7953\"], [0.7777777777777778, \"#fb9f3a\"], [0.8888888888888888, \"#fdca26\"], [1.0, \"#f0f921\"]], \"type\": \"surface\"}], \"table\": [{\"cells\": {\"fill\": {\"color\": \"#EBF0F8\"}, \"line\": {\"color\": \"white\"}}, \"header\": {\"fill\": {\"color\": \"#C8D4E3\"}, \"line\": {\"color\": \"white\"}}, \"type\": \"table\"}]}, \"layout\": {\"annotationdefaults\": {\"arrowcolor\": \"#2a3f5f\", \"arrowhead\": 0, \"arrowwidth\": 1}, \"colorscale\": {\"diverging\": [[0, \"#8e0152\"], [0.1, \"#c51b7d\"], [0.2, \"#de77ae\"], [0.3, \"#f1b6da\"], [0.4, \"#fde0ef\"], [0.5, \"#f7f7f7\"], [0.6, \"#e6f5d0\"], [0.7, \"#b8e186\"], [0.8, \"#7fbc41\"], [0.9, \"#4d9221\"], [1, \"#276419\"]], \"sequential\": [[0.0, \"#0d0887\"], [0.1111111111111111, \"#46039f\"], [0.2222222222222222, \"#7201a8\"], [0.3333333333333333, \"#9c179e\"], [0.4444444444444444, \"#bd3786\"], [0.5555555555555556, \"#d8576b\"], [0.6666666666666666, \"#ed7953\"], [0.7777777777777778, \"#fb9f3a\"], [0.8888888888888888, \"#fdca26\"], [1.0, \"#f0f921\"]], \"sequentialminus\": [[0.0, \"#0d0887\"], [0.1111111111111111, \"#46039f\"], [0.2222222222222222, \"#7201a8\"], [0.3333333333333333, \"#9c179e\"], [0.4444444444444444, \"#bd3786\"], [0.5555555555555556, \"#d8576b\"], [0.6666666666666666, \"#ed7953\"], [0.7777777777777778, \"#fb9f3a\"], [0.8888888888888888, \"#fdca26\"], [1.0, \"#f0f921\"]]}, \"colorway\": [\"#636efa\", \"#EF553B\", \"#00cc96\", \"#ab63fa\", \"#FFA15A\", \"#19d3f3\", \"#FF6692\", \"#B6E880\", \"#FF97FF\", \"#FECB52\"], \"font\": {\"color\": \"#2a3f5f\"}, \"geo\": {\"bgcolor\": \"white\", \"lakecolor\": \"white\", \"landcolor\": \"#E5ECF6\", \"showlakes\": true, \"showland\": true, \"subunitcolor\": \"white\"}, \"hoverlabel\": {\"align\": \"left\"}, \"hovermode\": \"closest\", \"mapbox\": {\"style\": \"light\"}, \"paper_bgcolor\": \"white\", \"plot_bgcolor\": \"#E5ECF6\", \"polar\": {\"angularaxis\": {\"gridcolor\": \"white\", \"linecolor\": \"white\", \"ticks\": \"\"}, \"bgcolor\": \"#E5ECF6\", \"radialaxis\": {\"gridcolor\": \"white\", \"linecolor\": \"white\", \"ticks\": \"\"}}, \"scene\": {\"xaxis\": {\"backgroundcolor\": \"#E5ECF6\", \"gridcolor\": \"white\", \"gridwidth\": 2, \"linecolor\": \"white\", \"showbackground\": true, \"ticks\": \"\", \"zerolinecolor\": \"white\"}, \"yaxis\": {\"backgroundcolor\": \"#E5ECF6\", \"gridcolor\": \"white\", \"gridwidth\": 2, \"linecolor\": \"white\", \"showbackground\": true, \"ticks\": \"\", \"zerolinecolor\": \"white\"}, \"zaxis\": {\"backgroundcolor\": \"#E5ECF6\", \"gridcolor\": \"white\", \"gridwidth\": 2, \"linecolor\": \"white\", \"showbackground\": true, \"ticks\": \"\", \"zerolinecolor\": \"white\"}}, \"shapedefaults\": {\"line\": {\"color\": \"#2a3f5f\"}}, \"ternary\": {\"aaxis\": {\"gridcolor\": \"white\", \"linecolor\": \"white\", \"ticks\": \"\"}, \"baxis\": {\"gridcolor\": \"white\", \"linecolor\": \"white\", \"ticks\": \"\"}, \"bgcolor\": \"#E5ECF6\", \"caxis\": {\"gridcolor\": \"white\", \"linecolor\": \"white\", \"ticks\": \"\"}}, \"title\": {\"x\": 0.05}, \"xaxis\": {\"automargin\": true, \"gridcolor\": \"white\", \"linecolor\": \"white\", \"ticks\": \"\", \"zerolinecolor\": \"white\", \"zerolinewidth\": 2}, \"yaxis\": {\"automargin\": true, \"gridcolor\": \"white\", \"linecolor\": \"white\", \"ticks\": \"\", \"zerolinecolor\": \"white\", \"zerolinewidth\": 2}}}, \"title\": {\"text\": \"Regions\"}},\n",
       "                        {\"responsive\": true}\n",
       "                    ).then(function(){\n",
       "                            \n",
       "var gd = document.getElementById('6979d9b2-0710-4da1-92ae-2385682a491a');\n",
       "var x = new MutationObserver(function (mutations, observer) {{\n",
       "        var display = window.getComputedStyle(gd).display;\n",
       "        if (!display || display === 'none') {{\n",
       "            console.log([gd, 'removed!']);\n",
       "            Plotly.purge(gd);\n",
       "            observer.disconnect();\n",
       "        }}\n",
       "}});\n",
       "\n",
       "// Listen for the removal of the full notebook cells\n",
       "var notebookContainer = gd.closest('#notebook-container');\n",
       "if (notebookContainer) {{\n",
       "    x.observe(notebookContainer, {childList: true});\n",
       "}}\n",
       "\n",
       "// Listen for the clearing of the current output cell\n",
       "var outputEl = gd.closest('.output');\n",
       "if (outputEl) {{\n",
       "    x.observe(outputEl, {childList: true});\n",
       "}}\n",
       "\n",
       "                        })\n",
       "                };\n",
       "                });\n",
       "            </script>\n",
       "        </div>"
      ]
     },
     "metadata": {},
     "output_type": "display_data"
    }
   ],
   "source": [
    "import plotly.graph_objects as go\n",
    "import pandas as pd\n",
    "\n",
    "df = code.copy()\n",
    "\n",
    "fig = go.Figure(data=go.Choropleth(\n",
    "    locations = df['Code'],\n",
    "    z = df['waarde'],\n",
    "    text = df['Region'],\n",
    "    colorscale = 'YlGnBu',\n",
    "    autocolorscale=False,\n",
    "    reversescale=True,\n",
    "    marker_line_color='white',\n",
    "    marker_line_width=0.5,\n",
    "))\n",
    "\n",
    "fig.update_layout(\n",
    "    title_text='Regions',\n",
    "    geo=dict(\n",
    "        showframe=False,\n",
    "        showcoastlines=False,\n",
    "        projection_type='equirectangular'\n",
    "    )\n",
    "    \n",
    ")\n",
    "\n",
    "fig.show()"
   ]
  },
  {
   "cell_type": "code",
   "execution_count": 230,
   "metadata": {},
   "outputs": [
    {
     "data": {
      "application/vnd.plotly.v1+json": {
       "config": {
        "plotlyServerURL": "https://plot.ly"
       },
       "data": [
        {
         "autocolorscale": false,
         "colorscale": [
          [
           0,
           "rgb(0,0,0)"
          ],
          [
           0.2,
           "rgb(30,0,100)"
          ],
          [
           0.4,
           "rgb(120,0,100)"
          ],
          [
           0.6,
           "rgb(160,90,0)"
          ],
          [
           0.8,
           "rgb(230,200,0)"
          ],
          [
           1,
           "rgb(255,250,220)"
          ]
         ],
         "locations": [
          "CAN",
          "MEX",
          "USA",
          "ATG",
          "BHM",
          "BLZ",
          "CYM",
          "CRI",
          "CUB",
          "DMA",
          "DOM",
          "SLV",
          "GRD",
          "GMT",
          "HTI",
          "HND",
          "JAM",
          "NIC",
          "PAN",
          "KNA",
          "TTO",
          "ARG",
          "BOL",
          "BRA",
          "CHL",
          "COL",
          "ECU",
          "FLK",
          "GUY",
          "PRY",
          "PER",
          "SUR",
          "URY",
          "VEN",
          "CHN",
          "HKG",
          "JPN",
          "MAC",
          "PRK",
          "KOR",
          "MNG",
          "TWN",
          "BRN",
          "KHM",
          "TLS",
          "IDN",
          "LAO",
          "MYS",
          "MMR",
          "PHL",
          "SGP",
          "VNM",
          "THA",
          "AFG",
          "BGD",
          "AFG",
          "IND",
          "MDV",
          "NPL",
          "PAK",
          "LKA",
          "ARM",
          "AZE",
          "GEO",
          "KAZ",
          "TJK",
          "TKM",
          "UZB",
          "AND",
          "AUT",
          "BEL",
          "CYP",
          "DNK",
          "FIN",
          "FRA",
          "DEU",
          "GIB",
          "GRC",
          "ISL",
          "IRL",
          "ITA",
          "LUX",
          "MLT",
          "NLD",
          "NOR",
          "PRT",
          "ESP",
          "SWE",
          "CHE",
          "GBR",
          "ABL",
          "BLR",
          "BIH",
          "BGR",
          "HRV",
          "CZE",
          "EST",
          "HUN",
          "KSV",
          "LVA",
          "LTU",
          "MKD",
          "MDA",
          "MNE",
          "POL",
          "ROU",
          "RUS",
          "SRB",
          "SVK",
          "SVN",
          "UKS",
          "DZA",
          "BHR",
          "EGY",
          "IRN",
          "IRQ",
          "ISR",
          "JOR",
          "KWT",
          "LBN",
          "LBY",
          "MAR",
          "YEM",
          "QAT",
          "SAU",
          "SYR",
          "TUN",
          "TUR",
          "ARE",
          "WBG",
          "AGO",
          "BEN",
          "BWA",
          "BFA",
          "BDI",
          "CAF",
          "TCD",
          "COM",
          "COD",
          "DJI",
          "GNQ",
          "ERI",
          "ETH",
          "GAB",
          "GMB",
          "GHA",
          "GIN",
          "GNB",
          "CIV",
          "KEN",
          "LSO",
          "LBR",
          "MDG",
          "MWI",
          "MLI",
          "MRT",
          "MOZ",
          "NAM",
          "NER",
          "NGA",
          "COG",
          "RWA",
          "SEN",
          "SYC",
          "SLE",
          "SOM",
          "ZAF",
          "SSD",
          "SDN",
          "SWZ",
          "TZA",
          "TGO",
          "UGA",
          "ZMB",
          "ZWE",
          "AUS",
          "FJI",
          "PYF",
          "NCL",
          "NZL",
          "PNG",
          "SLB",
          "VUT"
         ],
         "marker": {
          "line": {
           "color": "white",
           "width": 0.5
          }
         },
         "reversescale": true,
         "text": [
          "North America",
          "North America",
          "North America",
          "Central America & Caribbean",
          "Central America & Caribbean",
          "Central America & Caribbean",
          "Central America & Caribbean",
          "Central America & Caribbean",
          "Central America & Caribbean",
          "Central America & Caribbean",
          "Central America & Caribbean",
          "Central America & Caribbean",
          "Central America & Caribbean",
          "Central America & Caribbean",
          "Central America & Caribbean",
          "Central America & Caribbean",
          "Central America & Caribbean",
          "Central America & Caribbean",
          "Central America & Caribbean",
          "Central America & Caribbean",
          "Central America & Caribbean",
          "South America",
          "South America",
          "South America",
          "South America",
          "South America",
          "South America",
          "South America",
          "South America",
          "South America",
          "South America",
          "South America",
          "South America",
          "South America",
          "East Asia",
          "East Asia",
          "East Asia",
          "East Asia",
          "East Asia",
          "East Asia",
          "East Asia",
          "East Asia",
          "Southeast Asia",
          "Southeast Asia",
          "Southeast Asia",
          "Southeast Asia",
          "Southeast Asia",
          "Southeast Asia",
          "Southeast Asia",
          "Southeast Asia",
          "Southeast Asia",
          "Southeast Asia",
          "Southeast Asia",
          "South Asia",
          "South Asia",
          "South Asia",
          "South Asia",
          "South Asia",
          "South Asia",
          "South Asia",
          "South Asia",
          "Central Asia",
          "Central Asia",
          "Central Asia",
          "Central Asia",
          "Central Asia",
          "Central Asia",
          "Central Asia",
          "Western Europe",
          "Western Europe",
          "Western Europe",
          "Western Europe",
          "Western Europe",
          "Western Europe",
          "Western Europe",
          "Western Europe",
          "Western Europe",
          "Western Europe",
          "Western Europe",
          "Western Europe",
          "Western Europe",
          "Western Europe",
          "Western Europe",
          "Western Europe",
          "Western Europe",
          "Western Europe",
          "Western Europe",
          "Western Europe",
          "Western Europe",
          "Western Europe",
          "Eastern Europe",
          "Eastern Europe",
          "Eastern Europe",
          "Eastern Europe",
          "Eastern Europe",
          "Eastern Europe",
          "Eastern Europe",
          "Eastern Europe",
          "Eastern Europe",
          "Eastern Europe",
          "Eastern Europe",
          "Eastern Europe",
          "Eastern Europe",
          "Eastern Europe",
          "Eastern Europe",
          "Eastern Europe",
          "Eastern Europe",
          "Eastern Europe",
          "Eastern Europe",
          "Eastern Europe",
          "Eastern Europe",
          "Middle East & North Africa",
          "Middle East & North Africa",
          "Middle East & North Africa",
          "Middle East & North Africa",
          "Middle East & North Africa",
          "Middle East & North Africa",
          "Middle East & North Africa",
          "Middle East & North Africa",
          "Middle East & North Africa",
          "Middle East & North Africa",
          "Middle East & North Africa",
          "Middle East & North Africa",
          "Middle East & North Africa",
          "Middle East & North Africa",
          "Middle East & North Africa",
          "Middle East & North Africa",
          "Middle East & North Africa",
          "Middle East & North Africa",
          "Middle East & North Africa",
          "Sub-Saharan Africa",
          "Sub-Saharan Africa",
          "Sub-Saharan Africa",
          "Sub-Saharan Africa",
          "Sub-Saharan Africa",
          "Sub-Saharan Africa",
          "Sub-Saharan Africa",
          "Sub-Saharan Africa",
          "Sub-Saharan Africa",
          "Sub-Saharan Africa",
          "Sub-Saharan Africa",
          "Sub-Saharan Africa",
          "Sub-Saharan Africa",
          "Sub-Saharan Africa",
          "Sub-Saharan Africa",
          "Sub-Saharan Africa",
          "Sub-Saharan Africa",
          "Sub-Saharan Africa",
          "Sub-Saharan Africa",
          "Sub-Saharan Africa",
          "Sub-Saharan Africa",
          "Sub-Saharan Africa",
          "Sub-Saharan Africa",
          "Sub-Saharan Africa",
          "Sub-Saharan Africa",
          "Sub-Saharan Africa",
          "Sub-Saharan Africa",
          "Sub-Saharan Africa",
          "Sub-Saharan Africa",
          "Sub-Saharan Africa",
          "Sub-Saharan Africa",
          "Sub-Saharan Africa",
          "Sub-Saharan Africa",
          "Sub-Saharan Africa",
          "Sub-Saharan Africa",
          "Sub-Saharan Africa",
          "Sub-Saharan Africa",
          "Sub-Saharan Africa",
          "Sub-Saharan Africa",
          "Sub-Saharan Africa",
          "Sub-Saharan Africa",
          "Sub-Saharan Africa",
          "Sub-Saharan Africa",
          "Sub-Saharan Africa",
          "Sub-Saharan Africa",
          "Australasia & Oceania",
          "Australasia & Oceania",
          "Australasia & Oceania",
          "Australasia & Oceania",
          "Australasia & Oceania",
          "Australasia & Oceania",
          "Australasia & Oceania",
          "Australasia & Oceania"
         ],
         "type": "choropleth",
         "z": [
          1261,
          1261,
          1261,
          7180,
          7180,
          7180,
          7180,
          7180,
          7180,
          7180,
          7180,
          7180,
          7180,
          7180,
          7180,
          7180,
          7180,
          7180,
          7180,
          7180,
          7180,
          158868,
          158868,
          158868,
          158868,
          158868,
          158868,
          158868,
          158868,
          158868,
          158868,
          158868,
          158868,
          158868,
          4475,
          4475,
          4475,
          4475,
          4475,
          4475,
          4475,
          4475,
          23117,
          23117,
          23117,
          23117,
          23117,
          23117,
          23117,
          23117,
          23117,
          23117,
          23117,
          23117,
          23117,
          23117,
          23117,
          23117,
          23117,
          23117,
          23117,
          20684,
          20684,
          20684,
          20684,
          20684,
          20684,
          20684,
          -432,
          -432,
          -432,
          -432,
          -432,
          -432,
          -432,
          -432,
          -432,
          -432,
          -432,
          -432,
          -432,
          -432,
          -432,
          -432,
          -432,
          -432,
          -432,
          -432,
          -432,
          -432,
          47081,
          47081,
          47081,
          47081,
          47081,
          47081,
          47081,
          47081,
          47081,
          47081,
          47081,
          47081,
          47081,
          47081,
          47081,
          47081,
          47081,
          47081,
          47081,
          47081,
          47081,
          177562,
          177562,
          177562,
          177562,
          177562,
          177562,
          177562,
          177562,
          177562,
          177562,
          177562,
          177562,
          177562,
          177562,
          177562,
          177562,
          177562,
          177562,
          177562,
          267294,
          267294,
          267294,
          267294,
          267294,
          267294,
          267294,
          267294,
          267294,
          267294,
          267294,
          267294,
          267294,
          267294,
          267294,
          267294,
          267294,
          267294,
          267294,
          267294,
          267294,
          267294,
          267294,
          267294,
          267294,
          267294,
          267294,
          267294,
          267294,
          267294,
          267294,
          267294,
          267294,
          267294,
          267294,
          267294,
          267294,
          267294,
          267294,
          267294,
          267294,
          267294,
          267294,
          267294,
          267294,
          12,
          44,
          44,
          44,
          44,
          44,
          44,
          44
         ]
        }
       ],
       "layout": {
        "geo": {
         "projection": {
          "type": "equirectangular"
         },
         "showcoastlines": false,
         "showframe": false
        },
        "template": {
         "data": {
          "bar": [
           {
            "error_x": {
             "color": "#2a3f5f"
            },
            "error_y": {
             "color": "#2a3f5f"
            },
            "marker": {
             "line": {
              "color": "#E5ECF6",
              "width": 0.5
             }
            },
            "type": "bar"
           }
          ],
          "barpolar": [
           {
            "marker": {
             "line": {
              "color": "#E5ECF6",
              "width": 0.5
             }
            },
            "type": "barpolar"
           }
          ],
          "carpet": [
           {
            "aaxis": {
             "endlinecolor": "#2a3f5f",
             "gridcolor": "white",
             "linecolor": "white",
             "minorgridcolor": "white",
             "startlinecolor": "#2a3f5f"
            },
            "baxis": {
             "endlinecolor": "#2a3f5f",
             "gridcolor": "white",
             "linecolor": "white",
             "minorgridcolor": "white",
             "startlinecolor": "#2a3f5f"
            },
            "type": "carpet"
           }
          ],
          "choropleth": [
           {
            "colorbar": {
             "outlinewidth": 0,
             "ticks": ""
            },
            "type": "choropleth"
           }
          ],
          "contour": [
           {
            "colorbar": {
             "outlinewidth": 0,
             "ticks": ""
            },
            "colorscale": [
             [
              0,
              "#0d0887"
             ],
             [
              0.1111111111111111,
              "#46039f"
             ],
             [
              0.2222222222222222,
              "#7201a8"
             ],
             [
              0.3333333333333333,
              "#9c179e"
             ],
             [
              0.4444444444444444,
              "#bd3786"
             ],
             [
              0.5555555555555556,
              "#d8576b"
             ],
             [
              0.6666666666666666,
              "#ed7953"
             ],
             [
              0.7777777777777778,
              "#fb9f3a"
             ],
             [
              0.8888888888888888,
              "#fdca26"
             ],
             [
              1,
              "#f0f921"
             ]
            ],
            "type": "contour"
           }
          ],
          "contourcarpet": [
           {
            "colorbar": {
             "outlinewidth": 0,
             "ticks": ""
            },
            "type": "contourcarpet"
           }
          ],
          "heatmap": [
           {
            "colorbar": {
             "outlinewidth": 0,
             "ticks": ""
            },
            "colorscale": [
             [
              0,
              "#0d0887"
             ],
             [
              0.1111111111111111,
              "#46039f"
             ],
             [
              0.2222222222222222,
              "#7201a8"
             ],
             [
              0.3333333333333333,
              "#9c179e"
             ],
             [
              0.4444444444444444,
              "#bd3786"
             ],
             [
              0.5555555555555556,
              "#d8576b"
             ],
             [
              0.6666666666666666,
              "#ed7953"
             ],
             [
              0.7777777777777778,
              "#fb9f3a"
             ],
             [
              0.8888888888888888,
              "#fdca26"
             ],
             [
              1,
              "#f0f921"
             ]
            ],
            "type": "heatmap"
           }
          ],
          "heatmapgl": [
           {
            "colorbar": {
             "outlinewidth": 0,
             "ticks": ""
            },
            "colorscale": [
             [
              0,
              "#0d0887"
             ],
             [
              0.1111111111111111,
              "#46039f"
             ],
             [
              0.2222222222222222,
              "#7201a8"
             ],
             [
              0.3333333333333333,
              "#9c179e"
             ],
             [
              0.4444444444444444,
              "#bd3786"
             ],
             [
              0.5555555555555556,
              "#d8576b"
             ],
             [
              0.6666666666666666,
              "#ed7953"
             ],
             [
              0.7777777777777778,
              "#fb9f3a"
             ],
             [
              0.8888888888888888,
              "#fdca26"
             ],
             [
              1,
              "#f0f921"
             ]
            ],
            "type": "heatmapgl"
           }
          ],
          "histogram": [
           {
            "marker": {
             "colorbar": {
              "outlinewidth": 0,
              "ticks": ""
             }
            },
            "type": "histogram"
           }
          ],
          "histogram2d": [
           {
            "colorbar": {
             "outlinewidth": 0,
             "ticks": ""
            },
            "colorscale": [
             [
              0,
              "#0d0887"
             ],
             [
              0.1111111111111111,
              "#46039f"
             ],
             [
              0.2222222222222222,
              "#7201a8"
             ],
             [
              0.3333333333333333,
              "#9c179e"
             ],
             [
              0.4444444444444444,
              "#bd3786"
             ],
             [
              0.5555555555555556,
              "#d8576b"
             ],
             [
              0.6666666666666666,
              "#ed7953"
             ],
             [
              0.7777777777777778,
              "#fb9f3a"
             ],
             [
              0.8888888888888888,
              "#fdca26"
             ],
             [
              1,
              "#f0f921"
             ]
            ],
            "type": "histogram2d"
           }
          ],
          "histogram2dcontour": [
           {
            "colorbar": {
             "outlinewidth": 0,
             "ticks": ""
            },
            "colorscale": [
             [
              0,
              "#0d0887"
             ],
             [
              0.1111111111111111,
              "#46039f"
             ],
             [
              0.2222222222222222,
              "#7201a8"
             ],
             [
              0.3333333333333333,
              "#9c179e"
             ],
             [
              0.4444444444444444,
              "#bd3786"
             ],
             [
              0.5555555555555556,
              "#d8576b"
             ],
             [
              0.6666666666666666,
              "#ed7953"
             ],
             [
              0.7777777777777778,
              "#fb9f3a"
             ],
             [
              0.8888888888888888,
              "#fdca26"
             ],
             [
              1,
              "#f0f921"
             ]
            ],
            "type": "histogram2dcontour"
           }
          ],
          "mesh3d": [
           {
            "colorbar": {
             "outlinewidth": 0,
             "ticks": ""
            },
            "type": "mesh3d"
           }
          ],
          "parcoords": [
           {
            "line": {
             "colorbar": {
              "outlinewidth": 0,
              "ticks": ""
             }
            },
            "type": "parcoords"
           }
          ],
          "scatter": [
           {
            "marker": {
             "colorbar": {
              "outlinewidth": 0,
              "ticks": ""
             }
            },
            "type": "scatter"
           }
          ],
          "scatter3d": [
           {
            "line": {
             "colorbar": {
              "outlinewidth": 0,
              "ticks": ""
             }
            },
            "marker": {
             "colorbar": {
              "outlinewidth": 0,
              "ticks": ""
             }
            },
            "type": "scatter3d"
           }
          ],
          "scattercarpet": [
           {
            "marker": {
             "colorbar": {
              "outlinewidth": 0,
              "ticks": ""
             }
            },
            "type": "scattercarpet"
           }
          ],
          "scattergeo": [
           {
            "marker": {
             "colorbar": {
              "outlinewidth": 0,
              "ticks": ""
             }
            },
            "type": "scattergeo"
           }
          ],
          "scattergl": [
           {
            "marker": {
             "colorbar": {
              "outlinewidth": 0,
              "ticks": ""
             }
            },
            "type": "scattergl"
           }
          ],
          "scattermapbox": [
           {
            "marker": {
             "colorbar": {
              "outlinewidth": 0,
              "ticks": ""
             }
            },
            "type": "scattermapbox"
           }
          ],
          "scatterpolar": [
           {
            "marker": {
             "colorbar": {
              "outlinewidth": 0,
              "ticks": ""
             }
            },
            "type": "scatterpolar"
           }
          ],
          "scatterpolargl": [
           {
            "marker": {
             "colorbar": {
              "outlinewidth": 0,
              "ticks": ""
             }
            },
            "type": "scatterpolargl"
           }
          ],
          "scatterternary": [
           {
            "marker": {
             "colorbar": {
              "outlinewidth": 0,
              "ticks": ""
             }
            },
            "type": "scatterternary"
           }
          ],
          "surface": [
           {
            "colorbar": {
             "outlinewidth": 0,
             "ticks": ""
            },
            "colorscale": [
             [
              0,
              "#0d0887"
             ],
             [
              0.1111111111111111,
              "#46039f"
             ],
             [
              0.2222222222222222,
              "#7201a8"
             ],
             [
              0.3333333333333333,
              "#9c179e"
             ],
             [
              0.4444444444444444,
              "#bd3786"
             ],
             [
              0.5555555555555556,
              "#d8576b"
             ],
             [
              0.6666666666666666,
              "#ed7953"
             ],
             [
              0.7777777777777778,
              "#fb9f3a"
             ],
             [
              0.8888888888888888,
              "#fdca26"
             ],
             [
              1,
              "#f0f921"
             ]
            ],
            "type": "surface"
           }
          ],
          "table": [
           {
            "cells": {
             "fill": {
              "color": "#EBF0F8"
             },
             "line": {
              "color": "white"
             }
            },
            "header": {
             "fill": {
              "color": "#C8D4E3"
             },
             "line": {
              "color": "white"
             }
            },
            "type": "table"
           }
          ]
         },
         "layout": {
          "annotationdefaults": {
           "arrowcolor": "#2a3f5f",
           "arrowhead": 0,
           "arrowwidth": 1
          },
          "colorscale": {
           "diverging": [
            [
             0,
             "#8e0152"
            ],
            [
             0.1,
             "#c51b7d"
            ],
            [
             0.2,
             "#de77ae"
            ],
            [
             0.3,
             "#f1b6da"
            ],
            [
             0.4,
             "#fde0ef"
            ],
            [
             0.5,
             "#f7f7f7"
            ],
            [
             0.6,
             "#e6f5d0"
            ],
            [
             0.7,
             "#b8e186"
            ],
            [
             0.8,
             "#7fbc41"
            ],
            [
             0.9,
             "#4d9221"
            ],
            [
             1,
             "#276419"
            ]
           ],
           "sequential": [
            [
             0,
             "#0d0887"
            ],
            [
             0.1111111111111111,
             "#46039f"
            ],
            [
             0.2222222222222222,
             "#7201a8"
            ],
            [
             0.3333333333333333,
             "#9c179e"
            ],
            [
             0.4444444444444444,
             "#bd3786"
            ],
            [
             0.5555555555555556,
             "#d8576b"
            ],
            [
             0.6666666666666666,
             "#ed7953"
            ],
            [
             0.7777777777777778,
             "#fb9f3a"
            ],
            [
             0.8888888888888888,
             "#fdca26"
            ],
            [
             1,
             "#f0f921"
            ]
           ],
           "sequentialminus": [
            [
             0,
             "#0d0887"
            ],
            [
             0.1111111111111111,
             "#46039f"
            ],
            [
             0.2222222222222222,
             "#7201a8"
            ],
            [
             0.3333333333333333,
             "#9c179e"
            ],
            [
             0.4444444444444444,
             "#bd3786"
            ],
            [
             0.5555555555555556,
             "#d8576b"
            ],
            [
             0.6666666666666666,
             "#ed7953"
            ],
            [
             0.7777777777777778,
             "#fb9f3a"
            ],
            [
             0.8888888888888888,
             "#fdca26"
            ],
            [
             1,
             "#f0f921"
            ]
           ]
          },
          "colorway": [
           "#636efa",
           "#EF553B",
           "#00cc96",
           "#ab63fa",
           "#FFA15A",
           "#19d3f3",
           "#FF6692",
           "#B6E880",
           "#FF97FF",
           "#FECB52"
          ],
          "font": {
           "color": "#2a3f5f"
          },
          "geo": {
           "bgcolor": "white",
           "lakecolor": "white",
           "landcolor": "#E5ECF6",
           "showlakes": true,
           "showland": true,
           "subunitcolor": "white"
          },
          "hoverlabel": {
           "align": "left"
          },
          "hovermode": "closest",
          "mapbox": {
           "style": "light"
          },
          "paper_bgcolor": "white",
          "plot_bgcolor": "#E5ECF6",
          "polar": {
           "angularaxis": {
            "gridcolor": "white",
            "linecolor": "white",
            "ticks": ""
           },
           "bgcolor": "#E5ECF6",
           "radialaxis": {
            "gridcolor": "white",
            "linecolor": "white",
            "ticks": ""
           }
          },
          "scene": {
           "xaxis": {
            "backgroundcolor": "#E5ECF6",
            "gridcolor": "white",
            "gridwidth": 2,
            "linecolor": "white",
            "showbackground": true,
            "ticks": "",
            "zerolinecolor": "white"
           },
           "yaxis": {
            "backgroundcolor": "#E5ECF6",
            "gridcolor": "white",
            "gridwidth": 2,
            "linecolor": "white",
            "showbackground": true,
            "ticks": "",
            "zerolinecolor": "white"
           },
           "zaxis": {
            "backgroundcolor": "#E5ECF6",
            "gridcolor": "white",
            "gridwidth": 2,
            "linecolor": "white",
            "showbackground": true,
            "ticks": "",
            "zerolinecolor": "white"
           }
          },
          "shapedefaults": {
           "line": {
            "color": "#2a3f5f"
           }
          },
          "ternary": {
           "aaxis": {
            "gridcolor": "white",
            "linecolor": "white",
            "ticks": ""
           },
           "baxis": {
            "gridcolor": "white",
            "linecolor": "white",
            "ticks": ""
           },
           "bgcolor": "#E5ECF6",
           "caxis": {
            "gridcolor": "white",
            "linecolor": "white",
            "ticks": ""
           }
          },
          "title": {
           "x": 0.05
          },
          "xaxis": {
           "automargin": true,
           "gridcolor": "white",
           "linecolor": "white",
           "ticks": "",
           "zerolinecolor": "white",
           "zerolinewidth": 2
          },
          "yaxis": {
           "automargin": true,
           "gridcolor": "white",
           "linecolor": "white",
           "ticks": "",
           "zerolinecolor": "white",
           "zerolinewidth": 2
          }
         }
        },
        "title": {
         "text": "Regions"
        }
       }
      },
      "text/html": [
       "<div>\n",
       "        \n",
       "        \n",
       "            <div id=\"83ec1463-c498-4a12-b100-60bb5348fb80\" class=\"plotly-graph-div\" style=\"height:525px; width:100%;\"></div>\n",
       "            <script type=\"text/javascript\">\n",
       "                require([\"plotly\"], function(Plotly) {\n",
       "                    window.PLOTLYENV=window.PLOTLYENV || {};\n",
       "                    \n",
       "                if (document.getElementById(\"83ec1463-c498-4a12-b100-60bb5348fb80\")) {\n",
       "                    Plotly.newPlot(\n",
       "                        '83ec1463-c498-4a12-b100-60bb5348fb80',\n",
       "                        [{\"autocolorscale\": false, \"colorscale\": [[0.0, \"rgb(0,0,0)\"], [0.2, \"rgb(30,0,100)\"], [0.4, \"rgb(120,0,100)\"], [0.6, \"rgb(160,90,0)\"], [0.8, \"rgb(230,200,0)\"], [1.0, \"rgb(255,250,220)\"]], \"locations\": [\"CAN\", \"MEX\", \"USA\", \"ATG\", \"BHM\", \"BLZ\", \"CYM\", \"CRI\", \"CUB\", \"DMA\", \"DOM\", \"SLV\", \"GRD\", \"GMT\", \"HTI\", \"HND\", \"JAM\", \"NIC\", \"PAN\", \"KNA\", \"TTO\", \"ARG\", \"BOL\", \"BRA\", \"CHL\", \"COL\", \"ECU\", \"FLK\", \"GUY\", \"PRY\", \"PER\", \"SUR\", \"URY\", \"VEN\", \"CHN\", \"HKG\", \"JPN\", \"MAC\", \"PRK\", \"KOR\", \"MNG\", \"TWN\", \"BRN\", \"KHM\", \"TLS\", \"IDN\", \"LAO\", \"MYS\", \"MMR\", \"PHL\", \"SGP\", \"VNM\", \"THA\", \"AFG\", \"BGD\", \"AFG\", \"IND\", \"MDV\", \"NPL\", \"PAK\", \"LKA\", \"ARM\", \"AZE\", \"GEO\", \"KAZ\", \"TJK\", \"TKM\", \"UZB\", \"AND\", \"AUT\", \"BEL\", \"CYP\", \"DNK\", \"FIN\", \"FRA\", \"DEU\", \"GIB\", \"GRC\", \"ISL\", \"IRL\", \"ITA\", \"LUX\", \"MLT\", \"NLD\", \"NOR\", \"PRT\", \"ESP\", \"SWE\", \"CHE\", \"GBR\", \"ABL\", \"BLR\", \"BIH\", \"BGR\", \"HRV\", \"CZE\", \"EST\", \"HUN\", \"KSV\", \"LVA\", \"LTU\", \"MKD\", \"MDA\", \"MNE\", \"POL\", \"ROU\", \"RUS\", \"SRB\", \"SVK\", \"SVN\", \"UKS\", \"DZA\", \"BHR\", \"EGY\", \"IRN\", \"IRQ\", \"ISR\", \"JOR\", \"KWT\", \"LBN\", \"LBY\", \"MAR\", \"YEM\", \"QAT\", \"SAU\", \"SYR\", \"TUN\", \"TUR\", \"ARE\", \"WBG\", \"AGO\", \"BEN\", \"BWA\", \"BFA\", \"BDI\", \"CAF\", \"TCD\", \"COM\", \"COD\", \"DJI\", \"GNQ\", \"ERI\", \"ETH\", \"GAB\", \"GMB\", \"GHA\", \"GIN\", \"GNB\", \"CIV\", \"KEN\", \"LSO\", \"LBR\", \"MDG\", \"MWI\", \"MLI\", \"MRT\", \"MOZ\", \"NAM\", \"NER\", \"NGA\", \"COG\", \"RWA\", \"SEN\", \"SYC\", \"SLE\", \"SOM\", \"ZAF\", \"SSD\", \"SDN\", \"SWZ\", \"TZA\", \"TGO\", \"UGA\", \"ZMB\", \"ZWE\", \"AUS\", \"FJI\", \"PYF\", \"NCL\", \"NZL\", \"PNG\", \"SLB\", \"VUT\"], \"marker\": {\"line\": {\"color\": \"white\", \"width\": 0.5}}, \"reversescale\": true, \"text\": [\"North America\", \"North America\", \"North America\", \"Central America & Caribbean\", \"Central America & Caribbean\", \"Central America & Caribbean\", \"Central America & Caribbean\", \"Central America & Caribbean\", \"Central America & Caribbean\", \"Central America & Caribbean\", \"Central America & Caribbean\", \"Central America & Caribbean\", \"Central America & Caribbean\", \"Central America & Caribbean\", \"Central America & Caribbean\", \"Central America & Caribbean\", \"Central America & Caribbean\", \"Central America & Caribbean\", \"Central America & Caribbean\", \"Central America & Caribbean\", \"Central America & Caribbean\", \"South America\", \"South America\", \"South America\", \"South America\", \"South America\", \"South America\", \"South America\", \"South America\", \"South America\", \"South America\", \"South America\", \"South America\", \"South America\", \"East Asia\", \"East Asia\", \"East Asia\", \"East Asia\", \"East Asia\", \"East Asia\", \"East Asia\", \"East Asia\", \"Southeast Asia\", \"Southeast Asia\", \"Southeast Asia\", \"Southeast Asia\", \"Southeast Asia\", \"Southeast Asia\", \"Southeast Asia\", \"Southeast Asia\", \"Southeast Asia\", \"Southeast Asia\", \"Southeast Asia\", \"South Asia\", \"South Asia\", \"South Asia\", \"South Asia\", \"South Asia\", \"South Asia\", \"South Asia\", \"South Asia\", \"Central Asia\", \"Central Asia\", \"Central Asia\", \"Central Asia\", \"Central Asia\", \"Central Asia\", \"Central Asia\", \"Western Europe\", \"Western Europe\", \"Western Europe\", \"Western Europe\", \"Western Europe\", \"Western Europe\", \"Western Europe\", \"Western Europe\", \"Western Europe\", \"Western Europe\", \"Western Europe\", \"Western Europe\", \"Western Europe\", \"Western Europe\", \"Western Europe\", \"Western Europe\", \"Western Europe\", \"Western Europe\", \"Western Europe\", \"Western Europe\", \"Western Europe\", \"Western Europe\", \"Eastern Europe\", \"Eastern Europe\", \"Eastern Europe\", \"Eastern Europe\", \"Eastern Europe\", \"Eastern Europe\", \"Eastern Europe\", \"Eastern Europe\", \"Eastern Europe\", \"Eastern Europe\", \"Eastern Europe\", \"Eastern Europe\", \"Eastern Europe\", \"Eastern Europe\", \"Eastern Europe\", \"Eastern Europe\", \"Eastern Europe\", \"Eastern Europe\", \"Eastern Europe\", \"Eastern Europe\", \"Eastern Europe\", \"Middle East & North Africa\", \"Middle East & North Africa\", \"Middle East & North Africa\", \"Middle East & North Africa\", \"Middle East & North Africa\", \"Middle East & North Africa\", \"Middle East & North Africa\", \"Middle East & North Africa\", \"Middle East & North Africa\", \"Middle East & North Africa\", \"Middle East & North Africa\", \"Middle East & North Africa\", \"Middle East & North Africa\", \"Middle East & North Africa\", \"Middle East & North Africa\", \"Middle East & North Africa\", \"Middle East & North Africa\", \"Middle East & North Africa\", \"Middle East & North Africa\", \"Sub-Saharan Africa\", \"Sub-Saharan Africa\", \"Sub-Saharan Africa\", \"Sub-Saharan Africa\", \"Sub-Saharan Africa\", \"Sub-Saharan Africa\", \"Sub-Saharan Africa\", \"Sub-Saharan Africa\", \"Sub-Saharan Africa\", \"Sub-Saharan Africa\", \"Sub-Saharan Africa\", \"Sub-Saharan Africa\", \"Sub-Saharan Africa\", \"Sub-Saharan Africa\", \"Sub-Saharan Africa\", \"Sub-Saharan Africa\", \"Sub-Saharan Africa\", \"Sub-Saharan Africa\", \"Sub-Saharan Africa\", \"Sub-Saharan Africa\", \"Sub-Saharan Africa\", \"Sub-Saharan Africa\", \"Sub-Saharan Africa\", \"Sub-Saharan Africa\", \"Sub-Saharan Africa\", \"Sub-Saharan Africa\", \"Sub-Saharan Africa\", \"Sub-Saharan Africa\", \"Sub-Saharan Africa\", \"Sub-Saharan Africa\", \"Sub-Saharan Africa\", \"Sub-Saharan Africa\", \"Sub-Saharan Africa\", \"Sub-Saharan Africa\", \"Sub-Saharan Africa\", \"Sub-Saharan Africa\", \"Sub-Saharan Africa\", \"Sub-Saharan Africa\", \"Sub-Saharan Africa\", \"Sub-Saharan Africa\", \"Sub-Saharan Africa\", \"Sub-Saharan Africa\", \"Sub-Saharan Africa\", \"Sub-Saharan Africa\", \"Sub-Saharan Africa\", \"Australasia & Oceania\", \"Australasia & Oceania\", \"Australasia & Oceania\", \"Australasia & Oceania\", \"Australasia & Oceania\", \"Australasia & Oceania\", \"Australasia & Oceania\", \"Australasia & Oceania\"], \"type\": \"choropleth\", \"z\": [1261, 1261, 1261, 7180, 7180, 7180, 7180, 7180, 7180, 7180, 7180, 7180, 7180, 7180, 7180, 7180, 7180, 7180, 7180, 7180, 7180, 158868, 158868, 158868, 158868, 158868, 158868, 158868, 158868, 158868, 158868, 158868, 158868, 158868, 4475, 4475, 4475, 4475, 4475, 4475, 4475, 4475, 23117, 23117, 23117, 23117, 23117, 23117, 23117, 23117, 23117, 23117, 23117, 23117, 23117, 23117, 23117, 23117, 23117, 23117, 23117, 20684, 20684, 20684, 20684, 20684, 20684, 20684, -432, -432, -432, -432, -432, -432, -432, -432, -432, -432, -432, -432, -432, -432, -432, -432, -432, -432, -432, -432, -432, -432, 47081, 47081, 47081, 47081, 47081, 47081, 47081, 47081, 47081, 47081, 47081, 47081, 47081, 47081, 47081, 47081, 47081, 47081, 47081, 47081, 47081, 177562, 177562, 177562, 177562, 177562, 177562, 177562, 177562, 177562, 177562, 177562, 177562, 177562, 177562, 177562, 177562, 177562, 177562, 177562, 267294, 267294, 267294, 267294, 267294, 267294, 267294, 267294, 267294, 267294, 267294, 267294, 267294, 267294, 267294, 267294, 267294, 267294, 267294, 267294, 267294, 267294, 267294, 267294, 267294, 267294, 267294, 267294, 267294, 267294, 267294, 267294, 267294, 267294, 267294, 267294, 267294, 267294, 267294, 267294, 267294, 267294, 267294, 267294, 267294, 12, 44, 44, 44, 44, 44, 44, 44]}],\n",
       "                        {\"geo\": {\"projection\": {\"type\": \"equirectangular\"}, \"showcoastlines\": false, \"showframe\": false}, \"template\": {\"data\": {\"bar\": [{\"error_x\": {\"color\": \"#2a3f5f\"}, \"error_y\": {\"color\": \"#2a3f5f\"}, \"marker\": {\"line\": {\"color\": \"#E5ECF6\", \"width\": 0.5}}, \"type\": \"bar\"}], \"barpolar\": [{\"marker\": {\"line\": {\"color\": \"#E5ECF6\", \"width\": 0.5}}, \"type\": \"barpolar\"}], \"carpet\": [{\"aaxis\": {\"endlinecolor\": \"#2a3f5f\", \"gridcolor\": \"white\", \"linecolor\": \"white\", \"minorgridcolor\": \"white\", \"startlinecolor\": \"#2a3f5f\"}, \"baxis\": {\"endlinecolor\": \"#2a3f5f\", \"gridcolor\": \"white\", \"linecolor\": \"white\", \"minorgridcolor\": \"white\", \"startlinecolor\": \"#2a3f5f\"}, \"type\": \"carpet\"}], \"choropleth\": [{\"colorbar\": {\"outlinewidth\": 0, \"ticks\": \"\"}, \"type\": \"choropleth\"}], \"contour\": [{\"colorbar\": {\"outlinewidth\": 0, \"ticks\": \"\"}, \"colorscale\": [[0.0, \"#0d0887\"], [0.1111111111111111, \"#46039f\"], [0.2222222222222222, \"#7201a8\"], [0.3333333333333333, \"#9c179e\"], [0.4444444444444444, \"#bd3786\"], [0.5555555555555556, \"#d8576b\"], [0.6666666666666666, \"#ed7953\"], [0.7777777777777778, \"#fb9f3a\"], [0.8888888888888888, \"#fdca26\"], [1.0, \"#f0f921\"]], \"type\": \"contour\"}], \"contourcarpet\": [{\"colorbar\": {\"outlinewidth\": 0, \"ticks\": \"\"}, \"type\": \"contourcarpet\"}], \"heatmap\": [{\"colorbar\": {\"outlinewidth\": 0, \"ticks\": \"\"}, \"colorscale\": [[0.0, \"#0d0887\"], [0.1111111111111111, \"#46039f\"], [0.2222222222222222, \"#7201a8\"], [0.3333333333333333, \"#9c179e\"], [0.4444444444444444, \"#bd3786\"], [0.5555555555555556, \"#d8576b\"], [0.6666666666666666, \"#ed7953\"], [0.7777777777777778, \"#fb9f3a\"], [0.8888888888888888, \"#fdca26\"], [1.0, \"#f0f921\"]], \"type\": \"heatmap\"}], \"heatmapgl\": [{\"colorbar\": {\"outlinewidth\": 0, \"ticks\": \"\"}, \"colorscale\": [[0.0, \"#0d0887\"], [0.1111111111111111, \"#46039f\"], [0.2222222222222222, \"#7201a8\"], [0.3333333333333333, \"#9c179e\"], [0.4444444444444444, \"#bd3786\"], [0.5555555555555556, \"#d8576b\"], [0.6666666666666666, \"#ed7953\"], [0.7777777777777778, \"#fb9f3a\"], [0.8888888888888888, \"#fdca26\"], [1.0, \"#f0f921\"]], \"type\": \"heatmapgl\"}], \"histogram\": [{\"marker\": {\"colorbar\": {\"outlinewidth\": 0, \"ticks\": \"\"}}, \"type\": \"histogram\"}], \"histogram2d\": [{\"colorbar\": {\"outlinewidth\": 0, \"ticks\": \"\"}, \"colorscale\": [[0.0, \"#0d0887\"], [0.1111111111111111, \"#46039f\"], [0.2222222222222222, \"#7201a8\"], [0.3333333333333333, \"#9c179e\"], [0.4444444444444444, \"#bd3786\"], [0.5555555555555556, \"#d8576b\"], [0.6666666666666666, \"#ed7953\"], [0.7777777777777778, \"#fb9f3a\"], [0.8888888888888888, \"#fdca26\"], [1.0, \"#f0f921\"]], \"type\": \"histogram2d\"}], \"histogram2dcontour\": [{\"colorbar\": {\"outlinewidth\": 0, \"ticks\": \"\"}, \"colorscale\": [[0.0, \"#0d0887\"], [0.1111111111111111, \"#46039f\"], [0.2222222222222222, \"#7201a8\"], [0.3333333333333333, \"#9c179e\"], [0.4444444444444444, \"#bd3786\"], [0.5555555555555556, \"#d8576b\"], [0.6666666666666666, \"#ed7953\"], [0.7777777777777778, \"#fb9f3a\"], [0.8888888888888888, \"#fdca26\"], [1.0, \"#f0f921\"]], \"type\": \"histogram2dcontour\"}], \"mesh3d\": [{\"colorbar\": {\"outlinewidth\": 0, \"ticks\": \"\"}, \"type\": \"mesh3d\"}], \"parcoords\": [{\"line\": {\"colorbar\": {\"outlinewidth\": 0, \"ticks\": \"\"}}, \"type\": \"parcoords\"}], \"scatter\": [{\"marker\": {\"colorbar\": {\"outlinewidth\": 0, \"ticks\": \"\"}}, \"type\": \"scatter\"}], \"scatter3d\": [{\"line\": {\"colorbar\": {\"outlinewidth\": 0, \"ticks\": \"\"}}, \"marker\": {\"colorbar\": {\"outlinewidth\": 0, \"ticks\": \"\"}}, \"type\": \"scatter3d\"}], \"scattercarpet\": [{\"marker\": {\"colorbar\": {\"outlinewidth\": 0, \"ticks\": \"\"}}, \"type\": \"scattercarpet\"}], \"scattergeo\": [{\"marker\": {\"colorbar\": {\"outlinewidth\": 0, \"ticks\": \"\"}}, \"type\": \"scattergeo\"}], \"scattergl\": [{\"marker\": {\"colorbar\": {\"outlinewidth\": 0, \"ticks\": \"\"}}, \"type\": \"scattergl\"}], \"scattermapbox\": [{\"marker\": {\"colorbar\": {\"outlinewidth\": 0, \"ticks\": \"\"}}, \"type\": \"scattermapbox\"}], \"scatterpolar\": [{\"marker\": {\"colorbar\": {\"outlinewidth\": 0, \"ticks\": \"\"}}, \"type\": \"scatterpolar\"}], \"scatterpolargl\": [{\"marker\": {\"colorbar\": {\"outlinewidth\": 0, \"ticks\": \"\"}}, \"type\": \"scatterpolargl\"}], \"scatterternary\": [{\"marker\": {\"colorbar\": {\"outlinewidth\": 0, \"ticks\": \"\"}}, \"type\": \"scatterternary\"}], \"surface\": [{\"colorbar\": {\"outlinewidth\": 0, \"ticks\": \"\"}, \"colorscale\": [[0.0, \"#0d0887\"], [0.1111111111111111, \"#46039f\"], [0.2222222222222222, \"#7201a8\"], [0.3333333333333333, \"#9c179e\"], [0.4444444444444444, \"#bd3786\"], [0.5555555555555556, \"#d8576b\"], [0.6666666666666666, \"#ed7953\"], [0.7777777777777778, \"#fb9f3a\"], [0.8888888888888888, \"#fdca26\"], [1.0, \"#f0f921\"]], \"type\": \"surface\"}], \"table\": [{\"cells\": {\"fill\": {\"color\": \"#EBF0F8\"}, \"line\": {\"color\": \"white\"}}, \"header\": {\"fill\": {\"color\": \"#C8D4E3\"}, \"line\": {\"color\": \"white\"}}, \"type\": \"table\"}]}, \"layout\": {\"annotationdefaults\": {\"arrowcolor\": \"#2a3f5f\", \"arrowhead\": 0, \"arrowwidth\": 1}, \"colorscale\": {\"diverging\": [[0, \"#8e0152\"], [0.1, \"#c51b7d\"], [0.2, \"#de77ae\"], [0.3, \"#f1b6da\"], [0.4, \"#fde0ef\"], [0.5, \"#f7f7f7\"], [0.6, \"#e6f5d0\"], [0.7, \"#b8e186\"], [0.8, \"#7fbc41\"], [0.9, \"#4d9221\"], [1, \"#276419\"]], \"sequential\": [[0.0, \"#0d0887\"], [0.1111111111111111, \"#46039f\"], [0.2222222222222222, \"#7201a8\"], [0.3333333333333333, \"#9c179e\"], [0.4444444444444444, \"#bd3786\"], [0.5555555555555556, \"#d8576b\"], [0.6666666666666666, \"#ed7953\"], [0.7777777777777778, \"#fb9f3a\"], [0.8888888888888888, \"#fdca26\"], [1.0, \"#f0f921\"]], \"sequentialminus\": [[0.0, \"#0d0887\"], [0.1111111111111111, \"#46039f\"], [0.2222222222222222, \"#7201a8\"], [0.3333333333333333, \"#9c179e\"], [0.4444444444444444, \"#bd3786\"], [0.5555555555555556, \"#d8576b\"], [0.6666666666666666, \"#ed7953\"], [0.7777777777777778, \"#fb9f3a\"], [0.8888888888888888, \"#fdca26\"], [1.0, \"#f0f921\"]]}, \"colorway\": [\"#636efa\", \"#EF553B\", \"#00cc96\", \"#ab63fa\", \"#FFA15A\", \"#19d3f3\", \"#FF6692\", \"#B6E880\", \"#FF97FF\", \"#FECB52\"], \"font\": {\"color\": \"#2a3f5f\"}, \"geo\": {\"bgcolor\": \"white\", \"lakecolor\": \"white\", \"landcolor\": \"#E5ECF6\", \"showlakes\": true, \"showland\": true, \"subunitcolor\": \"white\"}, \"hoverlabel\": {\"align\": \"left\"}, \"hovermode\": \"closest\", \"mapbox\": {\"style\": \"light\"}, \"paper_bgcolor\": \"white\", \"plot_bgcolor\": \"#E5ECF6\", \"polar\": {\"angularaxis\": {\"gridcolor\": \"white\", \"linecolor\": \"white\", \"ticks\": \"\"}, \"bgcolor\": \"#E5ECF6\", \"radialaxis\": {\"gridcolor\": \"white\", \"linecolor\": \"white\", \"ticks\": \"\"}}, \"scene\": {\"xaxis\": {\"backgroundcolor\": \"#E5ECF6\", \"gridcolor\": \"white\", \"gridwidth\": 2, \"linecolor\": \"white\", \"showbackground\": true, \"ticks\": \"\", \"zerolinecolor\": \"white\"}, \"yaxis\": {\"backgroundcolor\": \"#E5ECF6\", \"gridcolor\": \"white\", \"gridwidth\": 2, \"linecolor\": \"white\", \"showbackground\": true, \"ticks\": \"\", \"zerolinecolor\": \"white\"}, \"zaxis\": {\"backgroundcolor\": \"#E5ECF6\", \"gridcolor\": \"white\", \"gridwidth\": 2, \"linecolor\": \"white\", \"showbackground\": true, \"ticks\": \"\", \"zerolinecolor\": \"white\"}}, \"shapedefaults\": {\"line\": {\"color\": \"#2a3f5f\"}}, \"ternary\": {\"aaxis\": {\"gridcolor\": \"white\", \"linecolor\": \"white\", \"ticks\": \"\"}, \"baxis\": {\"gridcolor\": \"white\", \"linecolor\": \"white\", \"ticks\": \"\"}, \"bgcolor\": \"#E5ECF6\", \"caxis\": {\"gridcolor\": \"white\", \"linecolor\": \"white\", \"ticks\": \"\"}}, \"title\": {\"x\": 0.05}, \"xaxis\": {\"automargin\": true, \"gridcolor\": \"white\", \"linecolor\": \"white\", \"ticks\": \"\", \"zerolinecolor\": \"white\", \"zerolinewidth\": 2}, \"yaxis\": {\"automargin\": true, \"gridcolor\": \"white\", \"linecolor\": \"white\", \"ticks\": \"\", \"zerolinecolor\": \"white\", \"zerolinewidth\": 2}}}, \"title\": {\"text\": \"Regions\"}},\n",
       "                        {\"responsive\": true}\n",
       "                    ).then(function(){\n",
       "                            \n",
       "var gd = document.getElementById('83ec1463-c498-4a12-b100-60bb5348fb80');\n",
       "var x = new MutationObserver(function (mutations, observer) {{\n",
       "        var display = window.getComputedStyle(gd).display;\n",
       "        if (!display || display === 'none') {{\n",
       "            console.log([gd, 'removed!']);\n",
       "            Plotly.purge(gd);\n",
       "            observer.disconnect();\n",
       "        }}\n",
       "}});\n",
       "\n",
       "// Listen for the removal of the full notebook cells\n",
       "var notebookContainer = gd.closest('#notebook-container');\n",
       "if (notebookContainer) {{\n",
       "    x.observe(notebookContainer, {childList: true});\n",
       "}}\n",
       "\n",
       "// Listen for the clearing of the current output cell\n",
       "var outputEl = gd.closest('.output');\n",
       "if (outputEl) {{\n",
       "    x.observe(outputEl, {childList: true});\n",
       "}}\n",
       "\n",
       "                        })\n",
       "                };\n",
       "                });\n",
       "            </script>\n",
       "        </div>"
      ]
     },
     "metadata": {},
     "output_type": "display_data"
    }
   ],
   "source": [
    "#refugees \n",
    "\n",
    "\n",
    "df = code_tot.copy()\n",
    "\n",
    "fig = go.Figure(data=go.Choropleth(\n",
    "    locations = df['Code'],\n",
    "    z = df['waarde'],\n",
    "    text = df['Region'],\n",
    "    colorscale = 'Electric',\n",
    "    autocolorscale=False,\n",
    "    reversescale=True,\n",
    "    marker_line_color='white',\n",
    "    marker_line_width=0.5,\n",
    "))\n",
    "\n",
    "fig.update_layout(\n",
    "    title_text='Regions',\n",
    "    geo=dict(\n",
    "        showframe=False,\n",
    "        showcoastlines=False,\n",
    "        projection_type='equirectangular'\n",
    "    )\n",
    "    \n",
    ")\n",
    "\n",
    "fig.show()"
   ]
  },
  {
   "cell_type": "code",
   "execution_count": null,
   "metadata": {},
   "outputs": [],
   "source": []
  }
 ],
 "metadata": {
  "kernelspec": {
   "display_name": "Python 3",
   "language": "python",
   "name": "python3"
  },
  "language_info": {
   "codemirror_mode": {
    "name": "ipython",
    "version": 3
   },
   "file_extension": ".py",
   "mimetype": "text/x-python",
   "name": "python",
   "nbconvert_exporter": "python",
   "pygments_lexer": "ipython3",
   "version": "3.7.4"
  }
 },
 "nbformat": 4,
 "nbformat_minor": 2
}
